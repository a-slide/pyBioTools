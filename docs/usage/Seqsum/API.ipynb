{
 "cells": [
  {
   "cell_type": "markdown",
   "metadata": {},
   "source": [
    "# Seqsum API Usage"
   ]
  },
  {
   "cell_type": "markdown",
   "metadata": {},
   "source": [
    "## Import package"
   ]
  },
  {
   "cell_type": "code",
   "execution_count": 1,
   "metadata": {
    "ExecuteTime": {
     "end_time": "2021-01-19T16:06:09.796681Z",
     "start_time": "2021-01-19T16:06:09.736254Z"
    },
    "init_cell": true
   },
   "outputs": [],
   "source": [
    "from pyBioTools import Seqsum\n",
    "from pyBioTools.common import jhelp, head"
   ]
  },
  {
   "cell_type": "markdown",
   "metadata": {},
   "source": [
    "## Merge"
   ]
  },
  {
   "cell_type": "code",
   "execution_count": 4,
   "metadata": {
    "ExecuteTime": {
     "end_time": "2021-01-19T15:29:54.787220Z",
     "start_time": "2021-01-19T15:29:54.752165Z"
    },
    "scrolled": false
   },
   "outputs": [
    {
     "data": {
      "text/markdown": [
       "**Merge** (input_fn, output_fn, old_filename_synthax, verbose, quiet, progress, kwargs)\n",
       "\n",
       "\n",
       "\n",
       "---\n",
       "\n",
       "* **input_fn** (required) [list(str)]\n",
       "\n",
       "Sequencing summary file path or directory containing Sequencing summary file  or list of files, or regex or list of regex. It is quite flexible. Files can also be gzipped\n",
       "\n",
       "* **output_fn** (required) [str]\n",
       "\n",
       "Destination sequencing summary file. Automatically gzipped if the .gz extension is found\n",
       "\n",
       "* **old_filename_synthax** (default: False) [bool]\n",
       "\n",
       "Replace the `filename_fast5` field by `filename` as in older versions. Useful for nanopolish index compatibility\n",
       "\n",
       "* **verbose** (default: False) [bool]\n",
       "\n",
       "* **quiet** (default: False) [bool]\n",
       "\n",
       "* **progress** (default: False) [bool]\n",
       "\n",
       "* **kwargs**\n",
       "\n"
      ],
      "text/plain": [
       "<IPython.core.display.Markdown object>"
      ]
     },
     "metadata": {},
     "output_type": "display_data"
    }
   ],
   "source": [
    "jhelp(Seqsum.Merge)"
   ]
  },
  {
   "cell_type": "markdown",
   "metadata": {},
   "source": [
    "### Basic usage"
   ]
  },
  {
   "cell_type": "code",
   "execution_count": 5,
   "metadata": {
    "ExecuteTime": {
     "end_time": "2021-01-19T15:29:58.040373Z",
     "start_time": "2021-01-19T15:29:58.004853Z"
    },
    "scrolled": true
   },
   "outputs": [
    {
     "name": "stderr",
     "output_type": "stream",
     "text": [
      "\u001b[01;34m## Running Seqsum Merge ##\u001b[0m\n",
      "\u001b[32m\tParsing reads\u001b[0m\n",
      "\u001b[37m\t[DEBUG]: Reading file ./data/seqsum_new1.tsv\u001b[0m\n",
      "\u001b[37m\t[DEBUG]: End of file ./data/seqsum_new1.tsv\u001b[0m\n",
      "\u001b[37m\t[DEBUG]: Reading file ./data/seqsum_new2.tsv\u001b[0m\n",
      "\u001b[37m\t[DEBUG]: End of file ./data/seqsum_new2.tsv\u001b[0m\n",
      "\u001b[32m\tRead counts summary\u001b[0m\n",
      "\u001b[32m\t Files found: 2\u001b[0m\n",
      "\u001b[32m\t Valid files: 2\u001b[0m\n"
     ]
    },
    {
     "name": "stdout",
     "output_type": "stream",
     "text": [
      "Only 19 lines in the file\n",
      "filename_fastq                 filename_fast5                 read_id                        run_id                         channel mux start_time duration num_events passes_filtering template_start num_events_template template_duration sequence_length_template mean_qscore_template strand_score_temp...\n",
      "PAF25252_pass_397b0214_0.fastq PAF25252_pass_397b0214_0.fast5 5c068f48-bb83-4458-9aac-49f6e2 397b0214f8b495477015f88b3c3d7b 1563    1   59.920000  1.032000 825        TRUE             59.976250      780                 0.975750          449                      12.316098            0.000000         ...\n",
      "PAF25252_fail_397b0214_0.fastq PAF25252_fail_397b0214_0.fast5 2e6bdc7f-fdd3-497f-91ea-06ad2b 397b0214f8b495477015f88b3c3d7b 1533    1   60.045000  1.475000 1180       FALSE            60.351250      935                 1.168750          534                      4.257434             0.000000         ...\n",
      "PAF25252_pass_397b0214_0.fastq PAF25252_pass_397b0214_0.fast5 63600975-81d1-4613-bd24-286885 397b0214f8b495477015f88b3c3d7b 2726    1   59.956500  1.429000 1143       TRUE             60.476500      727                 0.909000          372                      13.115662            0.000000         ...\n",
      "PAF25252_pass_397b0214_0.fastq PAF25252_pass_397b0214_0.fast5 81b3a753-0515-4c7d-ab5b-5e8a05 397b0214f8b495477015f88b3c3d7b 2912    1   60.213000  0.992500 794        TRUE             60.320500      708                 0.885000          326                      9.516800             0.000000         ...\n",
      "PAF25252_pass_397b0214_0.fastq PAF25252_pass_397b0214_0.fast5 f679b2cc-4b13-413a-bef9-0ca6b6 397b0214f8b495477015f88b3c3d7b 2994    1   60.464000  1.078250 862        TRUE             60.674000      694                 0.868250          336                      14.441545            0.000000         ...\n",
      "PAF25252_pass_397b0214_0.fastq PAF25252_pass_397b0214_0.fast5 84f25d0b-23d8-4fbd-ac58-a57d72 397b0214f8b495477015f88b3c3d7b 2881    1   60.544250  1.349750 1079       TRUE             60.980500      730                 0.913500          351                      10.576068            0.000000         ...\n",
      "PAF25252_pass_397b0214_0.fastq PAF25252_pass_397b0214_0.fast5 2563d8ac-4eaa-4db1-b730-9fb83c 397b0214f8b495477015f88b3c3d7b 2580    1   60.139750  1.065750 852        TRUE             60.424750      624                 0.780750          326                      10.828456            0.000000         ...\n",
      "PAF25252_pass_397b0214_0.fastq PAF25252_pass_397b0214_0.fast5 411f5895-f6ff-46e3-b92d-f99a3d 397b0214f8b495477015f88b3c3d7b 2742    1   60.923750  0.818250 654        TRUE             61.008750      586                 0.733250          333                      9.699732             0.000000         ...\n",
      "PAF25252_pass_397b0214_0.fastq PAF25252_pass_397b0214_0.fast5 629498ca-9ae3-46af-a195-7645b3 397b0214f8b495477015f88b3c3d7b 1718    1   60.640750  1.332500 1066       TRUE             60.992000      785                 0.981250          453                      13.001200            0.000000         ...\n",
      "PAF25252_pass_397b0214_0.fastq PAF25252_pass_397b0214_0.fast5 5c068f48-bb83-4458-9aac-49f6e2 397b0214f8b495477015f88b3c3d7b 1563    1   59.920000  1.032000 825        TRUE             59.976250      780                 0.975750          449                      12.316098            0.000000         ...\n",
      "PAF25252_fail_397b0214_0.fastq PAF25252_fail_397b0214_0.fast5 2e6bdc7f-fdd3-497f-91ea-06ad2b 397b0214f8b495477015f88b3c3d7b 1533    1   60.045000  1.475000 1180       FALSE            60.351250      935                 1.168750          534                      4.257434             0.000000         ...\n",
      "PAF25252_pass_397b0214_0.fastq PAF25252_pass_397b0214_0.fast5 63600975-81d1-4613-bd24-286885 397b0214f8b495477015f88b3c3d7b 2726    1   59.956500  1.429000 1143       TRUE             60.476500      727                 0.909000          372                      13.115662            0.000000         ...\n",
      "PAF25252_pass_397b0214_0.fastq PAF25252_pass_397b0214_0.fast5 81b3a753-0515-4c7d-ab5b-5e8a05 397b0214f8b495477015f88b3c3d7b 2912    1   60.213000  0.992500 794        TRUE             60.320500      708                 0.885000          326                      9.516800             0.000000         ...\n",
      "PAF25252_pass_397b0214_0.fastq PAF25252_pass_397b0214_0.fast5 f679b2cc-4b13-413a-bef9-0ca6b6 397b0214f8b495477015f88b3c3d7b 2994    1   60.464000  1.078250 862        TRUE             60.674000      694                 0.868250          336                      14.441545            0.000000         ...\n",
      "PAF25252_pass_397b0214_0.fastq PAF25252_pass_397b0214_0.fast5 84f25d0b-23d8-4fbd-ac58-a57d72 397b0214f8b495477015f88b3c3d7b 2881    1   60.544250  1.349750 1079       TRUE             60.980500      730                 0.913500          351                      10.576068            0.000000         ...\n",
      "PAF25252_pass_397b0214_0.fastq PAF25252_pass_397b0214_0.fast5 2563d8ac-4eaa-4db1-b730-9fb83c 397b0214f8b495477015f88b3c3d7b 2580    1   60.139750  1.065750 852        TRUE             60.424750      624                 0.780750          326                      10.828456            0.000000         ...\n",
      "PAF25252_pass_397b0214_0.fastq PAF25252_pass_397b0214_0.fast5 411f5895-f6ff-46e3-b92d-f99a3d 397b0214f8b495477015f88b3c3d7b 2742    1   60.923750  0.818250 654        TRUE             61.008750      586                 0.733250          333                      9.699732             0.000000         ...\n",
      "PAF25252_pass_397b0214_0.fastq PAF25252_pass_397b0214_0.fast5 629498ca-9ae3-46af-a195-7645b3 397b0214f8b495477015f88b3c3d7b 1718    1   60.640750  1.332500 1066       TRUE             60.992000      785                 0.981250          453                      13.001200            0.000000         ...\n",
      "\n"
     ]
    }
   ],
   "source": [
    "Seqsum.Merge ([\"./data/seqsum_new1.tsv\", \"./data/seqsum_new2.tsv\"], \"./output/seqsum_merged_1.tsv\", verbose=True)\n",
    "head (\"./output/seqsum_merged_1.tsv\", 20)"
   ]
  },
  {
   "cell_type": "markdown",
   "metadata": {},
   "source": [
    "### Using a regex instead"
   ]
  },
  {
   "cell_type": "code",
   "execution_count": 6,
   "metadata": {
    "ExecuteTime": {
     "end_time": "2021-01-19T15:30:00.113735Z",
     "start_time": "2021-01-19T15:30:00.091027Z"
    },
    "scrolled": true
   },
   "outputs": [
    {
     "name": "stderr",
     "output_type": "stream",
     "text": [
      "\u001b[01;34m## Running Seqsum Merge ##\u001b[0m\n",
      "\u001b[32m\tParsing reads\u001b[0m\n",
      "\u001b[37m\t[DEBUG]: Reading file ./data/seqsum_new2.tsv\u001b[0m\n",
      "\u001b[37m\t[DEBUG]: End of file ./data/seqsum_new2.tsv\u001b[0m\n",
      "\u001b[37m\t[DEBUG]: Reading file ./data/seqsum_new1.tsv\u001b[0m\n",
      "\u001b[37m\t[DEBUG]: End of file ./data/seqsum_new1.tsv\u001b[0m\n",
      "\u001b[32m\tRead counts summary\u001b[0m\n",
      "\u001b[32m\t Files found: 2\u001b[0m\n",
      "\u001b[32m\t Valid files: 2\u001b[0m\n"
     ]
    },
    {
     "name": "stdout",
     "output_type": "stream",
     "text": [
      "Only 19 lines in the file\n",
      "filename_fastq                 filename_fast5                 read_id                        run_id                         channel mux start_time duration num_events passes_filtering template_start num_events_template template_duration sequence_length_template mean_qscore_template strand_score_temp...\n",
      "PAF25252_pass_397b0214_0.fastq PAF25252_pass_397b0214_0.fast5 5c068f48-bb83-4458-9aac-49f6e2 397b0214f8b495477015f88b3c3d7b 1563    1   59.920000  1.032000 825        TRUE             59.976250      780                 0.975750          449                      12.316098            0.000000         ...\n",
      "PAF25252_fail_397b0214_0.fastq PAF25252_fail_397b0214_0.fast5 2e6bdc7f-fdd3-497f-91ea-06ad2b 397b0214f8b495477015f88b3c3d7b 1533    1   60.045000  1.475000 1180       FALSE            60.351250      935                 1.168750          534                      4.257434             0.000000         ...\n",
      "PAF25252_pass_397b0214_0.fastq PAF25252_pass_397b0214_0.fast5 63600975-81d1-4613-bd24-286885 397b0214f8b495477015f88b3c3d7b 2726    1   59.956500  1.429000 1143       TRUE             60.476500      727                 0.909000          372                      13.115662            0.000000         ...\n",
      "PAF25252_pass_397b0214_0.fastq PAF25252_pass_397b0214_0.fast5 81b3a753-0515-4c7d-ab5b-5e8a05 397b0214f8b495477015f88b3c3d7b 2912    1   60.213000  0.992500 794        TRUE             60.320500      708                 0.885000          326                      9.516800             0.000000         ...\n",
      "PAF25252_pass_397b0214_0.fastq PAF25252_pass_397b0214_0.fast5 f679b2cc-4b13-413a-bef9-0ca6b6 397b0214f8b495477015f88b3c3d7b 2994    1   60.464000  1.078250 862        TRUE             60.674000      694                 0.868250          336                      14.441545            0.000000         ...\n",
      "PAF25252_pass_397b0214_0.fastq PAF25252_pass_397b0214_0.fast5 84f25d0b-23d8-4fbd-ac58-a57d72 397b0214f8b495477015f88b3c3d7b 2881    1   60.544250  1.349750 1079       TRUE             60.980500      730                 0.913500          351                      10.576068            0.000000         ...\n",
      "PAF25252_pass_397b0214_0.fastq PAF25252_pass_397b0214_0.fast5 2563d8ac-4eaa-4db1-b730-9fb83c 397b0214f8b495477015f88b3c3d7b 2580    1   60.139750  1.065750 852        TRUE             60.424750      624                 0.780750          326                      10.828456            0.000000         ...\n",
      "PAF25252_pass_397b0214_0.fastq PAF25252_pass_397b0214_0.fast5 411f5895-f6ff-46e3-b92d-f99a3d 397b0214f8b495477015f88b3c3d7b 2742    1   60.923750  0.818250 654        TRUE             61.008750      586                 0.733250          333                      9.699732             0.000000         ...\n",
      "PAF25252_pass_397b0214_0.fastq PAF25252_pass_397b0214_0.fast5 629498ca-9ae3-46af-a195-7645b3 397b0214f8b495477015f88b3c3d7b 1718    1   60.640750  1.332500 1066       TRUE             60.992000      785                 0.981250          453                      13.001200            0.000000         ...\n",
      "PAF25252_pass_397b0214_0.fastq PAF25252_pass_397b0214_0.fast5 5c068f48-bb83-4458-9aac-49f6e2 397b0214f8b495477015f88b3c3d7b 1563    1   59.920000  1.032000 825        TRUE             59.976250      780                 0.975750          449                      12.316098            0.000000         ...\n",
      "PAF25252_fail_397b0214_0.fastq PAF25252_fail_397b0214_0.fast5 2e6bdc7f-fdd3-497f-91ea-06ad2b 397b0214f8b495477015f88b3c3d7b 1533    1   60.045000  1.475000 1180       FALSE            60.351250      935                 1.168750          534                      4.257434             0.000000         ...\n",
      "PAF25252_pass_397b0214_0.fastq PAF25252_pass_397b0214_0.fast5 63600975-81d1-4613-bd24-286885 397b0214f8b495477015f88b3c3d7b 2726    1   59.956500  1.429000 1143       TRUE             60.476500      727                 0.909000          372                      13.115662            0.000000         ...\n",
      "PAF25252_pass_397b0214_0.fastq PAF25252_pass_397b0214_0.fast5 81b3a753-0515-4c7d-ab5b-5e8a05 397b0214f8b495477015f88b3c3d7b 2912    1   60.213000  0.992500 794        TRUE             60.320500      708                 0.885000          326                      9.516800             0.000000         ...\n",
      "PAF25252_pass_397b0214_0.fastq PAF25252_pass_397b0214_0.fast5 f679b2cc-4b13-413a-bef9-0ca6b6 397b0214f8b495477015f88b3c3d7b 2994    1   60.464000  1.078250 862        TRUE             60.674000      694                 0.868250          336                      14.441545            0.000000         ...\n",
      "PAF25252_pass_397b0214_0.fastq PAF25252_pass_397b0214_0.fast5 84f25d0b-23d8-4fbd-ac58-a57d72 397b0214f8b495477015f88b3c3d7b 2881    1   60.544250  1.349750 1079       TRUE             60.980500      730                 0.913500          351                      10.576068            0.000000         ...\n",
      "PAF25252_pass_397b0214_0.fastq PAF25252_pass_397b0214_0.fast5 2563d8ac-4eaa-4db1-b730-9fb83c 397b0214f8b495477015f88b3c3d7b 2580    1   60.139750  1.065750 852        TRUE             60.424750      624                 0.780750          326                      10.828456            0.000000         ...\n",
      "PAF25252_pass_397b0214_0.fastq PAF25252_pass_397b0214_0.fast5 411f5895-f6ff-46e3-b92d-f99a3d 397b0214f8b495477015f88b3c3d7b 2742    1   60.923750  0.818250 654        TRUE             61.008750      586                 0.733250          333                      9.699732             0.000000         ...\n",
      "PAF25252_pass_397b0214_0.fastq PAF25252_pass_397b0214_0.fast5 629498ca-9ae3-46af-a195-7645b3 397b0214f8b495477015f88b3c3d7b 1718    1   60.640750  1.332500 1066       TRUE             60.992000      785                 0.981250          453                      13.001200            0.000000         ...\n",
      "\n"
     ]
    }
   ],
   "source": [
    "Seqsum.Merge ([\"./data/seqsum*\"], \"./output/seqsum_merged_2.tsv.gz\", verbose=True)\n",
    "head (\"./output/seqsum_merged_2.tsv.gz\", 20)"
   ]
  },
  {
   "cell_type": "markdown",
   "metadata": {},
   "source": [
    "### Files with non-matching header are skipped"
   ]
  },
  {
   "cell_type": "code",
   "execution_count": 8,
   "metadata": {
    "ExecuteTime": {
     "end_time": "2021-01-19T15:30:29.192077Z",
     "start_time": "2021-01-19T15:30:29.126030Z"
    }
   },
   "outputs": [
    {
     "name": "stderr",
     "output_type": "stream",
     "text": [
      "\u001b[01;34m## Running Seqsum Merge ##\u001b[0m\n",
      "\u001b[32m\tParsing reads\u001b[0m\n",
      "\u001b[37m\t[DEBUG]: Reading file ./data/seqsum_new2.tsv\u001b[0m\n",
      "\u001b[37m\t[DEBUG]: End of file ./data/seqsum_new2.tsv\u001b[0m\n",
      "\u001b[37m\t[DEBUG]: Reading file ./data/Guppy-basecall-1D-DNA_sequencing_summary.txt.gz\u001b[0m\n",
      "\u001b[01;31mERROR: Header of file `./data/Guppy-basecall-1D-DNA_sequencing_summary.txt.gz` is not consistant\u001b[0m\n",
      "\u001b[37m\t[DEBUG]: Skipping file ./data/Guppy-basecall-1D-DNA_sequencing_summary.txt.gz\u001b[0m\n",
      "\u001b[37m\t[DEBUG]: Reading file ./data/Guppy-2.1.3_basecall-1D-DNA_sequencing_summary.txt.gz\u001b[0m\n",
      "\u001b[01;31mERROR: Header of file `./data/Guppy-2.1.3_basecall-1D-DNA_sequencing_summary.txt.gz` is not consistant\u001b[0m\n",
      "\u001b[37m\t[DEBUG]: Skipping file ./data/Guppy-2.1.3_basecall-1D-DNA_sequencing_summary.txt.gz\u001b[0m\n",
      "\u001b[37m\t[DEBUG]: Reading file ./data/seqsum_new1.tsv\u001b[0m\n",
      "\u001b[37m\t[DEBUG]: End of file ./data/seqsum_new1.tsv\u001b[0m\n",
      "\u001b[37m\t[DEBUG]: Reading file ./data/Guppy-2.2.4-basecall-1D-DNA_sequencing_summary+barcode.txt.gz\u001b[0m\n",
      "\u001b[01;31mERROR: Header of file `./data/Guppy-2.2.4-basecall-1D-DNA_sequencing_summary+barcode.txt.gz` is not consistant\u001b[0m\n",
      "\u001b[37m\t[DEBUG]: Skipping file ./data/Guppy-2.2.4-basecall-1D-DNA_sequencing_summary+barcode.txt.gz\u001b[0m\n",
      "\u001b[37m\t[DEBUG]: Reading file ./data/Guppy-2.1.3_basecall-1D-RNA_sequencing_summary.txt.gz\u001b[0m\n",
      "\u001b[01;31mERROR: Header of file `./data/Guppy-2.1.3_basecall-1D-RNA_sequencing_summary.txt.gz` is not consistant\u001b[0m\n",
      "\u001b[37m\t[DEBUG]: Skipping file ./data/Guppy-2.1.3_basecall-1D-RNA_sequencing_summary.txt.gz\u001b[0m\n",
      "\u001b[32m\tRead counts summary\u001b[0m\n",
      "\u001b[32m\t Files found: 6\u001b[0m\n",
      "\u001b[32m\t Invalid files: 4\u001b[0m\n",
      "\u001b[32m\t Valid files: 2\u001b[0m\n"
     ]
    },
    {
     "name": "stdout",
     "output_type": "stream",
     "text": [
      "Only 19 lines in the file\n",
      "filename_fastq                 filename_fast5                 read_id                        run_id                         channel mux start_time duration num_events passes_filtering template_start num_events_template template_duration sequence_length_template mean_qscore_template strand_score_temp...\n",
      "PAF25252_pass_397b0214_0.fastq PAF25252_pass_397b0214_0.fast5 5c068f48-bb83-4458-9aac-49f6e2 397b0214f8b495477015f88b3c3d7b 1563    1   59.920000  1.032000 825        TRUE             59.976250      780                 0.975750          449                      12.316098            0.000000         ...\n",
      "PAF25252_fail_397b0214_0.fastq PAF25252_fail_397b0214_0.fast5 2e6bdc7f-fdd3-497f-91ea-06ad2b 397b0214f8b495477015f88b3c3d7b 1533    1   60.045000  1.475000 1180       FALSE            60.351250      935                 1.168750          534                      4.257434             0.000000         ...\n",
      "PAF25252_pass_397b0214_0.fastq PAF25252_pass_397b0214_0.fast5 63600975-81d1-4613-bd24-286885 397b0214f8b495477015f88b3c3d7b 2726    1   59.956500  1.429000 1143       TRUE             60.476500      727                 0.909000          372                      13.115662            0.000000         ...\n",
      "PAF25252_pass_397b0214_0.fastq PAF25252_pass_397b0214_0.fast5 81b3a753-0515-4c7d-ab5b-5e8a05 397b0214f8b495477015f88b3c3d7b 2912    1   60.213000  0.992500 794        TRUE             60.320500      708                 0.885000          326                      9.516800             0.000000         ...\n",
      "PAF25252_pass_397b0214_0.fastq PAF25252_pass_397b0214_0.fast5 f679b2cc-4b13-413a-bef9-0ca6b6 397b0214f8b495477015f88b3c3d7b 2994    1   60.464000  1.078250 862        TRUE             60.674000      694                 0.868250          336                      14.441545            0.000000         ...\n",
      "PAF25252_pass_397b0214_0.fastq PAF25252_pass_397b0214_0.fast5 84f25d0b-23d8-4fbd-ac58-a57d72 397b0214f8b495477015f88b3c3d7b 2881    1   60.544250  1.349750 1079       TRUE             60.980500      730                 0.913500          351                      10.576068            0.000000         ...\n",
      "PAF25252_pass_397b0214_0.fastq PAF25252_pass_397b0214_0.fast5 2563d8ac-4eaa-4db1-b730-9fb83c 397b0214f8b495477015f88b3c3d7b 2580    1   60.139750  1.065750 852        TRUE             60.424750      624                 0.780750          326                      10.828456            0.000000         ...\n",
      "PAF25252_pass_397b0214_0.fastq PAF25252_pass_397b0214_0.fast5 411f5895-f6ff-46e3-b92d-f99a3d 397b0214f8b495477015f88b3c3d7b 2742    1   60.923750  0.818250 654        TRUE             61.008750      586                 0.733250          333                      9.699732             0.000000         ...\n",
      "PAF25252_pass_397b0214_0.fastq PAF25252_pass_397b0214_0.fast5 629498ca-9ae3-46af-a195-7645b3 397b0214f8b495477015f88b3c3d7b 1718    1   60.640750  1.332500 1066       TRUE             60.992000      785                 0.981250          453                      13.001200            0.000000         ...\n",
      "PAF25252_pass_397b0214_0.fastq PAF25252_pass_397b0214_0.fast5 5c068f48-bb83-4458-9aac-49f6e2 397b0214f8b495477015f88b3c3d7b 1563    1   59.920000  1.032000 825        TRUE             59.976250      780                 0.975750          449                      12.316098            0.000000         ...\n",
      "PAF25252_fail_397b0214_0.fastq PAF25252_fail_397b0214_0.fast5 2e6bdc7f-fdd3-497f-91ea-06ad2b 397b0214f8b495477015f88b3c3d7b 1533    1   60.045000  1.475000 1180       FALSE            60.351250      935                 1.168750          534                      4.257434             0.000000         ...\n",
      "PAF25252_pass_397b0214_0.fastq PAF25252_pass_397b0214_0.fast5 63600975-81d1-4613-bd24-286885 397b0214f8b495477015f88b3c3d7b 2726    1   59.956500  1.429000 1143       TRUE             60.476500      727                 0.909000          372                      13.115662            0.000000         ...\n",
      "PAF25252_pass_397b0214_0.fastq PAF25252_pass_397b0214_0.fast5 81b3a753-0515-4c7d-ab5b-5e8a05 397b0214f8b495477015f88b3c3d7b 2912    1   60.213000  0.992500 794        TRUE             60.320500      708                 0.885000          326                      9.516800             0.000000         ...\n",
      "PAF25252_pass_397b0214_0.fastq PAF25252_pass_397b0214_0.fast5 f679b2cc-4b13-413a-bef9-0ca6b6 397b0214f8b495477015f88b3c3d7b 2994    1   60.464000  1.078250 862        TRUE             60.674000      694                 0.868250          336                      14.441545            0.000000         ...\n",
      "PAF25252_pass_397b0214_0.fastq PAF25252_pass_397b0214_0.fast5 84f25d0b-23d8-4fbd-ac58-a57d72 397b0214f8b495477015f88b3c3d7b 2881    1   60.544250  1.349750 1079       TRUE             60.980500      730                 0.913500          351                      10.576068            0.000000         ...\n",
      "PAF25252_pass_397b0214_0.fastq PAF25252_pass_397b0214_0.fast5 2563d8ac-4eaa-4db1-b730-9fb83c 397b0214f8b495477015f88b3c3d7b 2580    1   60.139750  1.065750 852        TRUE             60.424750      624                 0.780750          326                      10.828456            0.000000         ...\n",
      "PAF25252_pass_397b0214_0.fastq PAF25252_pass_397b0214_0.fast5 411f5895-f6ff-46e3-b92d-f99a3d 397b0214f8b495477015f88b3c3d7b 2742    1   60.923750  0.818250 654        TRUE             61.008750      586                 0.733250          333                      9.699732             0.000000         ...\n",
      "PAF25252_pass_397b0214_0.fastq PAF25252_pass_397b0214_0.fast5 629498ca-9ae3-46af-a195-7645b3 397b0214f8b495477015f88b3c3d7b 1718    1   60.640750  1.332500 1066       TRUE             60.992000      785                 0.981250          453                      13.001200            0.000000         ...\n",
      "\n"
     ]
    }
   ],
   "source": [
    "Seqsum.Merge (\"./data/*\", \"./output/seqsum_merged_3.tsv.gz\", verbose=True)\n",
    "head (\"./output/seqsum_merged_3.tsv.gz\", 20)"
   ]
  }
 ],
 "metadata": {
  "celltoolbar": "Initialization Cell",
  "hide_input": false,
  "kernelspec": {
   "display_name": "Python [conda env:pyBioTools]",
   "language": "python",
   "name": "conda-env-pyBioTools-py"
  },
  "language_info": {
   "codemirror_mode": {
    "name": "ipython",
    "version": 3
   },
   "file_extension": ".py",
   "mimetype": "text/x-python",
   "name": "python",
   "nbconvert_exporter": "python",
   "pygments_lexer": "ipython3",
   "version": "3.7.9"
  }
 },
 "nbformat": 4,
 "nbformat_minor": 2
}
