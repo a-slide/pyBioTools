{
 "cells": [
  {
   "cell_type": "markdown",
   "metadata": {},
   "source": [
    "# Alignment CLI Usage"
   ]
  },
  {
   "cell_type": "markdown",
   "metadata": {},
   "source": [
    "## Activate virtual environment"
   ]
  },
  {
   "cell_type": "code",
   "execution_count": 3,
   "metadata": {
    "ExecuteTime": {
     "end_time": "2019-05-30T15:10:37.418878Z",
     "start_time": "2019-05-30T15:10:36.732394Z"
    }
   },
   "outputs": [
    {
     "name": "stdout",
     "output_type": "stream",
     "text": [
      "(pyBioTools) "
     ]
    },
    {
     "ename": "",
     "evalue": "1",
     "output_type": "error",
     "traceback": []
    }
   ],
   "source": [
    "# Using virtualenvwrapper here but can also be done with Conda \n",
    "workon pyBioTools"
   ]
  },
  {
   "cell_type": "markdown",
   "metadata": {},
   "source": [
    "## index_reads"
   ]
  },
  {
   "cell_type": "markdown",
   "metadata": {},
   "source": [
    "### Get help"
   ]
  },
  {
   "cell_type": "code",
   "execution_count": 4,
   "metadata": {
    "ExecuteTime": {
     "end_time": "2019-05-30T15:10:39.105281Z",
     "start_time": "2019-05-30T15:10:38.756182Z"
    }
   },
   "outputs": [
    {
     "name": "stdout",
     "output_type": "stream",
     "text": [
      "usage: pyBioTools Alignment index_reads [-h] -b BAM_FN [-m MIN_MAPQ] [-u] [-s]\n",
      "                                        [-p] [-v | -q]\n",
      "\n",
      "Index reads found in a coordinated sorted bam file by read_id. The created\n",
      "index file can be used to randon access the alignment file per read_id\n",
      "\n",
      "optional arguments:\n",
      "  -h, --help            show this help message and exit\n",
      "  -b BAM_FN, --bam_fn BAM_FN\n",
      "                        Path to the bam file to index [str]\n",
      "  -m MIN_MAPQ, --min_mapq MIN_MAPQ\n",
      "                        Minimal mapq quality of a read to be included in the\n",
      "                        index (default: 0) [int]\n",
      "  -u, --keep_unmapped   Unmapped reads are included in the index (default:\n",
      "                        False) [None]\n",
      "  -s, --keep_secondary  Secondary alignment are included in the index\n",
      "                        (default: False) [None]\n",
      "  -p, --keep_supplementary\n",
      "                        Supplementary alignment are included in the index\n",
      "                        (default: False) [None]\n",
      "  -v, --verbose         Increase verbosity (default: False)\n",
      "  -q, --quiet           Reduce verbosity (default: False)\n",
      "(pyBioTools) "
     ]
    },
    {
     "ename": "",
     "evalue": "1",
     "output_type": "error",
     "traceback": []
    }
   ],
   "source": [
    "pyBioTools Alignment index_reads -h"
   ]
  },
  {
   "cell_type": "markdown",
   "metadata": {},
   "source": [
    "### Basic usage"
   ]
  },
  {
   "cell_type": "code",
   "execution_count": 5,
   "metadata": {
    "ExecuteTime": {
     "end_time": "2019-05-30T15:10:41.923167Z",
     "start_time": "2019-05-30T15:10:40.972361Z"
    },
    "scrolled": true
   },
   "outputs": [
    {
     "name": "stdout",
     "output_type": "stream",
     "text": [
      "Checking Bam file\n",
      "Parsing reads\n",
      "13684 Reads [00:00, 21665.10 Reads/s]\n",
      "(pyBioTools) "
     ]
    },
    {
     "ename": "",
     "evalue": "1",
     "output_type": "error",
     "traceback": []
    }
   ],
   "source": [
    "pyBioTools Alignment index_reads -b ./data/sample_1.bam"
   ]
  },
  {
   "cell_type": "markdown",
   "metadata": {},
   "source": [
    "### Excluding reads from index"
   ]
  },
  {
   "cell_type": "code",
   "execution_count": 9,
   "metadata": {
    "ExecuteTime": {
     "end_time": "2019-05-30T15:45:37.962694Z",
     "start_time": "2019-05-30T15:45:37.018443Z"
    },
    "scrolled": false
   },
   "outputs": [
    {
     "name": "stdout",
     "output_type": "stream",
     "text": [
      "Checking Bam file\n",
      "Parsing reads\n",
      "13684 Reads [00:00, 22104.73 Reads/s]\n",
      "\n",
      "Read counts summary\n",
      "\tretained\n",
      "\t\tprimary: 9,692\n",
      "\t\tsecondary: 1,496\n",
      "\tskipped\n",
      "\t\tunmapped: 1,416\n",
      "\t\tlow_mapq: 892\n",
      "\t\tsupplementary: 188\n",
      "\n",
      "(pyBioTools) "
     ]
    },
    {
     "ename": "",
     "evalue": "1",
     "output_type": "error",
     "traceback": []
    }
   ],
   "source": [
    "pyBioTools Alignment index_reads -b ./data/sample_1.bam --verbose --min_mapq 50 --keep_secondary"
   ]
  },
  {
   "cell_type": "markdown",
   "metadata": {},
   "source": [
    "## sample_reads"
   ]
  },
  {
   "cell_type": "markdown",
   "metadata": {},
   "source": [
    "### Get help"
   ]
  },
  {
   "cell_type": "code",
   "execution_count": 10,
   "metadata": {
    "ExecuteTime": {
     "end_time": "2019-05-30T15:46:51.304655Z",
     "start_time": "2019-05-30T15:46:50.967152Z"
    },
    "scrolled": false
   },
   "outputs": [
    {
     "name": "stdout",
     "output_type": "stream",
     "text": [
      "usage: pyBioTools Alignment sample_reads [-h] -b BAM_FN [-f OUT_FOLDER]\n",
      "                                         [-p OUT_PREFIX] [-r N_READS]\n",
      "                                         [-s N_SAMPLES]\n",
      "                                         [--rand_seed RAND_SEED] [-v | -q]\n",
      "\n",
      "Randomly sample `n_reads` reads from a bam file and write downsampled files in\n",
      "`n_samples` bam files. If the input bam file is not indexed by read_id\n",
      "`index_reads` is automatically called.\n",
      "\n",
      "optional arguments:\n",
      "  -h, --help            show this help message and exit\n",
      "  -b BAM_FN, --bam_fn BAM_FN\n",
      "                        Path to the indexed bam file [str]\n",
      "  -f OUT_FOLDER, --out_folder OUT_FOLDER\n",
      "                        Path to a folder where to write sample files (default:\n",
      "                        ./) [str]\n",
      "  -p OUT_PREFIX, --out_prefix OUT_PREFIX\n",
      "                        Path to a folder where to write sample files (default:\n",
      "                        out) [str]\n",
      "  -r N_READS, --n_reads N_READS\n",
      "                        Number of randomly selected reads in each sample\n",
      "                        (default: 1000) [int]\n",
      "  -s N_SAMPLES, --n_samples N_SAMPLES\n",
      "                        Number of samples to generate files for (default: 1)\n",
      "                        [int]\n",
      "  --rand_seed RAND_SEED\n",
      "                        Seed to use for the pseudo randon generator. For non\n",
      "                        deterministic behaviour set to 0 (default: 42) [int]\n",
      "  -v, --verbose         Increase verbosity (default: False)\n",
      "  -q, --quiet           Reduce verbosity (default: False)\n",
      "(pyBioTools) "
     ]
    },
    {
     "ename": "",
     "evalue": "1",
     "output_type": "error",
     "traceback": []
    }
   ],
   "source": [
    "pyBioTools Alignment sample_reads -h"
   ]
  },
  {
   "cell_type": "markdown",
   "metadata": {},
   "source": [
    "### Basic usage"
   ]
  },
  {
   "cell_type": "code",
   "execution_count": 11,
   "metadata": {
    "ExecuteTime": {
     "end_time": "2019-05-30T15:50:09.500823Z",
     "start_time": "2019-05-30T15:50:03.975635Z"
    },
    "scrolled": true
   },
   "outputs": [
    {
     "name": "stdout",
     "output_type": "stream",
     "text": [
      "Load index\n",
      "\tIndex: 11188it [00:00, 359775.46it/s]\n",
      "Write sample reads\n",
      "\tSample 1: 100%|██████████████████████| 1000/1000 [00:00<00:00, 1279.49 Reads/s]\n",
      "\tIndex output file\n",
      "\tSample 2: 100%|██████████████████████| 1000/1000 [00:00<00:00, 1100.75 Reads/s]\n",
      "\tIndex output file\n",
      "\tSample 3: 100%|██████████████████████| 1000/1000 [00:00<00:00, 1109.85 Reads/s]\n",
      "\tIndex output file\n",
      "\tSample 4: 100%|██████████████████████| 1000/1000 [00:00<00:00, 1112.83 Reads/s]\n",
      "\tIndex output file\n",
      "\tSample 5: 100%|██████████████████████| 1000/1000 [00:00<00:00, 1106.54 Reads/s]\n",
      "\tIndex output file\n",
      "(pyBioTools) "
     ]
    },
    {
     "ename": "",
     "evalue": "1",
     "output_type": "error",
     "traceback": []
    }
   ],
   "source": [
    "pyBioTools Alignment sample_reads -b ./data/sample_1.bam -f ./output/sample_reads -p 1K -r 1000 -s 5"
   ]
  },
  {
   "cell_type": "code",
   "execution_count": 13,
   "metadata": {
    "ExecuteTime": {
     "end_time": "2019-05-30T15:50:34.789204Z",
     "start_time": "2019-05-30T15:50:34.673955Z"
    }
   },
   "outputs": [
    {
     "name": "stdout",
     "output_type": "stream",
     "text": [
      "total 16M\n",
      "-rw-rw-r-- 1 aleg aleg 3.1M May 30 16:50 1K_1.bam\n",
      "-rw-rw-r-- 1 aleg aleg  11K May 30 16:50 1K_1.bam.bai\n",
      "-rw-rw-r-- 1 aleg aleg 3.1M May 30 16:50 1K_2.bam\n",
      "-rw-rw-r-- 1 aleg aleg  12K May 30 16:50 1K_2.bam.bai\n",
      "-rw-rw-r-- 1 aleg aleg 3.1M May 30 16:50 1K_3.bam\n",
      "-rw-rw-r-- 1 aleg aleg  11K May 30 16:50 1K_3.bam.bai\n",
      "-rw-rw-r-- 1 aleg aleg 3.2M May 30 16:50 1K_4.bam\n",
      "-rw-rw-r-- 1 aleg aleg  11K May 30 16:50 1K_4.bam.bai\n",
      "-rw-rw-r-- 1 aleg aleg 3.1M May 30 16:50 1K_5.bam\n",
      "-rw-rw-r-- 1 aleg aleg  13K May 30 16:50 1K_5.bam.bai\n",
      "(pyBioTools) "
     ]
    },
    {
     "ename": "",
     "evalue": "1",
     "output_type": "error",
     "traceback": []
    }
   ],
   "source": [
    "ll output/sample_reads"
   ]
  }
 ],
 "metadata": {
  "celltoolbar": "Initialization Cell",
  "hide_input": false,
  "kernelspec": {
   "display_name": "Bash",
   "language": "bash",
   "name": "bash"
  },
  "language_info": {
   "codemirror_mode": "shell",
   "file_extension": ".sh",
   "mimetype": "text/x-sh",
   "name": "bash"
  }
 },
 "nbformat": 4,
 "nbformat_minor": 2
}
