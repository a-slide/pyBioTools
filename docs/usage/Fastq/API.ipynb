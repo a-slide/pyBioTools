{
 "cells": [
  {
   "cell_type": "markdown",
   "metadata": {},
   "source": [
    "# Fastq API Usage"
   ]
  },
  {
   "cell_type": "markdown",
   "metadata": {},
   "source": [
    "## Import package"
   ]
  },
  {
   "cell_type": "code",
   "execution_count": 2,
   "metadata": {
    "ExecuteTime": {
     "end_time": "2019-10-11T16:02:13.597987Z",
     "start_time": "2019-10-11T16:02:13.586945Z"
    },
    "init_cell": true
   },
   "outputs": [],
   "source": [
    "from pyBioTools import Fastq\n",
    "from pyBioTools.common import jhelp"
   ]
  },
  {
   "cell_type": "markdown",
   "metadata": {},
   "source": [
    "## index_reads"
   ]
  },
  {
   "cell_type": "code",
   "execution_count": 3,
   "metadata": {
    "ExecuteTime": {
     "end_time": "2019-10-11T16:02:19.149521Z",
     "start_time": "2019-10-11T16:02:19.124596Z"
    },
    "scrolled": false
   },
   "outputs": [
    {
     "data": {
      "text/markdown": [
       "**Filter** (input_fn, output_fn, min_len, min_qual, remove_duplicates, qual_offset, kwargs)\n",
       "\n",
       "Filter fastq reads based on their length, mean quality and the presence of duplicates. Can also be used to concatenate reads from multiple files in a single one.\n",
       "\n",
       "---\n",
       "\n",
       "* **input_fn** (required) [str]\n",
       "\n",
       "Fastq file path or directory containing fastq files or list of files, or regex or list of regex. It is quite flexible.\n",
       "\n",
       "* **output_fn** (required) [str]\n",
       "\n",
       "Destination fastq file. Automatically gzipped if the .gz extension is found\n",
       "\n",
       "* **min_len** (default: None) [int]\n",
       "\n",
       "Minimal reads length\n",
       "\n",
       "* **min_qual** (default: None) [float]\n",
       "\n",
       "Minimal mean read PHRED quality\n",
       "\n",
       "* **remove_duplicates** (default: False) [bool]\n",
       "\n",
       "If true duplicated reads with the same read id are discarded\n",
       "\n",
       "* **qual_offset** (default: 33) [int]\n",
       "\n",
       "Quality scoring system off set. Nowadays pretty much everyone uses +33\n",
       "\n",
       "* **kwargs**\n",
       "\n",
       "Allow to pass extra options such as verbose and quiet\n",
       "\n"
      ],
      "text/plain": [
       "<IPython.core.display.Markdown object>"
      ]
     },
     "metadata": {},
     "output_type": "display_data"
    }
   ],
   "source": [
    "jhelp(Fastq.Filter)"
   ]
  },
  {
   "cell_type": "markdown",
   "metadata": {},
   "source": [
    "### Basic usage"
   ]
  },
  {
   "cell_type": "code",
   "execution_count": 4,
   "metadata": {
    "ExecuteTime": {
     "end_time": "2019-10-11T16:02:26.513508Z",
     "start_time": "2019-10-11T16:02:24.179307Z"
    },
    "scrolled": true
   },
   "outputs": [
    {
     "name": "stderr",
     "output_type": "stream",
     "text": [
      "Parsing reads\n",
      "Reads processed : 12000 reads [00:02, 5183.01 reads/s]\n",
      "\n",
      "Read counts summary\n",
      "\ttotal_reads: 12,000\n",
      "\tvalid_reads: 10,882\n",
      "\tlow_qual_reads: 643\n",
      "\tshort_reads: 474\n",
      "\tsource files: 1\n",
      "\tduplicate_reads: 1\n",
      "\n"
     ]
    }
   ],
   "source": [
    "Fastq.Filter (\"./data/sample_1.fastq\", \"./output/sample_1_filtered.fastq\", min_len=100, min_qual=7, remove_duplicates=True, verbose=True)"
   ]
  },
  {
   "cell_type": "markdown",
   "metadata": {},
   "source": [
    "### All fastq from a directory instead and write to compressed fastq"
   ]
  },
  {
   "cell_type": "code",
   "execution_count": 5,
   "metadata": {
    "ExecuteTime": {
     "end_time": "2019-10-11T16:03:03.654711Z",
     "start_time": "2019-10-11T16:02:28.686146Z"
    },
    "scrolled": false
   },
   "outputs": [
    {
     "name": "stderr",
     "output_type": "stream",
     "text": [
      "Parsing reads\n",
      "Reads processed : 24000 reads [00:34, 686.59 reads/s]\n",
      "\n",
      "Read counts summary\n",
      "\ttotal_reads: 24,000\n",
      "\tvalid_reads: 21,809\n",
      "\tlow_qual_reads: 1,304\n",
      "\tshort_reads: 887\n",
      "\tsource files: 2\n",
      "\n"
     ]
    }
   ],
   "source": [
    "Fastq.Filter (\"./data/\", \"./output/sample_1_filtered.fastq.gz\", min_len=100, min_qual=7, verbose=True)"
   ]
  }
 ],
 "metadata": {
  "celltoolbar": "Initialization Cell",
  "hide_input": false,
  "kernelspec": {
   "display_name": "pyBioTools",
   "language": "python",
   "name": "pybiotools"
  },
  "language_info": {
   "codemirror_mode": {
    "name": "ipython",
    "version": 3
   },
   "file_extension": ".py",
   "mimetype": "text/x-python",
   "name": "python",
   "nbconvert_exporter": "python",
   "pygments_lexer": "ipython3",
   "version": "3.6.6"
  }
 },
 "nbformat": 4,
 "nbformat_minor": 2
}
