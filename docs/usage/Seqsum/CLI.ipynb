{
 "cells": [
  {
   "cell_type": "markdown",
   "metadata": {},
   "source": [
    "# Seqsum CLI Usage"
   ]
  },
  {
   "cell_type": "markdown",
   "metadata": {},
   "source": [
    "## Activate virtual environment"
   ]
  },
  {
   "cell_type": "code",
   "execution_count": 3,
   "metadata": {
    "ExecuteTime": {
     "end_time": "2021-01-19T15:30:48.044795Z",
     "start_time": "2021-01-19T15:30:47.744484Z"
    }
   },
   "outputs": [
    {
     "name": "stdout",
     "output_type": "stream",
     "text": [
      "(pyBioTools) "
     ]
    },
    {
     "ename": "",
     "evalue": "1",
     "output_type": "error",
     "traceback": []
    }
   ],
   "source": [
    "# Using virtualenvwrapper here but can also be done with Conda \n",
    "conda activate pyBioTools"
   ]
  },
  {
   "cell_type": "markdown",
   "metadata": {},
   "source": [
    "## Merge"
   ]
  },
  {
   "cell_type": "markdown",
   "metadata": {},
   "source": [
    "### Get help"
   ]
  },
  {
   "cell_type": "code",
   "execution_count": 1,
   "metadata": {
    "ExecuteTime": {
     "end_time": "2021-01-19T15:30:39.595996Z",
     "start_time": "2021-01-19T15:30:39.356417Z"
    }
   },
   "outputs": [
    {
     "name": "stdout",
     "output_type": "stream",
     "text": [
      "pyBioTools: command not found\n"
     ]
    },
    {
     "ename": "",
     "evalue": "127",
     "output_type": "error",
     "traceback": []
    }
   ],
   "source": [
    "pyBioTools Seqsum Merge -h"
   ]
  },
  {
   "cell_type": "markdown",
   "metadata": {},
   "source": [
    "### Basic usage"
   ]
  },
  {
   "cell_type": "code",
   "execution_count": 13,
   "metadata": {
    "ExecuteTime": {
     "end_time": "2021-01-19T14:49:49.099149Z",
     "start_time": "2021-01-19T14:49:48.650340Z"
    },
    "scrolled": true
   },
   "outputs": [
    {
     "name": "stdout",
     "output_type": "stream",
     "text": [
      "\u001b[01;34m## Running Seqsum Merge ##\u001b[0m\n",
      "\u001b[32m\tParsing reads\u001b[0m\n",
      "\u001b[37m\t[DEBUG]: Reading file ./data/seqsum_new1.tsv\u001b[0m\n",
      "\u001b[37m\t[DEBUG]: End of file ./data/seqsum_new1.tsv\u001b[0m\n",
      "\u001b[37m\t[DEBUG]: Reading file ./data/seqsum_new2.tsv\u001b[0m\n",
      "\u001b[37m\t[DEBUG]: End of file ./data/seqsum_new2.tsv\u001b[0m\n",
      "\u001b[32m\tRead counts summary\u001b[0m\n",
      "\u001b[32m\t Files found: 2\u001b[0m\n",
      "\u001b[32m\t Valid files: 2\u001b[0m\n",
      "(pyBioTools) "
     ]
    },
    {
     "ename": "",
     "evalue": "1",
     "output_type": "error",
     "traceback": []
    }
   ],
   "source": [
    "pyBioTools Seqsum Merge -i ./data/seqsum_new1.tsv ./data/seqsum_new2.tsv -o ./output/seqsum_merged_1.tsv.gz --verbose"
   ]
  },
  {
   "cell_type": "markdown",
   "metadata": {},
   "source": [
    "### Using a regex instead"
   ]
  },
  {
   "cell_type": "code",
   "execution_count": 14,
   "metadata": {
    "ExecuteTime": {
     "end_time": "2021-01-19T14:50:19.995791Z",
     "start_time": "2021-01-19T14:50:19.557465Z"
    },
    "scrolled": true
   },
   "outputs": [
    {
     "name": "stdout",
     "output_type": "stream",
     "text": [
      "\u001b[01;34m## Running Seqsum Merge ##\u001b[0m\n",
      "\u001b[32m\tParsing reads\u001b[0m\n",
      "\u001b[37m\t[DEBUG]: Reading file ./data/seqsum_new1.tsv\u001b[0m\n",
      "\u001b[37m\t[DEBUG]: End of file ./data/seqsum_new1.tsv\u001b[0m\n",
      "\u001b[37m\t[DEBUG]: Reading file ./data/seqsum_new2.tsv\u001b[0m\n",
      "\u001b[37m\t[DEBUG]: End of file ./data/seqsum_new2.tsv\u001b[0m\n",
      "\u001b[32m\tRead counts summary\u001b[0m\n",
      "\u001b[32m\t Files found: 2\u001b[0m\n",
      "\u001b[32m\t Valid files: 2\u001b[0m\n",
      "(pyBioTools) "
     ]
    },
    {
     "ename": "",
     "evalue": "1",
     "output_type": "error",
     "traceback": []
    }
   ],
   "source": [
    "pyBioTools Seqsum Merge -i ./data/seqsum_* -o ./output/seqsum_merged_2.tsv.gz --verbose"
   ]
  },
  {
   "cell_type": "markdown",
   "metadata": {},
   "source": [
    "### Files with non-matching header are skipped"
   ]
  },
  {
   "cell_type": "code",
   "execution_count": 5,
   "metadata": {
    "ExecuteTime": {
     "end_time": "2021-01-19T15:30:55.815001Z",
     "start_time": "2021-01-19T15:30:54.920828Z"
    }
   },
   "outputs": [
    {
     "name": "stdout",
     "output_type": "stream",
     "text": [
      "\u001b[01;34m## Running Seqsum Merge ##\u001b[0m\n",
      "\u001b[32m\tParsing reads\u001b[0m\n",
      "\u001b[37m\t[DEBUG]: Reading file ./data/Guppy-2.1.3_basecall-1D-DNA_sequencing_summary.txt.gz\u001b[0m\n",
      "\u001b[37m\t[DEBUG]: End of file ./data/Guppy-2.1.3_basecall-1D-DNA_sequencing_summary.txt.gz\u001b[0m\n",
      "\u001b[37m\t[DEBUG]: Reading file ./data/Guppy-2.1.3_basecall-1D-RNA_sequencing_summary.txt.gz\u001b[0m\n",
      "\u001b[37m\t[DEBUG]: End of file ./data/Guppy-2.1.3_basecall-1D-RNA_sequencing_summary.txt.gz\u001b[0m\n",
      "\u001b[37m\t[DEBUG]: Reading file ./data/Guppy-2.2.4-basecall-1D-DNA_sequencing_summary+barcode.txt.gz\u001b[0m\n",
      "\u001b[01;31mERROR: Header of file `./data/Guppy-2.2.4-basecall-1D-DNA_sequencing_summary+barcode.txt.gz` is not consistant\u001b[0m\n",
      "\u001b[37m\t[DEBUG]: Skipping file ./data/Guppy-2.2.4-basecall-1D-DNA_sequencing_summary+barcode.txt.gz\u001b[0m\n",
      "\u001b[37m\t[DEBUG]: Reading file ./data/Guppy-basecall-1D-DNA_sequencing_summary.txt.gz\u001b[0m\n",
      "\u001b[37m\t[DEBUG]: End of file ./data/Guppy-basecall-1D-DNA_sequencing_summary.txt.gz\u001b[0m\n",
      "\u001b[37m\t[DEBUG]: Reading file ./data/seqsum_new1.tsv\u001b[0m\n",
      "\u001b[01;31mERROR: Header of file `./data/seqsum_new1.tsv` is not consistant\u001b[0m\n",
      "\u001b[37m\t[DEBUG]: Skipping file ./data/seqsum_new1.tsv\u001b[0m\n",
      "\u001b[37m\t[DEBUG]: Reading file ./data/seqsum_new2.tsv\u001b[0m\n",
      "\u001b[01;31mERROR: Header of file `./data/seqsum_new2.tsv` is not consistant\u001b[0m\n",
      "\u001b[37m\t[DEBUG]: Skipping file ./data/seqsum_new2.tsv\u001b[0m\n",
      "\u001b[32m\tRead counts summary\u001b[0m\n",
      "\u001b[32m\t Files found: 6\u001b[0m\n",
      "\u001b[32m\t Valid files: 3\u001b[0m\n",
      "\u001b[32m\t Invalid files: 3\u001b[0m\n",
      "(pyBioTools) "
     ]
    },
    {
     "ename": "",
     "evalue": "1",
     "output_type": "error",
     "traceback": []
    }
   ],
   "source": [
    "pyBioTools Seqsum Merge -i ./data/* -o ./output/seqsum_merged_3.tsv.gz --verbose"
   ]
  }
 ],
 "metadata": {
  "celltoolbar": "Initialization Cell",
  "hide_input": false,
  "kernelspec": {
   "display_name": "Bash",
   "language": "bash",
   "name": "bash"
  },
  "language_info": {
   "codemirror_mode": "shell",
   "file_extension": ".sh",
   "mimetype": "text/x-sh",
   "name": "bash"
  }
 },
 "nbformat": 4,
 "nbformat_minor": 2
}
