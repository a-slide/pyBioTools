{
 "cells": [
  {
   "cell_type": "markdown",
   "metadata": {},
   "source": [
    "# Alignment API Usage"
   ]
  },
  {
   "cell_type": "markdown",
   "metadata": {},
   "source": [
    "## Import package"
   ]
  },
  {
   "cell_type": "code",
   "execution_count": 2,
   "metadata": {
    "ExecuteTime": {
     "end_time": "2019-05-30T15:43:54.727743Z",
     "start_time": "2019-05-30T15:43:54.720202Z"
    },
    "init_cell": true
   },
   "outputs": [],
   "source": [
    "from pyBioTools import Alignment\n",
    "from pyBioTools.common import jhelp"
   ]
  },
  {
   "cell_type": "markdown",
   "metadata": {},
   "source": [
    "## index_reads"
   ]
  },
  {
   "cell_type": "code",
   "execution_count": 8,
   "metadata": {
    "ExecuteTime": {
     "end_time": "2019-05-30T14:52:02.876093Z",
     "start_time": "2019-05-30T14:52:02.866292Z"
    },
    "scrolled": false
   },
   "outputs": [
    {
     "data": {
      "text/markdown": [
       "**index_reads** (bam_fn, min_mapq, keep_unmapped, keep_secondary, keep_supplementary, kwargs)\n",
       "\n",
       "Index reads found in a coordinated sorted bam file by read_id. The created index file can be used to randon access the alignment file per read_id\n",
       "\n",
       "---\n",
       "\n",
       "* **bam_fn** (required) [str]\n",
       "\n",
       "Path to the bam file to index\n",
       "\n",
       "* **min_mapq** (default: 0) [int]\n",
       "\n",
       "Minimal mapq quality of a read to be included in the index\n",
       "\n",
       "* **keep_unmapped** (default: False) [bool]\n",
       "\n",
       "Unmapped reads are included in the index\n",
       "\n",
       "* **keep_secondary** (default: False) [bool]\n",
       "\n",
       "Secondary alignment are included in the index\n",
       "\n",
       "* **keep_supplementary** (default: False) [bool]\n",
       "\n",
       "Supplementary alignment are included in the index\n",
       "\n",
       "* **kwargs**\n",
       "\n",
       "Allow to pass extra options such as verbose and quiet\n",
       "\n"
      ],
      "text/plain": [
       "<IPython.core.display.Markdown object>"
      ]
     },
     "metadata": {},
     "output_type": "display_data"
    }
   ],
   "source": [
    "jhelp(Alignment.index_reads)"
   ]
  },
  {
   "cell_type": "markdown",
   "metadata": {},
   "source": [
    "### Basic usage"
   ]
  },
  {
   "cell_type": "code",
   "execution_count": 3,
   "metadata": {
    "ExecuteTime": {
     "end_time": "2019-05-30T14:13:55.754239Z",
     "start_time": "2019-05-30T14:13:55.069785Z"
    },
    "scrolled": true
   },
   "outputs": [
    {
     "name": "stderr",
     "output_type": "stream",
     "text": [
      "Checking Bam file\n",
      "Parsing reads\n",
      "13684 Reads [00:00, 20616.59 Reads/s]\n",
      "\n",
      "Read counts summary\n",
      "\tprimary: 10,584\n",
      "\tsecondary: 1,496\n",
      "\tunmapped: 1,416\n",
      "\tsupplementary: 188\n",
      "\n"
     ]
    }
   ],
   "source": [
    "Alignment.index_reads(\"./data/sample_1.bam\", verbose=True)"
   ]
  },
  {
   "cell_type": "markdown",
   "metadata": {},
   "source": [
    "### Excluding reads from index"
   ]
  },
  {
   "cell_type": "code",
   "execution_count": 3,
   "metadata": {
    "ExecuteTime": {
     "end_time": "2019-05-30T15:43:58.696704Z",
     "start_time": "2019-05-30T15:43:57.999442Z"
    },
    "scrolled": false
   },
   "outputs": [
    {
     "name": "stderr",
     "output_type": "stream",
     "text": [
      "Checking Bam file\n",
      "Parsing reads\n",
      "13684 Reads [00:00, 20352.85 Reads/s]\n",
      "\n",
      "Read counts summary\n",
      "\tretained\n",
      "\t\tprimary: 9,824\n",
      "\t\tsupplementary: 188\n",
      "\tskipped\n",
      "\t\tsecondary: 1,496\n",
      "\t\tunmapped: 1,416\n",
      "\t\tlow_mapq: 760\n",
      "\n"
     ]
    }
   ],
   "source": [
    "Alignment.index_reads(\"./data/sample_1.bam\", verbose=True, min_mapq=30, keep_supplementary=True)"
   ]
  },
  {
   "cell_type": "markdown",
   "metadata": {},
   "source": [
    "## sample_reads"
   ]
  },
  {
   "cell_type": "code",
   "execution_count": 4,
   "metadata": {
    "ExecuteTime": {
     "end_time": "2019-05-30T15:44:16.521523Z",
     "start_time": "2019-05-30T15:44:16.492795Z"
    },
    "scrolled": false
   },
   "outputs": [
    {
     "data": {
      "text/markdown": [
       "**sample_reads** (bam_fn, out_folder, out_prefix, n_reads, n_samples, rand_seed, kwargs)\n",
       "\n",
       "Randomly sample `n_reads` reads from a bam file and write downsampled files in `n_samples` bam files. If the input bam file is not indexed by read_id `index_reads` is automatically called.\n",
       "\n",
       "---\n",
       "\n",
       "* **bam_fn** (required) [str]\n",
       "\n",
       "Path to the indexed bam file\n",
       "\n",
       "* **out_folder** (default: ./) [str]\n",
       "\n",
       "Path to a folder where to write sample files\n",
       "\n",
       "* **out_prefix** (default: out) [str]\n",
       "\n",
       "Path to a folder where to write sample files\n",
       "\n",
       "* **n_reads** (default: 1000) [int]\n",
       "\n",
       "Number of randomly selected reads in each sample\n",
       "\n",
       "* **n_samples** (default: 1) [int]\n",
       "\n",
       "Number of samples to generate files for\n",
       "\n",
       "* **rand_seed** (default: 42) [int]\n",
       "\n",
       "Seed to use for the pseudo randon generator. For non deterministic behaviour set to 0\n",
       "\n",
       "* **kwargs**\n",
       "\n",
       "Allow to pass extra options such as verbose and quiet\n",
       "\n"
      ],
      "text/plain": [
       "<IPython.core.display.Markdown object>"
      ]
     },
     "metadata": {},
     "output_type": "display_data"
    }
   ],
   "source": [
    "jhelp(Alignment.sample_reads)"
   ]
  },
  {
   "cell_type": "markdown",
   "metadata": {},
   "source": [
    "### Basic usage"
   ]
  },
  {
   "cell_type": "code",
   "execution_count": 7,
   "metadata": {
    "ExecuteTime": {
     "end_time": "2019-05-30T15:47:53.284756Z",
     "start_time": "2019-05-30T15:47:51.856496Z"
    },
    "scrolled": true
   },
   "outputs": [
    {
     "name": "stderr",
     "output_type": "stream",
     "text": [
      "Load index\n",
      "\tIndex: 11188it [00:00, 274508.60it/s]\n",
      "Write sample reads\n",
      "\tSample 1: 100%|██████████| 500/500 [00:00<00:00, 1185.16 Reads/s]\n",
      "\tIndex output file\n",
      "\tSample 2: 100%|██████████| 500/500 [00:00<00:00, 1262.96 Reads/s]\n",
      "\tIndex output file\n",
      "\tSample 3: 100%|██████████| 500/500 [00:00<00:00, 1272.82 Reads/s]\n",
      "\tIndex output file\n"
     ]
    }
   ],
   "source": [
    "Alignment.sample_reads(\"./data/sample_1.bam\", out_folder=\"./output/sample_reads/\", out_prefix=\"1K\", n_reads=500, n_samples=3)"
   ]
  },
  {
   "cell_type": "code",
   "execution_count": 8,
   "metadata": {
    "ExecuteTime": {
     "end_time": "2019-05-30T15:48:01.346278Z",
     "start_time": "2019-05-30T15:48:01.220530Z"
    }
   },
   "outputs": [
    {
     "name": "stdout",
     "output_type": "stream",
     "text": [
      "total 4580\r\n",
      "-rw-rw-r-- 1 aleg 1584473 May 30 16:47 1K_1.bam\r\n",
      "-rw-rw-r-- 1 aleg   10624 May 30 16:47 1K_1.bam.bai\r\n",
      "-rw-rw-r-- 1 aleg 1504506 May 30 16:47 1K_2.bam\r\n",
      "-rw-rw-r-- 1 aleg   11256 May 30 16:47 1K_2.bam.bai\r\n",
      "-rw-rw-r-- 1 aleg 1558478 May 30 16:47 1K_3.bam\r\n",
      "-rw-rw-r-- 1 aleg   11272 May 30 16:47 1K_3.bam.bai\r\n"
     ]
    }
   ],
   "source": [
    "ll ./output/sample_reads/"
   ]
  }
 ],
 "metadata": {
  "celltoolbar": "Initialization Cell",
  "hide_input": false,
  "kernelspec": {
   "display_name": "pyBioTools",
   "language": "python",
   "name": "pybiotools"
  },
  "language_info": {
   "codemirror_mode": {
    "name": "ipython",
    "version": 3
   },
   "file_extension": ".py",
   "mimetype": "text/x-python",
   "name": "python",
   "nbconvert_exporter": "python",
   "pygments_lexer": "ipython3",
   "version": "3.6.6"
  }
 },
 "nbformat": 4,
 "nbformat_minor": 2
}
