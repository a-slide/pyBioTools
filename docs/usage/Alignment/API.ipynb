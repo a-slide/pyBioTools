{
 "cells": [
  {
   "cell_type": "markdown",
   "metadata": {},
   "source": [
    "# Alignment API Usage"
   ]
  },
  {
   "cell_type": "markdown",
   "metadata": {},
   "source": [
    "## Import package"
   ]
  },
  {
   "cell_type": "code",
   "execution_count": 7,
   "metadata": {
    "ExecuteTime": {
     "end_time": "2021-01-21T15:32:26.523965Z",
     "start_time": "2021-01-21T15:32:26.516376Z"
    },
    "init_cell": true
   },
   "outputs": [],
   "source": [
    "from pyBioTools import Alignment\n",
    "from pyBioTools.common import jhelp, head"
   ]
  },
  {
   "cell_type": "markdown",
   "metadata": {
    "heading_collapsed": true
   },
   "source": [
    "## Reads_index"
   ]
  },
  {
   "cell_type": "code",
   "execution_count": 8,
   "metadata": {
    "ExecuteTime": {
     "end_time": "2021-01-21T15:32:26.534044Z",
     "start_time": "2021-01-21T15:32:26.526655Z"
    },
    "hidden": true,
    "init_cell": true,
    "scrolled": false
   },
   "outputs": [
    {
     "data": {
      "text/markdown": [
       "**Reads_index** (input_fn, skip_unmapped, skip_secondary, skip_supplementary, verbose, quiet, progress, kwargs)\n",
       "\n",
       "Index reads found in a coordinated sorted bam file by read_id. The created index file can be used to randon access the alignment file per read_id\n",
       "\n",
       "---\n",
       "\n",
       "* **input_fn** (required) [str]\n",
       "\n",
       "Path to the bam file to index\n",
       "\n",
       "* **skip_unmapped** (default: False) [bool]\n",
       "\n",
       "Do not include unmapped reads in index\n",
       "\n",
       "* **skip_secondary** (default: False) [bool]\n",
       "\n",
       "Do not include secondary alignment in index\n",
       "\n",
       "* **skip_supplementary** (default: False) [bool]\n",
       "\n",
       "Do not include supplementary alignment in index\n",
       "\n",
       "* **verbose** (default: False) [bool]\n",
       "\n",
       "* **quiet** (default: False) [bool]\n",
       "\n",
       "* **progress** (default: False) [bool]\n",
       "\n",
       "* **kwargs**\n",
       "\n"
      ],
      "text/plain": [
       "<IPython.core.display.Markdown object>"
      ]
     },
     "metadata": {},
     "output_type": "display_data"
    }
   ],
   "source": [
    "jhelp(Alignment.Reads_index)"
   ]
  },
  {
   "cell_type": "markdown",
   "metadata": {
    "heading_collapsed": true,
    "hidden": true
   },
   "source": [
    "### Basic usage"
   ]
  },
  {
   "cell_type": "code",
   "execution_count": 14,
   "metadata": {
    "ExecuteTime": {
     "end_time": "2021-01-21T15:25:01.477085Z",
     "start_time": "2021-01-21T15:25:00.757548Z"
    },
    "hidden": true,
    "scrolled": false
   },
   "outputs": [
    {
     "name": "stderr",
     "output_type": "stream",
     "text": [
      "\u001b[01;34m## Running Alignment Reads_index ##\u001b[0m\n",
      "\u001b[32m\tChecking Bam file\u001b[0m\n",
      "\u001b[32m\tParsing reads\u001b[0m\n",
      "\u001b[32m\tRead counts summary\u001b[0m\n",
      "\u001b[32m\t Reads retained\u001b[0m\n",
      "\u001b[32m\t  total: 13,684\u001b[0m\n",
      "\u001b[32m\t  primary: 10,584\u001b[0m\n",
      "\u001b[32m\t  secondary: 1,496\u001b[0m\n",
      "\u001b[32m\t  unmapped: 1,416\u001b[0m\n",
      "\u001b[32m\t  supplementary: 188\u001b[0m\n"
     ]
    },
    {
     "name": "stdout",
     "output_type": "stream",
     "text": [
      "read_id                        ref_id pointer    index \n",
      "4f20c07e-183a-4483-9313-220390 chr-I  31653888   0     \n",
      "f5fc15c4-0bd5-4e56-9509-625574 chr-I  31681836   1     \n",
      "4c144dc6-705a-4d0c-951f-02fd7f chr-I  31685499   2     \n",
      "6449b796-5339-4d61-8cf4-14658f chr-I  1338834944 3     \n",
      "f0bea8a5-a7bc-455c-b0e8-abc6ff chr-I  1338869081 4     \n",
      "f50af728-e016-4c74-b48f-fe7459 chr-I  1338876255 5     \n",
      "3213cb66-ac07-468a-862e-4e5fd1 chr-I  1338878547 6     \n",
      "370dbed1-1e84-4b40-87ff-e6468b chr-I  1338879643 7     \n",
      "9e21a7d4-1b3e-4967-856e-ca4e99 chr-I  1338889457 8     \n",
      "\n"
     ]
    }
   ],
   "source": [
    "Alignment.Reads_index(\"./data/sample_1.bam\", verbose=True)\n",
    "head(\"./data/sample_1.bam.idx.gz\")"
   ]
  },
  {
   "cell_type": "markdown",
   "metadata": {
    "heading_collapsed": true,
    "hidden": true
   },
   "source": [
    "### Excluding reads from index"
   ]
  },
  {
   "cell_type": "code",
   "execution_count": 15,
   "metadata": {
    "ExecuteTime": {
     "end_time": "2021-01-21T15:25:20.023394Z",
     "start_time": "2021-01-21T15:25:19.316879Z"
    },
    "hidden": true,
    "scrolled": false
   },
   "outputs": [
    {
     "name": "stderr",
     "output_type": "stream",
     "text": [
      "\u001b[01;34m## Running Alignment Reads_index ##\u001b[0m\n",
      "\u001b[32m\tChecking Bam file\u001b[0m\n",
      "\u001b[32m\tParsing reads\u001b[0m\n",
      "\u001b[32m\tRead counts summary\u001b[0m\n",
      "\u001b[32m\t Reads retained\u001b[0m\n",
      "\u001b[32m\t  primary: 10,584\u001b[0m\n",
      "\u001b[32m\t  total: 10,584\u001b[0m\n",
      "\u001b[32m\t Reads discarded\u001b[0m\n",
      "\u001b[32m\t  total: 3,100\u001b[0m\n",
      "\u001b[32m\t  secondary: 1,496\u001b[0m\n",
      "\u001b[32m\t  unmapped: 1,416\u001b[0m\n",
      "\u001b[32m\t  supplementary: 188\u001b[0m\n"
     ]
    },
    {
     "name": "stdout",
     "output_type": "stream",
     "text": [
      "read_id                        ref_id pointer    index \n",
      "4f20c07e-183a-4483-9313-220390 chr-I  31653888   0     \n",
      "f5fc15c4-0bd5-4e56-9509-625574 chr-I  31681836   1     \n",
      "4c144dc6-705a-4d0c-951f-02fd7f chr-I  31685499   2     \n",
      "6449b796-5339-4d61-8cf4-14658f chr-I  1338834944 3     \n",
      "f0bea8a5-a7bc-455c-b0e8-abc6ff chr-I  1338869081 4     \n",
      "f50af728-e016-4c74-b48f-fe7459 chr-I  1338876255 5     \n",
      "3213cb66-ac07-468a-862e-4e5fd1 chr-I  1338878547 6     \n",
      "370dbed1-1e84-4b40-87ff-e6468b chr-I  1338879643 7     \n",
      "9e21a7d4-1b3e-4967-856e-ca4e99 chr-I  1338889457 8     \n",
      "\n"
     ]
    }
   ],
   "source": [
    "Alignment.Reads_index(\"./data/sample_1.bam\", verbose=True, skip_secondary=True, skip_supplementary=True, skip_unmapped=True)\n",
    "head(\"./data/sample_1.bam.idx.gz\")"
   ]
  },
  {
   "cell_type": "markdown",
   "metadata": {
    "heading_collapsed": true
   },
   "source": [
    "## Reads_sample"
   ]
  },
  {
   "cell_type": "code",
   "execution_count": 9,
   "metadata": {
    "ExecuteTime": {
     "end_time": "2021-01-21T15:32:26.543790Z",
     "start_time": "2021-01-21T15:32:26.535646Z"
    },
    "hidden": true,
    "init_cell": true,
    "scrolled": false
   },
   "outputs": [
    {
     "data": {
      "text/markdown": [
       "**Reads_sample** (input_fn, output_folder, output_prefix, n_reads, n_samples, rand_seed, verbose, quiet, progress, kwargs)\n",
       "\n",
       "Randomly sample `n_reads` reads from a bam file and write downsampled files in `n_samples` bam files. If the input bam file is not indexed by read_id `index_reads` is automatically called.\n",
       "\n",
       "---\n",
       "\n",
       "* **input_fn** (required) [str]\n",
       "\n",
       "Path to the indexed bam file\n",
       "\n",
       "* **output_folder** (default: ./) [str]\n",
       "\n",
       "Path to a folder where to write sample files\n",
       "\n",
       "* **output_prefix** (default: out) [str]\n",
       "\n",
       "Path to a folder where to write sample files\n",
       "\n",
       "* **n_reads** (default: 1000) [int]\n",
       "\n",
       "Number of randomly selected reads in each sample\n",
       "\n",
       "* **n_samples** (default: 1) [int]\n",
       "\n",
       "Number of samples to generate files for\n",
       "\n",
       "* **rand_seed** (default: 42) [int]\n",
       "\n",
       "Seed to use for the pseudo randon generator. For non deterministic behaviour set to 0\n",
       "\n",
       "* **verbose** (default: False) [bool]\n",
       "\n",
       "* **quiet** (default: False) [bool]\n",
       "\n",
       "* **progress** (default: False) [bool]\n",
       "\n",
       "* **kwargs**\n",
       "\n"
      ],
      "text/plain": [
       "<IPython.core.display.Markdown object>"
      ]
     },
     "metadata": {},
     "output_type": "display_data"
    }
   ],
   "source": [
    "jhelp(Alignment.Reads_sample)"
   ]
  },
  {
   "cell_type": "markdown",
   "metadata": {
    "heading_collapsed": true,
    "hidden": true
   },
   "source": [
    "### Basic usage"
   ]
  },
  {
   "cell_type": "code",
   "execution_count": 13,
   "metadata": {
    "ExecuteTime": {
     "end_time": "2021-01-21T15:32:30.282068Z",
     "start_time": "2021-01-21T15:32:27.705129Z"
    },
    "hidden": true,
    "scrolled": true
   },
   "outputs": [
    {
     "name": "stderr",
     "output_type": "stream",
     "text": [
      "\u001b[01;34m## Running Alignment Reads_sample ##\u001b[0m\n",
      "\u001b[32m\tChecking Bam and index file\u001b[0m\n",
      "\u001b[32m\tLoad index\u001b[0m\n",
      "\u001b[32m\tWrite sample reads\u001b[0m\n",
      "\u001b[32m\tIndexing output bam file\u001b[0m\n",
      "\u001b[32m\tIndexing output bam file\u001b[0m\n",
      "\u001b[32m\tIndexing output bam file\u001b[0m\n"
     ]
    }
   ],
   "source": [
    "Alignment.Reads_sample(\"./data/sample_1.bam\", \"./output/sample_reads/\", output_prefix=\"1K\", n_reads=1000, n_samples=3)"
   ]
  },
  {
   "cell_type": "markdown",
   "metadata": {
    "heading_collapsed": true
   },
   "source": [
    "## References_sample "
   ]
  },
  {
   "cell_type": "code",
   "execution_count": 8,
   "metadata": {
    "ExecuteTime": {
     "end_time": "2021-01-20T15:26:38.923265Z",
     "start_time": "2021-01-20T15:26:38.912336Z"
    },
    "hidden": true
   },
   "outputs": [
    {
     "data": {
      "text/markdown": [
       "**References_sample** (input_fn, output_fn, selected_reads_fn, frac_reads, min_reads_ref, rand_seed, sorting_threads, verbose, quiet, progress, kwargs)\n",
       "\n",
       "Randomly sample reads per references according to a fraction od the reads mapped to this reference for a one or several files and write selected reads in a new bam file\n",
       "\n",
       "---\n",
       "\n",
       "* **input_fn** (required) [list(str)]\n",
       "\n",
       "Bam file path or directory containing bam files or list of files, or regex or list of regex. It is quite flexible. All files need to be sorted and aligned to the same reference file.\n",
       "\n",
       "* **output_fn** (default: out.bam) [str]\n",
       "\n",
       "Path to the output bam file (sorted and indexed)\n",
       "\n",
       "* **selected_reads_fn** (default: select_ref.txt) [str]\n",
       "\n",
       "Path to the output text file containing all the read id selected\n",
       "\n",
       "* **frac_reads** (default: 0.5) [int]\n",
       "\n",
       "Fraction of reads mapped to sample for each reference\n",
       "\n",
       "* **min_reads_ref** (default: 30) [int]\n",
       "\n",
       "Minimal read coverage per file and reference before sampling\n",
       "\n",
       "* **rand_seed** (default: 42) [int]\n",
       "\n",
       "Seed to use for the pseudo randon generator. For non deterministic behaviour set to None\n",
       "\n",
       "* **sorting_threads** (default: 4) [int]\n",
       "\n",
       "Number of threads to use for bam file sorting\n",
       "\n",
       "* **verbose** (default: False) [bool]\n",
       "\n",
       "* **quiet** (default: False) [bool]\n",
       "\n",
       "* **progress** (default: False) [bool]\n",
       "\n",
       "* **kwargs**\n",
       "\n"
      ],
      "text/plain": [
       "<IPython.core.display.Markdown object>"
      ]
     },
     "metadata": {},
     "output_type": "display_data"
    }
   ],
   "source": [
    "jhelp(Alignment.References_sample)"
   ]
  },
  {
   "cell_type": "markdown",
   "metadata": {
    "hidden": true
   },
   "source": [
    "### Basic usage"
   ]
  },
  {
   "cell_type": "code",
   "execution_count": 10,
   "metadata": {
    "ExecuteTime": {
     "end_time": "2021-01-20T15:30:41.568102Z",
     "start_time": "2021-01-20T15:30:34.562034Z"
    },
    "hidden": true
   },
   "outputs": [
    {
     "name": "stderr",
     "output_type": "stream",
     "text": [
      "\u001b[01;34m## Running Alignment Ref_sample ##\u001b[0m\n",
      "\u001b[01;34m## Index files ##\u001b[0m\n",
      "\u001b[32m\tIndexing alignment file ./data/sample_2.bam\u001b[0m\n",
      "\tReading : 13678 Reads [00:00, 20143.58 Reads/s]\n",
      "\u001b[32m\tIndexing alignment file ./data/sample_1.bam\u001b[0m\n",
      "\tReading : 13684 Reads [00:00, 23549.99 Reads/s]\n",
      "\u001b[32m\tRaw read counts summary\u001b[0m\n",
      "\u001b[32m\t primary reads: 21,185\u001b[0m\n",
      "\u001b[32m\t secondary reads: 2,966\u001b[0m\n",
      "\u001b[32m\t unmapped reads: 2,815\u001b[0m\n",
      "\u001b[32m\t supplementary reads: 396\u001b[0m\n",
      "\u001b[01;34m## Randomly pick reads per references ##\u001b[0m\n",
      "\u001b[01;34m## Sample reads and write to output file ##\u001b[0m\n",
      "\u001b[32m\tWriting selected reads for bam file ./data/sample_2.bam\u001b[0m\n",
      "\tWriting : 100%|██████████| 2656/2656 [00:02<00:00, 1164.71 Reads/s]\n",
      "\u001b[32m\tWriting selected reads for bam file ./data/sample_1.bam\u001b[0m\n",
      "\tWriting : 100%|██████████| 2653/2653 [00:02<00:00, 1193.08 Reads/s]\n",
      "\u001b[32m\tSort BAM File\u001b[0m\n",
      "\u001b[32m\tIndex sorted BAM File\u001b[0m\n",
      "\u001b[32m\tSelected read counts summary\u001b[0m\n",
      "\u001b[32m\t valid reads: 21,185\u001b[0m\n",
      "\u001b[32m\t valid sampled reads: 5,309\u001b[0m\n",
      "\u001b[32m\t valid references: 17\u001b[0m\n"
     ]
    }
   ],
   "source": [
    "Alignment.References_sample (\n",
    "    input_fn = \"./data/sample_*.bam\",\n",
    "    output_fn = \"./output/sample_References_sample.bam\",\n",
    "    selected_reads_fn = \"./output/sample_References_sample_refid.txt\",\n",
    "    frac_reads = 0.25,\n",
    "    min_reads_ref = 100,\n",
    "    progress = True)"
   ]
  },
  {
   "cell_type": "markdown",
   "metadata": {},
   "source": [
    "## Filter"
   ]
  },
  {
   "cell_type": "code",
   "execution_count": 14,
   "metadata": {
    "ExecuteTime": {
     "end_time": "2021-01-21T15:32:49.759643Z",
     "start_time": "2021-01-21T15:32:49.747933Z"
    },
    "init_cell": true,
    "scrolled": false
   },
   "outputs": [
    {
     "data": {
      "text/markdown": [
       "**Filter** (input_fn, output_fn, selected_reads_fn, skip_unmapped, skip_secondary, skip_supplementary, index_reads, orientation, min_read_len, min_align_len, min_mapq, min_freq_identity, select_ref_fn, exclude_ref_fn, verbose, quiet, progress, kwargs)\n",
       "\n",
       "\n",
       "\n",
       "---\n",
       "\n",
       "* **input_fn** (required) [str]\n",
       "\n",
       "Path to the bam file to filter\n",
       "\n",
       "* **output_fn** (required) [str]\n",
       "\n",
       "Path to the write filtered bam file\n",
       "\n",
       "* **selected_reads_fn** (default: None) [str]\n",
       "\n",
       "Optional file where to write ids of selected reads\n",
       "\n",
       "* **skip_unmapped** (default: False) [bool]\n",
       "\n",
       "Filter out unmapped reads\n",
       "\n",
       "* **skip_secondary** (default: False) [bool]\n",
       "\n",
       "Filter out secondary alignment\n",
       "\n",
       "* **skip_supplementary** (default: False) [bool]\n",
       "\n",
       "Filter out supplementary alignment\n",
       "\n",
       "* **index_reads** (default: False) [bool]\n",
       "\n",
       "Index bam file with both pysam and pybiotools reads_index\n",
       "\n",
       "* **orientation** (default: .) [str]\n",
       "\n",
       "Orientation of alignment on reference genome {\"+\",\"-\" ,\".\"}\n",
       "\n",
       "* **min_read_len** (default: 0) [int]\n",
       "\n",
       "Minimal query read length (basecalled length)\n",
       "\n",
       "* **min_align_len** (default: 0) [int]\n",
       "\n",
       "Minimal query alignment length on reference\n",
       "\n",
       "* **min_mapq** (default: 0) [int]\n",
       "\n",
       "Minimal mapping quality score (mapq)\n",
       "\n",
       "* **min_freq_identity** (default: 0) [float]\n",
       "\n",
       "Minimal frequency of alignment identity [0 to 1]\n",
       "\n",
       "* **select_ref_fn** (default: None) [str]\n",
       "\n",
       "File containing a list of references on which the reads have to be mapped.\n",
       "\n",
       "* **exclude_ref_fn** (default: None) [str]\n",
       "\n",
       "File containing a list of references on which the reads should not be mapped.\n",
       "\n",
       "* **verbose** (default: False) [bool]\n",
       "\n",
       "* **quiet** (default: False) [bool]\n",
       "\n",
       "* **progress** (default: False) [bool]\n",
       "\n",
       "* **kwargs**\n",
       "\n"
      ],
      "text/plain": [
       "<IPython.core.display.Markdown object>"
      ]
     },
     "metadata": {},
     "output_type": "display_data"
    }
   ],
   "source": [
    "jhelp(Alignment.Filter)"
   ]
  },
  {
   "cell_type": "markdown",
   "metadata": {},
   "source": [
    "### Basic usage"
   ]
  },
  {
   "cell_type": "markdown",
   "metadata": {},
   "source": [
    "Filter all non primary reads"
   ]
  },
  {
   "cell_type": "code",
   "execution_count": 18,
   "metadata": {
    "ExecuteTime": {
     "end_time": "2021-01-21T15:33:44.600321Z",
     "start_time": "2021-01-21T15:33:39.308221Z"
    },
    "scrolled": false
   },
   "outputs": [
    {
     "name": "stderr",
     "output_type": "stream",
     "text": [
      "\u001b[01;34m## Running Alignment Filter ##\u001b[0m\n",
      "\u001b[32m\tChecking input bam file\u001b[0m\n",
      "\u001b[37m\t[DEBUG]: Make output directories\u001b[0m\n",
      "\u001b[32m\tParsing reads\u001b[0m\n",
      "\tReading : 13684 Reads [00:05, 2633.81 Reads/s]\n",
      "\u001b[32m\tRead counts summary\u001b[0m\n",
      "\u001b[32m\t Reads retained\u001b[0m\n",
      "\u001b[32m\t  primary: 10,584\u001b[0m\n",
      "\u001b[32m\t  total: 10,584\u001b[0m\n",
      "\u001b[32m\t Reads discarded\u001b[0m\n",
      "\u001b[32m\t  total: 3,100\u001b[0m\n",
      "\u001b[32m\t  secondary: 1,496\u001b[0m\n",
      "\u001b[32m\t  unmapped: 1,416\u001b[0m\n",
      "\u001b[32m\t  supplementary: 188\u001b[0m\n"
     ]
    },
    {
     "name": "stdout",
     "output_type": "stream",
     "text": [
      "4f20c07e-183a-4483-9313-220390 16 chr-I 2    60 328S11M5I14M1D10M4I30M2D52M1D6 * 0 0 GGCACACCCACACCACACCCACACCCACAC ##$'&$(.-,.+./(+,/844-,-;7005, NM:i:1988 ms:i:18286 AS:i:18594 nn:i:0 tp:A:P cm:i:921  s1:i:6929 s2:i:609  de:f:0.085  SA:Z:chr-VIII,562456,+,14512S1 \n",
      "f5fc15c4-0bd5-4e56-9509-625574 16 chr-I 16   60 263S37M1D18M1I9M2I19M1D10M3D4M * 0 0 CTGGGACACACCACACCCACACCACACCCA \"$#\"%+*-.1)''+)(*,$+-462/..;75 NM:i:183  ms:i:2086  AS:i:2086  nn:i:0 tp:A:P cm:i:103  s1:i:758  s2:i:357  de:f:0.0852 SA:Z:chr-VIII,562456,+,1742S12 \n",
      "4c144dc6-705a-4d0c-951f-02fd7f 16 chr-I 542  60 8S25M1I49M1D49M1I14M1I12M1D6M1 * 0 0 TTTGAGGTACGGCACTTGCCTCAGCGGTCT \"$$)*'+(.,+&%(&(10&(\"'*%$..,1- NM:i:221  ms:i:1888  AS:i:1888  nn:i:0 tp:A:P cm:i:80   s1:i:588  s2:i:370  de:f:0.1074 \n",
      "6449b796-5339-4d61-8cf4-14658f 0  chr-I 1007 60 116S17M1I51M1D21M1I3M1I41M1D26 * 0 0 TCAATTGTACTCGTTAGTTCAAGATGGTGT ''%$+'(*&,+%&$*%).)#%'&'-(1(*, NM:i:2273 ms:i:24152 AS:i:24491 nn:i:0 tp:A:P cm:i:1195 s1:i:9277 s2:i:1734 de:f:0.0799 \n",
      "f0bea8a5-a7bc-455c-b0e8-abc6ff 0  chr-I 1331 60 130S14M2D5M1D10M3D5M1I19M3D2M3 * 0 0 TCAGTGATAGCCGTTCAGTTGGTGTTAGCA 25+/-%$$$\"$%/.7&%#&&(/-2-:(++, NM:i:459  ms:i:4616  AS:i:4616  nn:i:0 tp:A:P cm:i:213  s1:i:1646 s2:i:247  de:f:0.0948 \n",
      "f50af728-e016-4c74-b48f-fe7459 0  chr-I 1708 60 57S16M2D10M2D35M2D12M1D2M1I34M * 0 0 ATATTGCTTCGTTCCGGTTATCTGGAAACG #$#(&',<3:79++($\"$#\"#&$$#()'(% NM:i:99   ms:i:1754  AS:i:1754  nn:i:0 tp:A:P cm:i:95   s1:i:698  s2:i:383  de:f:0.0686 \n",
      "3213cb66-ac07-468a-862e-4e5fd1 0  chr-I 4220 60 103S12M3D6M2D56M1I33M2D19M1I35 * 0 0 ATCGGTGGCGCTTCGTTCAATGGGTGTTTA %*)&)''),#%#)%*,2)$##%&%%&),%\" NM:i:30   ms:i:744   AS:i:744   nn:i:0 tp:A:P cm:i:40   s1:i:310  s2:i:0    de:f:0.0495 \n",
      "370dbed1-1e84-4b40-87ff-e6468b 16 chr-I 4327 60 19S21M1D33M2D32M1I2M2D19M2D39M * 0 0 TTTCCAATAGTTTAAGGTTACTACATGACA '''((,&#(''&)*,))*%0%-*298522* NM:i:449  ms:i:8048  AS:i:8048  nn:i:0 tp:A:P cm:i:459  s1:i:3247 s2:i:0    de:f:0.0594 \n",
      "9e21a7d4-1b3e-4967-856e-ca4e99 0  chr-I 4506 48 106S20M1I3M1D7M1D9M2D11M1D4M1I * 0 0 ACCGTGCTGGTTCGGATCAGCAAAGAAGTT \"%$#%$%#'%)(+%'\"#\"\"#%%)'%(*),7 NM:i:256  ms:i:336   AS:i:336   nn:i:0 tp:A:P cm:i:10   s1:i:73   s2:i:0    de:f:0.1846 \n",
      "b6a48773-8ef9-4491-b554-40d18f 16 chr-I 4949 60 242S10M1I30M1D24M1D18M2I22M2D5 * 0 0 TAAACTTGGGATGCAGAGCCTAAAAATGTT \"),(##\"#\"\"\"\"$$'('$#%$'+8.*'&)- NM:i:254  ms:i:524   AS:i:524   nn:i:0 tp:A:P cm:i:15   s1:i:119  s2:i:0    de:f:0.1917 \n",
      "\n"
     ]
    }
   ],
   "source": [
    "Alignment.Filter(\n",
    "    \"./data/sample_1.bam\", \n",
    "    \"./output/sample_1_filter.bam\",\n",
    "    skip_unmapped = True,\n",
    "    skip_supplementary = True,\n",
    "    skip_secondary = True,\n",
    "    progress=True,\n",
    "    verbose=True)\n",
    "\n",
    "head(\"./output/sample_1_filter.bam\")"
   ]
  },
  {
   "cell_type": "markdown",
   "metadata": {},
   "source": [
    "### Multi criteria filtering"
   ]
  },
  {
   "cell_type": "markdown",
   "metadata": {},
   "source": [
    "Remove unmapped, short reads and alignments, reads mapped on the minus strand, low mapq and low identity"
   ]
  },
  {
   "cell_type": "code",
   "execution_count": 17,
   "metadata": {
    "ExecuteTime": {
     "end_time": "2021-01-21T15:33:37.593880Z",
     "start_time": "2021-01-21T15:33:34.813095Z"
    },
    "scrolled": false
   },
   "outputs": [
    {
     "name": "stderr",
     "output_type": "stream",
     "text": [
      "\u001b[01;34m## Running Alignment Filter ##\u001b[0m\n",
      "\u001b[32m\tChecking input bam file\u001b[0m\n",
      "\u001b[37m\t[DEBUG]: Make output directories\u001b[0m\n",
      "\u001b[32m\tParsing reads\u001b[0m\n",
      "\tReading : 13684 Reads [00:02, 5320.77 Reads/s]\n",
      "\u001b[32m\tRead counts summary\u001b[0m\n",
      "\u001b[32m\t Reads discarded\u001b[0m\n",
      "\u001b[32m\t  total: 9,211\u001b[0m\n",
      "\u001b[32m\t  wrong_orientation: 6,168\u001b[0m\n",
      "\u001b[32m\t  unmapped: 1,416\u001b[0m\n",
      "\u001b[32m\t  low_mapping_quality: 973\u001b[0m\n",
      "\u001b[32m\t  low_identity: 514\u001b[0m\n",
      "\u001b[32m\t  short_alignment: 99\u001b[0m\n",
      "\u001b[32m\t  short_read: 41\u001b[0m\n",
      "\u001b[32m\t Reads retained\u001b[0m\n",
      "\u001b[32m\t  total: 4,473\u001b[0m\n",
      "\u001b[32m\t  primary: 4,422\u001b[0m\n",
      "\u001b[32m\t  supplementary: 51\u001b[0m\n"
     ]
    },
    {
     "name": "stdout",
     "output_type": "stream",
     "text": [
      "6449b796-5339-4d61-8cf4-14658f 0 chr-I 1007  60 116S17M1I51M1D21M1I3M1I41M1D26 * 0 0 TCAATTGTACTCGTTAGTTCAAGATGGTGT ''%$+'(*&,+%&$*%).)#%'&'-(1(*, NM:i:2273 ms:i:24152 AS:i:24491 nn:i:0 tp:A:P cm:i:1195 s1:i:9277 s2:i:1734 de:f:0.0799 \n",
      "f0bea8a5-a7bc-455c-b0e8-abc6ff 0 chr-I 1331  60 130S14M2D5M1D10M3D5M1I19M3D2M3 * 0 0 TCAGTGATAGCCGTTCAGTTGGTGTTAGCA 25+/-%$$$\"$%/.7&%#&&(/-2-:(++, NM:i:459  ms:i:4616  AS:i:4616  nn:i:0 tp:A:P cm:i:213  s1:i:1646 s2:i:247  de:f:0.0948 \n",
      "f50af728-e016-4c74-b48f-fe7459 0 chr-I 1708  60 57S16M2D10M2D35M2D12M1D2M1I34M * 0 0 ATATTGCTTCGTTCCGGTTATCTGGAAACG #$#(&',<3:79++($\"$#\"#&$$#()'(% NM:i:99   ms:i:1754  AS:i:1754  nn:i:0 tp:A:P cm:i:95   s1:i:698  s2:i:383  de:f:0.0686 \n",
      "3213cb66-ac07-468a-862e-4e5fd1 0 chr-I 4220  60 103S12M3D6M2D56M1I33M2D19M1I35 * 0 0 ATCGGTGGCGCTTCGTTCAATGGGTGTTTA %*)&)''),#%#)%*,2)$##%&%%&),%\" NM:i:30   ms:i:744   AS:i:744   nn:i:0 tp:A:P cm:i:40   s1:i:310  s2:i:0    de:f:0.0495 \n",
      "a93f0bb3-2ac6-4139-9eea-618d3d 0 chr-I 5549  60 9S9M1I14M1I4M3D3M1I9M1D27M1D5M * 0 0 ACAATGGTTTTTTATAGAGACATATTTTTT \"\"'\"\"\"\"\"%&%&&-0'+''-+)+)2-;84, NM:i:209  ms:i:2678  AS:i:2678  nn:i:0 tp:A:P cm:i:127  s1:i:1031 s2:i:0    de:f:0.078  \n",
      "68ef24e6-a3c8-4c7e-a10e-b9db60 0 chr-I 6611  60 92S38M2D12M1D25M1D22M1D17M2D4M * 0 0 TCAGTACTTCGTTCAGTAACCAAGAAAGTT &\"##&$*)*%(+22$###\"$#*(%*.-1/< NM:i:64   ms:i:1366  AS:i:1366  nn:i:0 tp:A:P cm:i:73   s1:i:526  s2:i:0    de:f:0.058  \n",
      "4eb0b340-2c98-4d05-921e-25a33f 0 chr-I 7967  60 112S12M1I80M1D7M1D9M3D15M1I25M * 0 0 CTCAGTATGCTTCGTTCAGTCAGACTGGGT #$$%#'%-$12<7666.'$)*$&%$&).43 NM:i:87   ms:i:1128  AS:i:1128  nn:i:0 tp:A:P cm:i:56   s1:i:429  s2:i:0    de:f:0.0752 \n",
      "1c657032-c062-4728-ae39-f455bd 0 chr-I 12969 60 98S6M1I12M1I25M1D14M3D16M1I92M * 0 0 ATCGGTATGCTTCGTTCAGGTGTTTAACCA \"\"%'&)(.$33<42%####/')+>=48/3) NM:i:40   ms:i:940   AS:i:940   nn:i:0 tp:A:P cm:i:55   s1:i:364  s2:i:129  de:f:0.0527 \n",
      "3b2856a0-7f61-4829-ae09-d3ed6b 0 chr-I 15150 60 101S12M1I12M1I6M1D2M1D13M2D6M2 * 0 0 CTCATTGCTTCGTTTCGGTTGCCTCGATTC %,(%&&\"%+)0021+###$#\"&(,.55:>8 NM:i:112  ms:i:806   AS:i:806   nn:i:0 tp:A:P cm:i:23   s1:i:229  s2:i:136  de:f:0.1199 \n",
      "54df109b-0ddf-48db-b7c0-8eecfe 0 chr-I 16913 60 46S13M2D63M1D43M2D30M2D8M2D16M * 0 0 TCGGTTTTCGACATCGTGAAACGCTTTCGC \"\"#\"\"**-'&&&+-,'$$,/(++)-/+##% NM:i:52   ms:i:898   AS:i:898   nn:i:0 tp:A:P cm:i:41   s1:i:319  s2:i:145  de:f:0.0558 \n",
      "\n"
     ]
    }
   ],
   "source": [
    "Alignment.Filter(\n",
    "    \"./data/sample_1.bam\", \n",
    "    \"./output/sample_1_filter.bam\",\n",
    "    skip_unmapped = True,\n",
    "    min_read_len=300,\n",
    "    min_align_len=300,\n",
    "    orientation = \"+\",\n",
    "    min_mapq = 10,\n",
    "    min_freq_identity=0.8,\n",
    "    progress=True,\n",
    "    verbose=True)\n",
    "\n",
    "head(\"./output/sample_1_filter.bam\") "
   ]
  },
  {
   "cell_type": "markdown",
   "metadata": {},
   "source": [
    "### Select specific reference"
   ]
  },
  {
   "cell_type": "code",
   "execution_count": 20,
   "metadata": {
    "ExecuteTime": {
     "end_time": "2021-01-21T15:35:25.562786Z",
     "start_time": "2021-01-21T15:35:23.413370Z"
    }
   },
   "outputs": [
    {
     "name": "stderr",
     "output_type": "stream",
     "text": [
      "\u001b[01;34m## Running Alignment Filter ##\u001b[0m\n",
      "\u001b[32m\tChecking input bam file\u001b[0m\n",
      "\u001b[32m\tLoading selected reference file ids\u001b[0m\n",
      "\u001b[37m\t[DEBUG]: Found 6 references to select\u001b[0m\n",
      "\u001b[37m\t[DEBUG]: Make output directories\u001b[0m\n",
      "\u001b[32m\tParsing reads\u001b[0m\n",
      "\tReading : 13684 Reads [00:02, 6754.57 Reads/s]\n",
      "\u001b[32m\tRead counts summary\u001b[0m\n",
      "\u001b[32m\t Reads retained\u001b[0m\n",
      "\u001b[32m\t  total: 4,426\u001b[0m\n",
      "\u001b[32m\t  primary: 2,650\u001b[0m\n",
      "\u001b[32m\t  unmapped: 1,416\u001b[0m\n",
      "\u001b[32m\t  secondary: 322\u001b[0m\n",
      "\u001b[32m\t  supplementary: 38\u001b[0m\n",
      "\u001b[32m\t Reads discarded\u001b[0m\n",
      "\u001b[32m\t  invalid_reference: 9,258\u001b[0m\n",
      "\u001b[32m\t  total: 9,258\u001b[0m\n"
     ]
    }
   ],
   "source": [
    "with open (\"data/select_ref.txt\", \"w\") as fp:\n",
    "    for ref in ['chr-I', 'chr-II', 'chr-III', 'chr-IV', 'chr-V', 'chr-VI']:\n",
    "        fp.write(f\"{ref}\\n\")\n",
    "\n",
    "Alignment.Filter(\n",
    "    input_fn=\"./data/sample_1.bam\",\n",
    "    output_fn=\"./output/sample_1_filter.bam\",\n",
    "    select_ref_fn=\"data/select_ref.txt\",\n",
    "    index=True,\n",
    "    progress=True,\n",
    "    verbose=True)"
   ]
  },
  {
   "cell_type": "markdown",
   "metadata": {},
   "source": [
    "## To_fastq"
   ]
  },
  {
   "cell_type": "code",
   "execution_count": 11,
   "metadata": {
    "ExecuteTime": {
     "end_time": "2021-01-21T15:32:26.569115Z",
     "start_time": "2021-01-21T15:32:26.560005Z"
    },
    "init_cell": true,
    "scrolled": true
   },
   "outputs": [
    {
     "data": {
      "text/markdown": [
       "**To_fastq** (input_fn, output_r1_fn, output_r2_fn, ignore_paired_end, verbose, quiet, progress, kwargs)\n",
       "\n",
       "Dump reads from an alignment file or set of alignment file(s) to a fastq or pair of fastq file(s). Only the primary alignment are kept and paired_end reads are assumed to be interleaved. Compatible with unmapped or unaligned alignment files as well as files without header.\n",
       "\n",
       "---\n",
       "\n",
       "* **input_fn** (required) [list(str)]\n",
       "\n",
       "Path (or list of paths) to input BAM/CRAM/SAM file(s)\n",
       "\n",
       "* **output_r1_fn** (required) [str]\n",
       "\n",
       "Path to an output fastq file (for Read1 in paired_end mode of output_r2_fn is provided). Automatically gzipped if the .gz extension is found\n",
       "\n",
       "* **output_r2_fn** (default: None) [str]\n",
       "\n",
       "Optional Path to an output fastq file. Automatically gzipped if the .gz extension is found\n",
       "\n",
       "* **ignore_paired_end** (default: False) [bool]\n",
       "\n",
       "Ignore paired_end information and output everything in a single file.\n",
       "\n",
       "* **verbose** (default: False) [bool]\n",
       "\n",
       "* **quiet** (default: False) [bool]\n",
       "\n",
       "* **progress** (default: False) [bool]\n",
       "\n",
       "* **kwargs**\n",
       "\n"
      ],
      "text/plain": [
       "<IPython.core.display.Markdown object>"
      ]
     },
     "metadata": {},
     "output_type": "display_data"
    }
   ],
   "source": [
    "jhelp(Alignment.To_fastq)"
   ]
  },
  {
   "cell_type": "markdown",
   "metadata": {},
   "source": [
    "### Single end read usage from bam files"
   ]
  },
  {
   "cell_type": "code",
   "execution_count": 17,
   "metadata": {
    "ExecuteTime": {
     "end_time": "2021-01-19T14:53:01.900658Z",
     "start_time": "2021-01-19T14:52:26.619682Z"
    },
    "scrolled": true
   },
   "outputs": [
    {
     "name": "stderr",
     "output_type": "stream",
     "text": [
      "\u001b[01;34m## Running Alignment To_fastq ##\u001b[0m\n",
      "\u001b[37m\t[DEBUG]: Opening file ./output/sample_1-2_SE_from_bam.fastq.gz in writing mode\u001b[0m\n",
      "\u001b[32m\tParsing reads\u001b[0m\n",
      "\u001b[32m\tReading input file ./data/sample_1.bam\u001b[0m\n",
      "\tReading: 12000 Reads [00:16, 740.81 Reads/s] \n",
      "\u001b[37m\t[DEBUG]: Reached end of input file ./data/sample_1.bam\u001b[0m\n",
      "\u001b[32m\tReading input file ./data/sample_2.bam\u001b[0m\n",
      "\tReading: 12000 Reads [00:19, 630.06 Reads/s] \n",
      "\u001b[37m\t[DEBUG]: Reached end of input file ./data/sample_2.bam\u001b[0m\n",
      "\u001b[37m\t[DEBUG]: Closing file:./output/sample_1-2_SE_from_bam.fastq.gz\u001b[0m\n",
      "\u001b[37m\t[DEBUG]: Sequences writen: 24000\u001b[0m\n"
     ]
    }
   ],
   "source": [
    "Alignment.To_fastq(\n",
    "    input_fn=[\"./data/sample_1.bam\", \"./data/sample_2.bam\"],\n",
    "    output_r1_fn=\"./output/sample_1-2_SE_from_bam.fastq.gz\",\n",
    "    verbose=True,\n",
    "    progress=True)"
   ]
  },
  {
   "cell_type": "markdown",
   "metadata": {},
   "source": [
    "###  Paired-end reads usage from unaligned CRAM files"
   ]
  },
  {
   "cell_type": "code",
   "execution_count": 18,
   "metadata": {
    "ExecuteTime": {
     "end_time": "2021-01-19T14:53:09.083143Z",
     "start_time": "2021-01-19T14:53:01.902218Z"
    },
    "scrolled": false
   },
   "outputs": [
    {
     "name": "stderr",
     "output_type": "stream",
     "text": [
      "\u001b[01;34m## Running Alignment To_fastq ##\u001b[0m\n",
      "\u001b[37m\t[DEBUG]: Opening file ./output/sample_1-2_PE_from_CRAM_1.fastq.gz in writing mode\u001b[0m\n",
      "\u001b[37m\t[DEBUG]: Opening file ./output/sample_1-2_PE_from_CRAM_2.fastq.gz in writing mode\u001b[0m\n",
      "\u001b[32m\tParsing reads\u001b[0m\n",
      "\u001b[32m\tReading input file ./data/sample_1_20k.cram\u001b[0m\n",
      "\tReading: 12000 Reads [00:03, 3318.62 Reads/s]\n",
      "\u001b[37m\t[DEBUG]: Reached end of input file ./data/sample_1_20k.cram\u001b[0m\n",
      "\u001b[32m\tReading input file ./data/sample_2_20k.cram\u001b[0m\n",
      "\tReading: 12000 Reads [00:03, 3385.10 Reads/s]\n",
      "\u001b[37m\t[DEBUG]: Reached end of input file ./data/sample_2_20k.cram\u001b[0m\n",
      "\u001b[37m\t[DEBUG]: Closing file:./output/sample_1-2_PE_from_CRAM_1.fastq.gz\u001b[0m\n",
      "\u001b[37m\t[DEBUG]: Sequences writen: 24000\u001b[0m\n",
      "\u001b[37m\t[DEBUG]: Closing file:./output/sample_1-2_PE_from_CRAM_2.fastq.gz\u001b[0m\n",
      "\u001b[37m\t[DEBUG]: Sequences writen: 24000\u001b[0m\n"
     ]
    }
   ],
   "source": [
    "Alignment.To_fastq(\n",
    "    input_fn=[\"./data/sample_1_20k.cram\", \"./data/sample_2_20k.cram\"],\n",
    "    output_r1_fn=\"./output/sample_1-2_PE_from_CRAM_1.fastq.gz\",\n",
    "    output_r2_fn=\"./output/sample_1-2_PE_from_CRAM_2.fastq.gz\",\n",
    "    verbose=True,\n",
    "    progress=True)"
   ]
  },
  {
   "cell_type": "markdown",
   "metadata": {},
   "source": [
    "## Split"
   ]
  },
  {
   "cell_type": "code",
   "execution_count": 12,
   "metadata": {
    "ExecuteTime": {
     "end_time": "2021-01-21T15:32:26.580810Z",
     "start_time": "2021-01-21T15:32:26.571263Z"
    },
    "init_cell": true,
    "scrolled": false
   },
   "outputs": [
    {
     "data": {
      "text/markdown": [
       "**Split** (input_fn, output_dir, n_files, output_fn_list, index, verbose, quiet, progress, kwargs)\n",
       "\n",
       "Split reads in a bam file in N files. The input bam file has to be sorted by coordinates and indexed. The last file can contain a few extra reads.\n",
       "\n",
       "---\n",
       "\n",
       "* **input_fn** (required) [str]\n",
       "\n",
       "Path to the bam file to filter\n",
       "\n",
       "* **output_dir** (default: \"\") [str]\n",
       "\n",
       "Path to the directory where to write split bam files. Files generated have the same basename as the source file and are suffixed with numbers starting from 0\n",
       "\n",
       "* **n_files** (default: 10) [int]\n",
       "\n",
       "Number of file to split the original file into\n",
       "\n",
       "* **output_fn_list** (default: []) [list(str)]\n",
       "\n",
       "As an alternative to output_dir and n_files one can instead give a list of output files. Reads will be automatically split between the files in the same order as given\n",
       "\n",
       "* **index** (default: False) [bool]\n",
       "\n",
       "Index output BAM files\n",
       "\n",
       "* **verbose** (default: False) [bool]\n",
       "\n",
       "* **quiet** (default: False) [bool]\n",
       "\n",
       "* **progress** (default: False) [bool]\n",
       "\n",
       "* **kwargs**\n",
       "\n"
      ],
      "text/plain": [
       "<IPython.core.display.Markdown object>"
      ]
     },
     "metadata": {},
     "output_type": "display_data"
    }
   ],
   "source": [
    "jhelp(Alignment.Split)"
   ]
  },
  {
   "cell_type": "markdown",
   "metadata": {},
   "source": [
    "### Usage with number of output files to generate"
   ]
  },
  {
   "cell_type": "code",
   "execution_count": 20,
   "metadata": {
    "ExecuteTime": {
     "end_time": "2021-01-19T14:53:14.585353Z",
     "start_time": "2021-01-19T14:53:09.089849Z"
    },
    "scrolled": false
   },
   "outputs": [
    {
     "name": "stderr",
     "output_type": "stream",
     "text": [
      "\u001b[01;34m## Running Alignment Split ##\u001b[0m\n",
      "\u001b[32m\tChecking input bam file\u001b[0m\n",
      "\u001b[37m\t[DEBUG]: List of output files to generate:\u001b[0m\n",
      "\u001b[37m\t[DEBUG]: * ./output/split_bam/sample_1_0.bam\u001b[0m\n",
      "\u001b[37m\t[DEBUG]: * ./output/split_bam/sample_1_1.bam\u001b[0m\n",
      "\u001b[37m\t[DEBUG]: * ./output/split_bam/sample_1_2.bam\u001b[0m\n",
      "\u001b[37m\t[DEBUG]: * ./output/split_bam/sample_1_3.bam\u001b[0m\n",
      "\u001b[32m\tParsing reads\u001b[0m\n",
      "\u001b[37m\t[DEBUG]: Counting reads\u001b[0m\n",
      "\u001b[37m\t[DEBUG]: Open ouput file './output/split_bam/sample_1_0.bam'\u001b[0m\n",
      "\u001b[37m\t[DEBUG]: Close output file './output/split_bam/sample_1_0.bam'\u001b[0m\n",
      "\u001b[37m\t[DEBUG]: Reads written: 3,421\u001b[0m\n",
      "\u001b[37m\t[DEBUG]: Open ouput file './output/split_bam/sample_1_1.bam'\u001b[0m\n",
      "\u001b[37m\t[DEBUG]: Close output file './output/split_bam/sample_1_1.bam'\u001b[0m\n",
      "\u001b[37m\t[DEBUG]: Reads written: 3,421\u001b[0m\n",
      "\u001b[37m\t[DEBUG]: Open ouput file './output/split_bam/sample_1_2.bam'\u001b[0m\n",
      "\u001b[37m\t[DEBUG]: Close output file './output/split_bam/sample_1_2.bam'\u001b[0m\n",
      "\u001b[37m\t[DEBUG]: Reads written: 3,421\u001b[0m\n",
      "\u001b[37m\t[DEBUG]: Open ouput file './output/split_bam/sample_1_3.bam'\u001b[0m\n",
      "\u001b[37m\t[DEBUG]: Reached end of input file\u001b[0m\n",
      "\u001b[37m\t[DEBUG]: Close output file './output/split_bam/sample_1_3.bam'\u001b[0m\n",
      "\u001b[37m\t[DEBUG]: Reads written: 3,421\u001b[0m\n",
      "\u001b[32m\tRead counts summary\u001b[0m\n",
      "\u001b[32m\t Reads from index: 13,684\u001b[0m\n",
      "\u001b[32m\t Reads writen: 13,684\u001b[0m\n",
      "\u001b[32m\t Reads per file: 3,421\u001b[0m\n"
     ]
    },
    {
     "name": "stdout",
     "output_type": "stream",
     "text": [
      "total 38M\r\n",
      "-rw-rw-r-- 1 aleg aleg  11M Jan 19 14:53 sample_1_0.bam\r\n",
      "-rw-rw-r-- 1 aleg aleg  12M Jan 19 14:53 sample_1_1.bam\r\n",
      "-rw-rw-r-- 1 aleg aleg 9.4M Jan 19 14:53 sample_1_2.bam\r\n",
      "-rw-rw-r-- 1 aleg aleg 5.6M Jan 19 14:53 sample_1_3.bam\r\n"
     ]
    }
   ],
   "source": [
    "Alignment.Split(\n",
    "    input_fn=\"./data/sample_1.bam\",\n",
    "    output_dir=\"./output/split_bam\",\n",
    "    n_files= 4,\n",
    "    verbose=True)\n",
    "\n",
    "!ls -lh \"./output/split_bam\""
   ]
  },
  {
   "cell_type": "markdown",
   "metadata": {},
   "source": [
    "### Usage with a predefined list of output files"
   ]
  },
  {
   "cell_type": "code",
   "execution_count": 21,
   "metadata": {
    "ExecuteTime": {
     "end_time": "2021-01-19T14:53:21.207545Z",
     "start_time": "2021-01-19T14:53:14.587129Z"
    },
    "scrolled": false
   },
   "outputs": [
    {
     "name": "stderr",
     "output_type": "stream",
     "text": [
      "\u001b[01;34m## Running Alignment Split ##\u001b[0m\n",
      "\u001b[32m\tChecking input bam file\u001b[0m\n",
      "\u001b[37m\t[DEBUG]: List of output files to generate:\u001b[0m\n",
      "\u001b[37m\t[DEBUG]: * ./output/split_bam_2/f1.bam\u001b[0m\n",
      "\u001b[37m\t[DEBUG]: * ./output/split_bam_2/f4.bam\u001b[0m\n",
      "\u001b[37m\t[DEBUG]: * ./output/split_bam_2/f3.bam\u001b[0m\n",
      "\u001b[32m\tParsing reads\u001b[0m\n",
      "\u001b[37m\t[DEBUG]: Counting reads\u001b[0m\n",
      "\u001b[37m\t[DEBUG]: Open ouput file './output/split_bam_2/f1.bam'\u001b[0m\n",
      "\u001b[37m\t[DEBUG]: Close output file './output/split_bam_2/f1.bam'\u001b[0m\n",
      "\u001b[37m\t[DEBUG]: Reads written: 4,559\u001b[0m\n",
      "\u001b[37m\t[DEBUG]: index output file './output/split_bam_2/f1.bam'\u001b[0m\n",
      "\u001b[37m\t[DEBUG]: Open ouput file './output/split_bam_2/f4.bam'\u001b[0m\n",
      "\u001b[37m\t[DEBUG]: Close output file './output/split_bam_2/f4.bam'\u001b[0m\n",
      "\u001b[37m\t[DEBUG]: Reads written: 4,559\u001b[0m\n",
      "\u001b[37m\t[DEBUG]: index output file './output/split_bam_2/f4.bam'\u001b[0m\n",
      "\u001b[37m\t[DEBUG]: Open ouput file './output/split_bam_2/f3.bam'\u001b[0m\n",
      "\u001b[37m\t[DEBUG]: Reached end of input file\u001b[0m\n",
      "\u001b[37m\t[DEBUG]: Close output file './output/split_bam_2/f3.bam'\u001b[0m\n",
      "\u001b[37m\t[DEBUG]: Reads written: 4,560\u001b[0m\n",
      "\u001b[37m\t[DEBUG]: index output file './output/split_bam_2/f3.bam'\u001b[0m\n",
      "\u001b[32m\tRead counts summary\u001b[0m\n",
      "\u001b[32m\t Reads from index: 13,678\u001b[0m\n",
      "\u001b[32m\t Reads writen: 13,678\u001b[0m\n",
      "\u001b[32m\t Reads per file: 4,559\u001b[0m\n"
     ]
    },
    {
     "name": "stdout",
     "output_type": "stream",
     "text": [
      "total 55M\r\n",
      "-rw-rw-r-- 1 aleg aleg  17M Jan 19 14:53 f1.bam\r\n",
      "-rw-rw-r-- 1 aleg aleg  10K Jan 19 14:53 f1.bam.bai\r\n",
      "-rw-rw-r-- 1 aleg aleg  12M Nov 11 21:31 f2.bam\r\n",
      "-rw-rw-r-- 1 aleg aleg 7.4K Jan 30  2020 f2.bam.bai\r\n",
      "-rw-rw-r-- 1 aleg aleg  11M Jan 19 14:53 f3.bam\r\n",
      "-rw-rw-r-- 1 aleg aleg 5.2K Jan 19 14:53 f3.bam.bai\r\n",
      "-rw-rw-r-- 1 aleg aleg  16M Jan 19 14:53 f4.bam\r\n",
      "-rw-rw-r-- 1 aleg aleg 8.6K Jan 19 14:53 f4.bam.bai\r\n"
     ]
    }
   ],
   "source": [
    "Alignment.Split(\n",
    "    input_fn=\"./data/sample_2.bam\",\n",
    "    output_fn_list=[\"./output/split_bam_2/f1.bam\", \"./output/split_bam_2/f4.bam\", \"./output/split_bam_2/f3.bam\"],\n",
    "    index=True,\n",
    "    verbose=True)\n",
    "\n",
    "!ls -lh \"./output/split_bam_2\""
   ]
  }
 ],
 "metadata": {
  "celltoolbar": "Initialization Cell",
  "hide_input": false,
  "kernelspec": {
   "display_name": "Python [conda env:pyBioTools]",
   "language": "python",
   "name": "conda-env-pyBioTools-py"
  },
  "language_info": {
   "codemirror_mode": {
    "name": "ipython",
    "version": 3
   },
   "file_extension": ".py",
   "mimetype": "text/x-python",
   "name": "python",
   "nbconvert_exporter": "python",
   "pygments_lexer": "ipython3",
   "version": "3.7.9"
  }
 },
 "nbformat": 4,
 "nbformat_minor": 2
}
