{
 "cells": [
  {
   "cell_type": "markdown",
   "metadata": {},
   "source": [
    "# Seqsum CLI Usage"
   ]
  },
  {
   "cell_type": "markdown",
   "metadata": {},
   "source": [
    "## Activate virtual environment"
   ]
  },
  {
   "cell_type": "code",
   "execution_count": 1,
   "metadata": {
    "ExecuteTime": {
     "end_time": "2021-01-19T16:03:03.551091Z",
     "start_time": "2021-01-19T16:03:03.272967Z"
    },
    "scrolled": true
   },
   "outputs": [
    {
     "name": "stdout",
     "output_type": "stream",
     "text": [
      "(pyBioTools) "
     ]
    },
    {
     "ename": "",
     "evalue": "1",
     "output_type": "error",
     "traceback": []
    }
   ],
   "source": [
    "# Using virtualenvwrapper here but can also be done with Conda \n",
    "conda activate pyBioTools"
   ]
  },
  {
   "cell_type": "markdown",
   "metadata": {},
   "source": [
    "## Merge"
   ]
  },
  {
   "cell_type": "markdown",
   "metadata": {},
   "source": [
    "### Get help"
   ]
  },
  {
   "cell_type": "code",
   "execution_count": 2,
   "metadata": {
    "ExecuteTime": {
     "end_time": "2021-01-19T16:03:05.113568Z",
     "start_time": "2021-01-19T16:03:04.661467Z"
    }
   },
   "outputs": [
    {
     "name": "stdout",
     "output_type": "stream",
     "text": [
      "usage: pyBioTools Seqsum Merge [-h] -i [INPUT_FN [INPUT_FN ...]] -o OUTPUT_FN\n",
      "                               [--old_filename_synthax] [-v] [-q] [--progress]\n",
      "\n",
      "optional arguments:\n",
      "  -h, --help            show this help message and exit\n",
      "  -i [INPUT_FN [INPUT_FN ...]], --input_fn [INPUT_FN [INPUT_FN ...]]\n",
      "                        Sequencing summary file path or directory containing\n",
      "                        Sequencing summary file or list of files, or regex or\n",
      "                        list of regex. It is quite flexible. Files can also be\n",
      "                        gzipped (required) [str]\n",
      "  -o OUTPUT_FN, --output_fn OUTPUT_FN\n",
      "                        Destination sequencing summary file. Automatically\n",
      "                        gzipped if the .gz extension is found (required) [str]\n",
      "  --old_filename_synthax\n",
      "                        Replace the `filename_fast5` field by `filename` as in\n",
      "                        older versions. Useful for nanopolish index\n",
      "                        compatibility (default: False) [None]\n",
      "  -v, --verbose         Increase verbosity (default: False)\n",
      "  -q, --quiet           Reduce verbosity (default: False)\n",
      "  --progress            Display a progress bar\n",
      "(pyBioTools) "
     ]
    },
    {
     "ename": "",
     "evalue": "1",
     "output_type": "error",
     "traceback": []
    }
   ],
   "source": [
    "pyBioTools Seqsum Merge -h"
   ]
  },
  {
   "cell_type": "markdown",
   "metadata": {},
   "source": [
    "### Basic usage"
   ]
  },
  {
   "cell_type": "code",
   "execution_count": 3,
   "metadata": {
    "ExecuteTime": {
     "end_time": "2021-01-19T16:03:08.119700Z",
     "start_time": "2021-01-19T16:03:07.648635Z"
    },
    "scrolled": true
   },
   "outputs": [
    {
     "name": "stdout",
     "output_type": "stream",
     "text": [
      "\u001b[01;34m## Running Seqsum Merge ##\u001b[0m\n",
      "\u001b[32m\tParsing reads\u001b[0m\n",
      "\u001b[37m\t[DEBUG]: Reading file ./data/seqsum_new1.tsv\u001b[0m\n",
      "\u001b[37m\t[DEBUG]: End of file ./data/seqsum_new1.tsv\u001b[0m\n",
      "\u001b[37m\t[DEBUG]: Reading file ./data/seqsum_new2.tsv\u001b[0m\n",
      "\u001b[37m\t[DEBUG]: End of file ./data/seqsum_new2.tsv\u001b[0m\n",
      "\u001b[32m\tRead counts summary\u001b[0m\n",
      "\u001b[32m\t Files found: 2\u001b[0m\n",
      "\u001b[32m\t Valid files: 2\u001b[0m\n",
      "(pyBioTools) "
     ]
    },
    {
     "ename": "",
     "evalue": "1",
     "output_type": "error",
     "traceback": []
    }
   ],
   "source": [
    "pyBioTools Seqsum Merge -i ./data/seqsum_new1.tsv ./data/seqsum_new2.tsv -o ./output/seqsum_merged_1.tsv.gz --verbose"
   ]
  },
  {
   "cell_type": "markdown",
   "metadata": {},
   "source": [
    "### Using a regex instead"
   ]
  },
  {
   "cell_type": "code",
   "execution_count": 4,
   "metadata": {
    "ExecuteTime": {
     "end_time": "2021-01-19T16:03:09.890419Z",
     "start_time": "2021-01-19T16:03:09.441478Z"
    },
    "scrolled": true
   },
   "outputs": [
    {
     "name": "stdout",
     "output_type": "stream",
     "text": [
      "\u001b[01;34m## Running Seqsum Merge ##\u001b[0m\n",
      "\u001b[32m\tParsing reads\u001b[0m\n",
      "\u001b[37m\t[DEBUG]: Reading file ./data/seqsum_new1.tsv\u001b[0m\n",
      "\u001b[37m\t[DEBUG]: End of file ./data/seqsum_new1.tsv\u001b[0m\n",
      "\u001b[37m\t[DEBUG]: Reading file ./data/seqsum_new2.tsv\u001b[0m\n",
      "\u001b[37m\t[DEBUG]: End of file ./data/seqsum_new2.tsv\u001b[0m\n",
      "\u001b[32m\tRead counts summary\u001b[0m\n",
      "\u001b[32m\t Files found: 2\u001b[0m\n",
      "\u001b[32m\t Valid files: 2\u001b[0m\n",
      "(pyBioTools) "
     ]
    },
    {
     "ename": "",
     "evalue": "1",
     "output_type": "error",
     "traceback": []
    }
   ],
   "source": [
    "pyBioTools Seqsum Merge -i ./data/seqsum_* -o ./output/seqsum_merged_2.tsv.gz --verbose"
   ]
  },
  {
   "cell_type": "markdown",
   "metadata": {},
   "source": [
    "### Files with non-matching header are skipped"
   ]
  },
  {
   "cell_type": "code",
   "execution_count": 5,
   "metadata": {
    "ExecuteTime": {
     "end_time": "2021-01-19T16:03:12.077284Z",
     "start_time": "2021-01-19T16:03:11.148760Z"
    }
   },
   "outputs": [
    {
     "name": "stdout",
     "output_type": "stream",
     "text": [
      "\u001b[01;34m## Running Seqsum Merge ##\u001b[0m\n",
      "\u001b[32m\tParsing reads\u001b[0m\n",
      "\u001b[37m\t[DEBUG]: Reading file ./data/Guppy-2.1.3_basecall-1D-DNA_sequencing_summary.txt.gz\u001b[0m\n",
      "\u001b[37m\t[DEBUG]: End of file ./data/Guppy-2.1.3_basecall-1D-DNA_sequencing_summary.txt.gz\u001b[0m\n",
      "\u001b[37m\t[DEBUG]: Reading file ./data/Guppy-2.1.3_basecall-1D-RNA_sequencing_summary.txt.gz\u001b[0m\n",
      "\u001b[37m\t[DEBUG]: End of file ./data/Guppy-2.1.3_basecall-1D-RNA_sequencing_summary.txt.gz\u001b[0m\n",
      "\u001b[37m\t[DEBUG]: Reading file ./data/Guppy-2.2.4-basecall-1D-DNA_sequencing_summary+barcode.txt.gz\u001b[0m\n",
      "\u001b[01;31mERROR: Header of file `./data/Guppy-2.2.4-basecall-1D-DNA_sequencing_summary+barcode.txt.gz` is not consistant\u001b[0m\n",
      "\u001b[37m\t[DEBUG]: Skipping file ./data/Guppy-2.2.4-basecall-1D-DNA_sequencing_summary+barcode.txt.gz\u001b[0m\n",
      "\u001b[37m\t[DEBUG]: Reading file ./data/Guppy-basecall-1D-DNA_sequencing_summary.txt.gz\u001b[0m\n",
      "\u001b[37m\t[DEBUG]: End of file ./data/Guppy-basecall-1D-DNA_sequencing_summary.txt.gz\u001b[0m\n",
      "\u001b[37m\t[DEBUG]: Reading file ./data/seqsum_new1.tsv\u001b[0m\n",
      "\u001b[01;31mERROR: Header of file `./data/seqsum_new1.tsv` is not consistant\u001b[0m\n",
      "\u001b[37m\t[DEBUG]: Skipping file ./data/seqsum_new1.tsv\u001b[0m\n",
      "\u001b[37m\t[DEBUG]: Reading file ./data/seqsum_new2.tsv\u001b[0m\n",
      "\u001b[01;31mERROR: Header of file `./data/seqsum_new2.tsv` is not consistant\u001b[0m\n",
      "\u001b[37m\t[DEBUG]: Skipping file ./data/seqsum_new2.tsv\u001b[0m\n",
      "\u001b[32m\tRead counts summary\u001b[0m\n",
      "\u001b[32m\t Files found: 6\u001b[0m\n",
      "\u001b[32m\t Valid files: 3\u001b[0m\n",
      "\u001b[32m\t Invalid files: 3\u001b[0m\n",
      "(pyBioTools) "
     ]
    },
    {
     "ename": "",
     "evalue": "1",
     "output_type": "error",
     "traceback": []
    }
   ],
   "source": [
    "pyBioTools Seqsum Merge -i ./data/* -o ./output/seqsum_merged_3.tsv.gz --verbose"
   ]
  }
 ],
 "metadata": {
  "celltoolbar": "Initialization Cell",
  "hide_input": false,
  "kernelspec": {
   "display_name": "Bash",
   "language": "bash",
   "name": "bash"
  },
  "language_info": {
   "codemirror_mode": "shell",
   "file_extension": ".sh",
   "mimetype": "text/x-sh",
   "name": "bash"
  }
 },
 "nbformat": 4,
 "nbformat_minor": 2
}
