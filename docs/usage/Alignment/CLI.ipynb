{
 "cells": [
  {
   "cell_type": "markdown",
   "metadata": {},
   "source": [
    "# Alignment CLI Usage"
   ]
  },
  {
   "cell_type": "markdown",
   "metadata": {},
   "source": [
    "## Activate virtual environment"
   ]
  },
  {
   "cell_type": "code",
   "execution_count": null,
   "metadata": {
    "ExecuteTime": {
     "end_time": "2019-11-29T15:43:07.533166Z",
     "start_time": "2019-11-29T15:43:06.599Z"
    },
    "init_cell": true
   },
   "outputs": [],
   "source": [
    "# Using virtualenvwrapper here but can also be done with Conda \n",
    "workon pyBioTools"
   ]
  },
  {
   "cell_type": "markdown",
   "metadata": {},
   "source": [
    "## Reads_index"
   ]
  },
  {
   "cell_type": "markdown",
   "metadata": {},
   "source": [
    "### Get help"
   ]
  },
  {
   "cell_type": "code",
   "execution_count": 3,
   "metadata": {
    "ExecuteTime": {
     "end_time": "2019-11-29T15:12:27.082182Z",
     "start_time": "2019-11-29T15:12:26.513418Z"
    }
   },
   "outputs": [
    {
     "name": "stdout",
     "output_type": "stream",
     "text": [
      "usage: pyBioTools Alignment Reads_index [-h] -i INPUT_FN [-u] [-s] [-p]\n",
      "                                        [-v | -q | --progress]\n",
      "\n",
      "Index reads found in a coordinated sorted bam file by read_id. The created\n",
      "index file can be used to randon access the alignment file per read_id\n",
      "\n",
      "optional arguments:\n",
      "  -h, --help            show this help message and exit\n",
      "  -i INPUT_FN, --input_fn INPUT_FN\n",
      "                        Path to the bam file to index (required) [str]\n",
      "  -u, --skip_unmapped   Filter out unmapped reads (default: False) [None]\n",
      "  -s, --skip_secondary  Filter out secondary alignment (default: False) [None]\n",
      "  -p, --skip_supplementary\n",
      "                        Filter out supplementary alignment (default: False)\n",
      "                        [None]\n",
      "  -v, --verbose         Increase verbosity (default: False)\n",
      "  -q, --quiet           Reduce verbosity (default: False)\n",
      "  --progress            Display a progress bar\n",
      "(pyBioTools) "
     ]
    },
    {
     "ename": "",
     "evalue": "1",
     "output_type": "error",
     "traceback": []
    }
   ],
   "source": [
    "pyBioTools Alignment Reads_index -h"
   ]
  },
  {
   "cell_type": "markdown",
   "metadata": {},
   "source": [
    "### Basic usage"
   ]
  },
  {
   "cell_type": "code",
   "execution_count": 4,
   "metadata": {
    "ExecuteTime": {
     "end_time": "2019-11-29T15:12:29.686446Z",
     "start_time": "2019-11-29T15:12:28.514537Z"
    },
    "scrolled": true
   },
   "outputs": [
    {
     "name": "stdout",
     "output_type": "stream",
     "text": [
      "Checking Bam file\n",
      "Parsing reads\n",
      "(pyBioTools) "
     ]
    },
    {
     "ename": "",
     "evalue": "1",
     "output_type": "error",
     "traceback": []
    }
   ],
   "source": [
    "pyBioTools Alignment Reads_index -i ./data/sample_1.bam"
   ]
  },
  {
   "cell_type": "markdown",
   "metadata": {},
   "source": [
    "### Excluding reads from index"
   ]
  },
  {
   "cell_type": "code",
   "execution_count": 5,
   "metadata": {
    "ExecuteTime": {
     "end_time": "2019-11-29T15:12:35.684213Z",
     "start_time": "2019-11-29T15:12:34.508273Z"
    },
    "scrolled": false
   },
   "outputs": [
    {
     "name": "stdout",
     "output_type": "stream",
     "text": [
      "Checking Bam file\n",
      "Parsing reads\n",
      "\n",
      "Read counts summary\n",
      "\tReads retained\n",
      "\t\ttotal: 10,772\n",
      "\t\tprimary: 10,584\n",
      "\t\tsupplementary: 188\n",
      "\tReads discarded\n",
      "\t\ttotal: 2,912\n",
      "\t\tsecondary: 1,496\n",
      "\t\tunmapped: 1,416\n",
      "\n",
      "(pyBioTools) "
     ]
    },
    {
     "ename": "",
     "evalue": "1",
     "output_type": "error",
     "traceback": []
    }
   ],
   "source": [
    "pyBioTools Alignment Reads_index -i ./data/sample_1.bam --verbose --skip_secondary --skip_unmapped"
   ]
  },
  {
   "cell_type": "markdown",
   "metadata": {},
   "source": [
    "## Reads_sample"
   ]
  },
  {
   "cell_type": "markdown",
   "metadata": {},
   "source": [
    "### Get help"
   ]
  },
  {
   "cell_type": "code",
   "execution_count": 6,
   "metadata": {
    "ExecuteTime": {
     "end_time": "2019-11-29T15:12:38.867073Z",
     "start_time": "2019-11-29T15:12:38.327414Z"
    },
    "scrolled": false
   },
   "outputs": [
    {
     "name": "stdout",
     "output_type": "stream",
     "text": [
      "usage: pyBioTools Alignment Reads_sample [-h] -i INPUT_FN [-o OUTPUT_FOLDER]\n",
      "                                         [-p OUTPUT_PREFIX] [-r N_READS]\n",
      "                                         [-s N_SAMPLES]\n",
      "                                         [--rand_seed RAND_SEED]\n",
      "                                         [-v | -q | --progress]\n",
      "\n",
      "Randomly sample `n_reads` reads from a bam file and write downsampled files in\n",
      "`n_samples` bam files. If the input bam file is not indexed by read_id\n",
      "`index_reads` is automatically called.\n",
      "\n",
      "optional arguments:\n",
      "  -h, --help            show this help message and exit\n",
      "  -i INPUT_FN, --input_fn INPUT_FN\n",
      "                        Path to the indexed bam file (required) [str]\n",
      "  -o OUTPUT_FOLDER, --output_folder OUTPUT_FOLDER\n",
      "                        Path to a folder where to write sample files (default:\n",
      "                        ./) [str]\n",
      "  -p OUTPUT_PREFIX, --output_prefix OUTPUT_PREFIX\n",
      "                        Path to a folder where to write sample files (default:\n",
      "                        out) [str]\n",
      "  -r N_READS, --n_reads N_READS\n",
      "                        Number of randomly selected reads in each sample\n",
      "                        (default: 1000) [int]\n",
      "  -s N_SAMPLES, --n_samples N_SAMPLES\n",
      "                        Number of samples to generate files for (default: 1)\n",
      "                        [int]\n",
      "  --rand_seed RAND_SEED\n",
      "                        Seed to use for the pseudo randon generator. For non\n",
      "                        deterministic behaviour set to 0 (default: 42) [int]\n",
      "  -v, --verbose         Increase verbosity (default: False)\n",
      "  -q, --quiet           Reduce verbosity (default: False)\n",
      "  --progress            Display a progress bar\n",
      "(pyBioTools) "
     ]
    },
    {
     "ename": "",
     "evalue": "1",
     "output_type": "error",
     "traceback": []
    }
   ],
   "source": [
    "pyBioTools Alignment Reads_sample -h"
   ]
  },
  {
   "cell_type": "markdown",
   "metadata": {},
   "source": [
    "### Basic usage"
   ]
  },
  {
   "cell_type": "code",
   "execution_count": 4,
   "metadata": {
    "ExecuteTime": {
     "end_time": "2019-11-29T15:15:01.560513Z",
     "start_time": "2019-11-29T15:14:58.290101Z"
    },
    "scrolled": false
   },
   "outputs": [
    {
     "name": "stdout",
     "output_type": "stream",
     "text": [
      "Checking Bam and index file\n",
      "Load index\n",
      "\tIndex: 10772it [00:00, 397461.54it/s]\n",
      "Write sample reads\n",
      "\tSample 1: 100%|██████████████████████| 1000/1000 [00:00<00:00, 1232.54 Reads/s]\n",
      "\tIndexing output bam file\n",
      "\tSample 2: 100%|██████████████████████| 1000/1000 [00:00<00:00, 1211.51 Reads/s]\n",
      "\tIndexing output bam file\n",
      "\tSample 3: 100%|██████████████████████| 1000/1000 [00:00<00:00, 1164.56 Reads/s]\n",
      "\tIndexing output bam file\n",
      "(pyBioTools) "
     ]
    },
    {
     "ename": "",
     "evalue": "1",
     "output_type": "error",
     "traceback": []
    }
   ],
   "source": [
    "pyBioTools Alignment Reads_sample -i ./data/sample_1.bam -o ./output/sample_reads -p 1K -r 1000 -s 3 --progress --verbose"
   ]
  },
  {
   "cell_type": "markdown",
   "metadata": {},
   "source": [
    "## Filter"
   ]
  },
  {
   "cell_type": "markdown",
   "metadata": {},
   "source": [
    "### Get help"
   ]
  },
  {
   "cell_type": "code",
   "execution_count": 9,
   "metadata": {
    "ExecuteTime": {
     "end_time": "2019-11-29T15:13:06.196540Z",
     "start_time": "2019-11-29T15:13:05.658524Z"
    },
    "scrolled": false
   },
   "outputs": [
    {
     "name": "stdout",
     "output_type": "stream",
     "text": [
      "usage: pyBioTools Alignment Filter [-h] -i INPUT_FN -o OUTPUT_FN [-u] [-s]\n",
      "                                   [-p] [-t ORIENTATION] [-r MIN_READ_LEN]\n",
      "                                   [-a MIN_ALIGN_LEN] [-m MIN_MAPQ]\n",
      "                                   [-f MIN_FREQ_IDENTITY]\n",
      "                                   [--select_ref [SELECT_REF [SELECT_REF ...]]]\n",
      "                                   [--exclude_ref [EXCLUDE_REF [EXCLUDE_REF ...]]]\n",
      "                                   [-v | -q | --progress]\n",
      "\n",
      "optional arguments:\n",
      "  -h, --help            show this help message and exit\n",
      "  -i INPUT_FN, --input_fn INPUT_FN\n",
      "                        Path to the bam file to filter (required) [str]\n",
      "  -o OUTPUT_FN, --output_fn OUTPUT_FN\n",
      "                        Path to the write filtered bam file (required) [str]\n",
      "  -u, --skip_unmapped   Filter out unmapped reads (default: False) [None]\n",
      "  -s, --skip_secondary  Filter out secondary alignment (default: False) [None]\n",
      "  -p, --skip_supplementary\n",
      "                        Filter out supplementary alignment (default: False)\n",
      "                        [None]\n",
      "  -t ORIENTATION, --orientation ORIENTATION\n",
      "                        Orientation of alignment on reference genome {\"+\",\"-\"\n",
      "                        ,\".\"} (default: .) [str]\n",
      "  -r MIN_READ_LEN, --min_read_len MIN_READ_LEN\n",
      "                        Minimal query read length (basecalled length)\n",
      "                        (default: 0) [int]\n",
      "  -a MIN_ALIGN_LEN, --min_align_len MIN_ALIGN_LEN\n",
      "                        Minimal query alignment length on reference (default:\n",
      "                        0) [int]\n",
      "  -m MIN_MAPQ, --min_mapq MIN_MAPQ\n",
      "                        Minimal mapping quality score (mapq) (default: 0)\n",
      "                        [int]\n",
      "  -f MIN_FREQ_IDENTITY, --min_freq_identity MIN_FREQ_IDENTITY\n",
      "                        Minimal frequency of alignment identity [0 to 1]\n",
      "                        (default: 0) [float]\n",
      "  --select_ref [SELECT_REF [SELECT_REF ...]]\n",
      "                        List of references on which the reads have to be\n",
      "                        mapped. (default: None) [list]\n",
      "  --exclude_ref [EXCLUDE_REF [EXCLUDE_REF ...]]\n",
      "                        List of references on which the reads should not be\n",
      "                        mapped. (default: None) [list]\n",
      "  -v, --verbose         Increase verbosity (default: False)\n",
      "  -q, --quiet           Reduce verbosity (default: False)\n",
      "  --progress            Display a progress bar\n",
      "(pyBioTools) "
     ]
    },
    {
     "ename": "",
     "evalue": "1",
     "output_type": "error",
     "traceback": []
    }
   ],
   "source": [
    "pyBioTools Alignment Filter -h"
   ]
  },
  {
   "cell_type": "markdown",
   "metadata": {},
   "source": [
    "### Basic usage"
   ]
  },
  {
   "cell_type": "code",
   "execution_count": 3,
   "metadata": {
    "ExecuteTime": {
     "end_time": "2019-11-29T15:14:56.018391Z",
     "start_time": "2019-11-29T15:14:52.074848Z"
    },
    "scrolled": false
   },
   "outputs": [
    {
     "name": "stdout",
     "output_type": "stream",
     "text": [
      "Checking input bam file\n",
      "Parsing reads\n",
      "Indexing output bam file\n",
      "\n",
      "Read counts summary\n",
      "\tReads discarded\n",
      "\t\ttotal: 9,262\n",
      "\t\twrong_orientation: 5,291\n",
      "\t\tsecondary: 1,496\n",
      "\t\tunmapped: 1,416\n",
      "\t\tlow_identity: 510\n",
      "\t\tlow_mapping_quality: 283\n",
      "\t\tsupplementary: 188\n",
      "\t\tshort_alignment: 67\n",
      "\t\tshort_read: 11\n",
      "\tReads retained\n",
      "\t\tprimary: 4,422\n",
      "\t\ttotal: 4,422\n",
      "\n",
      "(pyBioTools) "
     ]
    },
    {
     "ename": "",
     "evalue": "1",
     "output_type": "error",
     "traceback": []
    }
   ],
   "source": [
    "pyBioTools Alignment Filter \\\n",
    "    -i \"./data/sample_1.bam\" \\\n",
    "    -o \"./output/sample_1_filter.bam\" \\\n",
    "    --skip_unmapped \\\n",
    "    --skip_supplementary \\\n",
    "    --skip_secondary \\\n",
    "    --min_read_len 300 \\\n",
    "    --min_align_len 300 \\\n",
    "    --orientation \"+\" \\\n",
    "    --min_mapq 10 \\\n",
    "    --min_freq_identity 0.8 \\\n",
    "    --verbose"
   ]
  },
  {
   "cell_type": "markdown",
   "metadata": {},
   "source": [
    "## To_fastq"
   ]
  },
  {
   "cell_type": "code",
   "execution_count": 2,
   "metadata": {
    "ExecuteTime": {
     "end_time": "2019-11-29T15:56:31.421520Z",
     "start_time": "2019-11-29T15:56:30.912346Z"
    },
    "scrolled": false
   },
   "outputs": [
    {
     "name": "stdout",
     "output_type": "stream",
     "text": [
      "usage: pyBioTools Alignment To_fastq [-h] -i [INPUT_FN [INPUT_FN ...]] -1\n",
      "                                     OUTPUT_R1_FN [-2 OUTPUT_R2_FN] [-s] [-v]\n",
      "                                     [-q] [--progress]\n",
      "\n",
      "Dump reads from an alignment file or set of alignment file(s) to a fastq or\n",
      "pair of fastq file(s). Only the primary alignment are kept and paired_end\n",
      "reads are assumed to be interleaved. Compatible with unmapped or unaligned\n",
      "alignment files as well as files without header.\n",
      "\n",
      "optional arguments:\n",
      "  -h, --help            show this help message and exit\n",
      "  -i [INPUT_FN [INPUT_FN ...]], --input_fn [INPUT_FN [INPUT_FN ...]]\n",
      "                        Path (or list of paths) to input BAM/CRAM/SAM file(s)\n",
      "                        (required) [str]\n",
      "  -1 OUTPUT_R1_FN, --output_r1_fn OUTPUT_R1_FN\n",
      "                        Path to an output fastq file (for Read1 in paired_end\n",
      "                        mode of output_r2_fn is provided). Automatically\n",
      "                        gzipped if the .gz extension is found (required) [str]\n",
      "  -2 OUTPUT_R2_FN, --output_r2_fn OUTPUT_R2_FN\n",
      "                        Optional Path to an output fastq file. Automatically\n",
      "                        gzipped if the .gz extension is found (default: None)\n",
      "                        [str]\n",
      "  -s, --ignore_paired_end\n",
      "                        Ignore paired_end information and output everything in\n",
      "                        a single file. (default: False) [None]\n",
      "  -v, --verbose         Increase verbosity (default: False)\n",
      "  -q, --quiet           Reduce verbosity (default: False)\n",
      "  --progress            Display a progress bar\n",
      "(pyBioTools) "
     ]
    },
    {
     "ename": "",
     "evalue": "1",
     "output_type": "error",
     "traceback": []
    }
   ],
   "source": [
    "pyBioTools Alignment To_fastq -h"
   ]
  },
  {
   "cell_type": "markdown",
   "metadata": {},
   "source": [
    "### Single end read usage from bam files"
   ]
  },
  {
   "cell_type": "code",
   "execution_count": 4,
   "metadata": {
    "ExecuteTime": {
     "end_time": "2019-11-29T15:58:30.740341Z",
     "start_time": "2019-11-29T15:57:54.694995Z"
    },
    "scrolled": true
   },
   "outputs": [
    {
     "name": "stdout",
     "output_type": "stream",
     "text": [
      "Opening file ./output/sample_1-2_SE_from_bam.fastq.gz in writing mode\n",
      "Parsing reads\n",
      "Reading input file ./data/sample_1.bam\n",
      "\tReading: 12000 Reads [00:16, 720.68 Reads/s] \n",
      "\tReached end of input file ./data/sample_1.bam\n",
      "Reading input file ./data/sample_2.bam\n",
      "\tReading: 12000 Reads [00:18, 644.27 Reads/s] \n",
      "\tReached end of input file ./data/sample_2.bam\n",
      "Closing file:./output/sample_1-2_SE_from_bam.fastq.gz\n",
      "\tSequences writen: 24000\n",
      "(pyBioTools) "
     ]
    },
    {
     "ename": "",
     "evalue": "1",
     "output_type": "error",
     "traceback": []
    }
   ],
   "source": [
    "pyBioTools Alignment To_fastq \\\n",
    "    -i ./data/sample_1.bam ./data/sample_2.bam\\\n",
    "    -1 ./output/sample_1-2_SE_from_bam.fastq.gz \\\n",
    "    --verbose \\\n",
    "    --progress"
   ]
  },
  {
   "cell_type": "markdown",
   "metadata": {},
   "source": [
    "###  Paired-end reads usage from unaligned CRAM files"
   ]
  },
  {
   "cell_type": "code",
   "execution_count": 6,
   "metadata": {
    "ExecuteTime": {
     "end_time": "2019-11-29T16:00:17.732994Z",
     "start_time": "2019-11-29T16:00:10.021835Z"
    }
   },
   "outputs": [
    {
     "name": "stdout",
     "output_type": "stream",
     "text": [
      "Opening file ./output/sample_1-2_PE_from_CRAM_1.fastq.gz in writing mode\n",
      "Opening file ./output/sample_1-2_PE_from_CRAM_2.fastq.gz in writing mode\n",
      "Parsing reads\n",
      "Reading input file ./data/sample_1_20k.cram\n",
      "\tReading: 12000 Reads [00:03, 3450.71 Reads/s]\n",
      "\tReached end of input file ./data/sample_1_20k.cram\n",
      "Reading input file ./data/sample_2_20k.cram\n",
      "\tReading: 12000 Reads [00:03, 3449.30 Reads/s]\n",
      "\tReached end of input file ./data/sample_2_20k.cram\n",
      "Closing file:./output/sample_1-2_PE_from_CRAM_1.fastq.gz\n",
      "\tSequences writen: 24000\n",
      "Closing file:./output/sample_1-2_PE_from_CRAM_2.fastq.gz\n",
      "\tSequences writen: 24000\n",
      "(pyBioTools) "
     ]
    },
    {
     "ename": "",
     "evalue": "1",
     "output_type": "error",
     "traceback": []
    }
   ],
   "source": [
    "pyBioTools Alignment To_fastq \\\n",
    "    -i ./data/sample_1_20k.cram ./data/sample_2_20k.cram \\\n",
    "    -1 ./output/sample_1-2_PE_from_CRAM_1.fastq.gz \\\n",
    "    -2 ./output/sample_1-2_PE_from_CRAM_2.fastq.gz \\\n",
    "    --verbose \\\n",
    "    --progress"
   ]
  }
 ],
 "metadata": {
  "celltoolbar": "Initialization Cell",
  "hide_input": false,
  "kernelspec": {
   "display_name": "Bash",
   "language": "bash",
   "name": "bash"
  },
  "language_info": {
   "codemirror_mode": "shell",
   "file_extension": ".sh",
   "mimetype": "text/x-sh",
   "name": "bash"
  }
 },
 "nbformat": 4,
 "nbformat_minor": 2
}
