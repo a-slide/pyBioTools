{
 "cells": [
  {
   "cell_type": "markdown",
   "metadata": {},
   "source": [
    "# Alignment CLI Usage"
   ]
  },
  {
   "cell_type": "markdown",
   "metadata": {},
   "source": [
    "## Activate virtual environment"
   ]
  },
  {
   "cell_type": "code",
   "execution_count": 10,
   "metadata": {
    "ExecuteTime": {
     "end_time": "2019-10-11T16:48:36.374960Z",
     "start_time": "2019-10-11T16:48:35.261970Z"
    },
    "init_cell": true
   },
   "outputs": [
    {
     "name": "stdout",
     "output_type": "stream",
     "text": [
      "(pyBioTools) (pyBioTools) "
     ]
    },
    {
     "ename": "",
     "evalue": "1",
     "output_type": "error",
     "traceback": []
    }
   ],
   "source": [
    "# Using virtualenvwrapper here but can also be done with Conda \n",
    "workon pyBioTools"
   ]
  },
  {
   "cell_type": "markdown",
   "metadata": {},
   "source": [
    "## Reads_index"
   ]
  },
  {
   "cell_type": "markdown",
   "metadata": {},
   "source": [
    "### Get help"
   ]
  },
  {
   "cell_type": "code",
   "execution_count": 3,
   "metadata": {
    "ExecuteTime": {
     "end_time": "2019-10-11T16:04:29.666547Z",
     "start_time": "2019-10-11T16:04:29.178524Z"
    }
   },
   "outputs": [
    {
     "name": "stdout",
     "output_type": "stream",
     "text": [
      "usage: pyBioTools Alignment Reads_index [-h] -i INPUT_FN [-u] [-s] [-p]\n",
      "                                        [-v | -q]\n",
      "\n",
      "Index reads found in a coordinated sorted bam file by read_id. The created\n",
      "index file can be used to randon access the alignment file per read_id\n",
      "\n",
      "optional arguments:\n",
      "  -h, --help            show this help message and exit\n",
      "  -i INPUT_FN, --input_fn INPUT_FN\n",
      "                        Path to the bam file to index (required) [str]\n",
      "  -u, --skip_unmapped   Filter out unmapped reads (default: False) [None]\n",
      "  -s, --skip_secondary  Filter out secondary alignment (default: False) [None]\n",
      "  -p, --skip_supplementary\n",
      "                        Filter out supplementary alignment (default: False)\n",
      "                        [None]\n",
      "  -v, --verbose         Increase verbosity (default: False)\n",
      "  -q, --quiet           Reduce verbosity (default: False)\n",
      "(pyBioTools) "
     ]
    },
    {
     "ename": "",
     "evalue": "1",
     "output_type": "error",
     "traceback": []
    }
   ],
   "source": [
    "pyBioTools Alignment Reads_index -h"
   ]
  },
  {
   "cell_type": "markdown",
   "metadata": {},
   "source": [
    "### Basic usage"
   ]
  },
  {
   "cell_type": "code",
   "execution_count": 5,
   "metadata": {
    "ExecuteTime": {
     "end_time": "2019-10-11T16:04:44.138787Z",
     "start_time": "2019-10-11T16:04:43.033240Z"
    },
    "scrolled": true
   },
   "outputs": [
    {
     "name": "stdout",
     "output_type": "stream",
     "text": [
      "Checking Bam file\n",
      "Parsing reads\n",
      "13684 Reads [00:00, 21851.55 Reads/s]\n",
      "(pyBioTools) "
     ]
    },
    {
     "ename": "",
     "evalue": "1",
     "output_type": "error",
     "traceback": []
    }
   ],
   "source": [
    "pyBioTools Alignment Reads_index -i ./data/sample_1.bam"
   ]
  },
  {
   "cell_type": "markdown",
   "metadata": {},
   "source": [
    "### Excluding reads from index"
   ]
  },
  {
   "cell_type": "code",
   "execution_count": 3,
   "metadata": {
    "ExecuteTime": {
     "end_time": "2019-10-11T16:37:41.810735Z",
     "start_time": "2019-10-11T16:37:40.627640Z"
    },
    "scrolled": false
   },
   "outputs": [
    {
     "name": "stdout",
     "output_type": "stream",
     "text": [
      "Checking Bam file\n",
      "Parsing reads\n",
      "13684 Reads [00:00, 20500.13 Reads/s]\n",
      "\n",
      "Read counts summary\n",
      "\tReads retained\n",
      "\t\ttotal: 10,772\n",
      "\t\tprimary: 10,584\n",
      "\t\tsupplementary: 188\n",
      "\tReads discarded\n",
      "\t\ttotal: 2,912\n",
      "\t\tsecondary: 1,496\n",
      "\t\tunmapped: 1,416\n",
      "\n",
      "(pyBioTools) "
     ]
    },
    {
     "ename": "",
     "evalue": "1",
     "output_type": "error",
     "traceback": []
    }
   ],
   "source": [
    "pyBioTools Alignment Reads_index -i ./data/sample_1.bam --verbose --skip_secondary --skip_unmapped"
   ]
  },
  {
   "cell_type": "markdown",
   "metadata": {},
   "source": [
    "## Reads_sample"
   ]
  },
  {
   "cell_type": "markdown",
   "metadata": {},
   "source": [
    "### Get help"
   ]
  },
  {
   "cell_type": "code",
   "execution_count": 8,
   "metadata": {
    "ExecuteTime": {
     "end_time": "2019-10-11T16:05:45.554277Z",
     "start_time": "2019-10-11T16:05:45.074837Z"
    },
    "scrolled": false
   },
   "outputs": [
    {
     "name": "stdout",
     "output_type": "stream",
     "text": [
      "usage: pyBioTools Alignment Reads_sample [-h] -i INPUT_FN [-o OUTPUT_FOLDER]\n",
      "                                         [-p OUTPUT_PREFIX] [-r N_READS]\n",
      "                                         [-s N_SAMPLES]\n",
      "                                         [--rand_seed RAND_SEED] [-v | -q]\n",
      "\n",
      "Randomly sample `n_reads` reads from a bam file and write downsampled files in\n",
      "`n_samples` bam files. If the input bam file is not indexed by read_id\n",
      "`index_reads` is automatically called.\n",
      "\n",
      "optional arguments:\n",
      "  -h, --help            show this help message and exit\n",
      "  -i INPUT_FN, --input_fn INPUT_FN\n",
      "                        Path to the indexed bam file (required) [str]\n",
      "  -o OUTPUT_FOLDER, --output_folder OUTPUT_FOLDER\n",
      "                        Path to a folder where to write sample files (default:\n",
      "                        ./) [str]\n",
      "  -p OUTPUT_PREFIX, --output_prefix OUTPUT_PREFIX\n",
      "                        Path to a folder where to write sample files (default:\n",
      "                        out) [str]\n",
      "  -r N_READS, --n_reads N_READS\n",
      "                        Number of randomly selected reads in each sample\n",
      "                        (default: 1000) [int]\n",
      "  -s N_SAMPLES, --n_samples N_SAMPLES\n",
      "                        Number of samples to generate files for (default: 1)\n",
      "                        [int]\n",
      "  --rand_seed RAND_SEED\n",
      "                        Seed to use for the pseudo randon generator. For non\n",
      "                        deterministic behaviour set to 0 (default: 42) [int]\n",
      "  -v, --verbose         Increase verbosity (default: False)\n",
      "  -q, --quiet           Reduce verbosity (default: False)\n",
      "(pyBioTools) "
     ]
    },
    {
     "ename": "",
     "evalue": "1",
     "output_type": "error",
     "traceback": []
    }
   ],
   "source": [
    "pyBioTools Alignment Reads_sample -h"
   ]
  },
  {
   "cell_type": "markdown",
   "metadata": {},
   "source": [
    "### Basic usage"
   ]
  },
  {
   "cell_type": "code",
   "execution_count": 4,
   "metadata": {
    "ExecuteTime": {
     "end_time": "2019-10-11T16:37:49.747198Z",
     "start_time": "2019-10-11T16:37:46.545826Z"
    },
    "scrolled": false
   },
   "outputs": [
    {
     "name": "stdout",
     "output_type": "stream",
     "text": [
      "Checking Bam and index file\n",
      "Load index\n",
      "\tIndex: 10772it [00:00, 376461.63it/s]\n",
      "Write sample reads\n",
      "\tSample 1: 100%|██████████████████████| 1000/1000 [00:00<00:00, 1196.85 Reads/s]\n",
      "\tIndexing output bam file\n",
      "\tSample 2: 100%|██████████████████████| 1000/1000 [00:00<00:00, 1235.98 Reads/s]\n",
      "\tIndexing output bam file\n",
      "\tSample 3: 100%|██████████████████████| 1000/1000 [00:00<00:00, 1235.20 Reads/s]\n",
      "\tIndexing output bam file\n",
      "(pyBioTools) "
     ]
    },
    {
     "ename": "",
     "evalue": "1",
     "output_type": "error",
     "traceback": []
    }
   ],
   "source": [
    "pyBioTools Alignment Reads_sample -i ./data/sample_1.bam -o ./output/sample_reads -p 1K -r 1000 -s 3"
   ]
  },
  {
   "cell_type": "markdown",
   "metadata": {},
   "source": [
    "## Filter"
   ]
  },
  {
   "cell_type": "markdown",
   "metadata": {},
   "source": [
    "### Get help"
   ]
  },
  {
   "cell_type": "code",
   "execution_count": 5,
   "metadata": {
    "ExecuteTime": {
     "end_time": "2019-10-11T16:37:53.631278Z",
     "start_time": "2019-10-11T16:37:53.168529Z"
    },
    "scrolled": false
   },
   "outputs": [
    {
     "name": "stdout",
     "output_type": "stream",
     "text": [
      "usage: pyBioTools Alignment Filter [-h] -i INPUT_FN -o OUTPUT_FN [-u] [-s]\n",
      "                                   [-p] [-t ORIENTATION] [-r MIN_READ_LEN]\n",
      "                                   [-a MIN_ALIGN_LEN] [-m MIN_MAPQ]\n",
      "                                   [-f MIN_FREQ_IDENTITY]\n",
      "                                   [--select_ref [SELECT_REF [SELECT_REF ...]]]\n",
      "                                   [--exclude_ref [EXCLUDE_REF [EXCLUDE_REF ...]]]\n",
      "                                   [-v | -q]\n",
      "\n",
      "optional arguments:\n",
      "  -h, --help            show this help message and exit\n",
      "  -i INPUT_FN, --input_fn INPUT_FN\n",
      "                        Path to the bam file to filter (required) [str]\n",
      "  -o OUTPUT_FN, --output_fn OUTPUT_FN\n",
      "                        Path to the write filtered bam file (required) [str]\n",
      "  -u, --skip_unmapped   Filter out unmapped reads (default: False) [None]\n",
      "  -s, --skip_secondary  Filter out secondary alignment (default: False) [None]\n",
      "  -p, --skip_supplementary\n",
      "                        Filter out supplementary alignment (default: False)\n",
      "                        [None]\n",
      "  -t ORIENTATION, --orientation ORIENTATION\n",
      "                        Orientation of alignment on reference genome {\"+\",\"-\"\n",
      "                        ,\".\"} (default: .) [str]\n",
      "  -r MIN_READ_LEN, --min_read_len MIN_READ_LEN\n",
      "                        Minimal query read length (basecalled length)\n",
      "                        (default: 0) [int]\n",
      "  -a MIN_ALIGN_LEN, --min_align_len MIN_ALIGN_LEN\n",
      "                        Minimal query alignment length on reference (default:\n",
      "                        0) [int]\n",
      "  -m MIN_MAPQ, --min_mapq MIN_MAPQ\n",
      "                        Minimal mapping quality score (mapq) (default: 0)\n",
      "                        [int]\n",
      "  -f MIN_FREQ_IDENTITY, --min_freq_identity MIN_FREQ_IDENTITY\n",
      "                        Minimal frequency of alignment identity [0 to 1]\n",
      "                        (default: 0) [float]\n",
      "  --select_ref [SELECT_REF [SELECT_REF ...]]\n",
      "                        List of references on which the reads have to be\n",
      "                        mapped. (default: None) [list]\n",
      "  --exclude_ref [EXCLUDE_REF [EXCLUDE_REF ...]]\n",
      "                        List of references on which the reads should not be\n",
      "                        mapped. (default: None) [list]\n",
      "  -v, --verbose         Increase verbosity (default: False)\n",
      "  -q, --quiet           Reduce verbosity (default: False)\n",
      "(pyBioTools) "
     ]
    },
    {
     "ename": "",
     "evalue": "1",
     "output_type": "error",
     "traceback": []
    }
   ],
   "source": [
    "pyBioTools Alignment Filter -h"
   ]
  },
  {
   "cell_type": "markdown",
   "metadata": {},
   "source": [
    "### Basic usage"
   ]
  },
  {
   "cell_type": "code",
   "execution_count": 9,
   "metadata": {
    "ExecuteTime": {
     "end_time": "2019-10-11T16:41:23.197546Z",
     "start_time": "2019-10-11T16:41:19.467426Z"
    },
    "scrolled": false
   },
   "outputs": [
    {
     "name": "stdout",
     "output_type": "stream",
     "text": [
      "Checking input bam file\n",
      "Parsing reads\n",
      "\t: 13684 Reads [00:02, 6003.40 Reads/s]\n",
      "Indexing output bam file\n",
      "\n",
      "Read counts summary\n",
      "\tReads discarded\n",
      "\t\ttotal: 9,262\n",
      "\t\twrong_orientation: 5,291\n",
      "\t\tsecondary: 1,496\n",
      "\t\tunmapped: 1,416\n",
      "\t\tlow_identity: 510\n",
      "\t\tlow_mapping_quality: 283\n",
      "\t\tsupplementary: 188\n",
      "\t\tshort_alignment: 67\n",
      "\t\tshort_read: 11\n",
      "\tReads retained\n",
      "\t\tprimary: 4,422\n",
      "\t\ttotal: 4,422\n",
      "\n",
      "(pyBioTools) "
     ]
    },
    {
     "ename": "",
     "evalue": "1",
     "output_type": "error",
     "traceback": []
    }
   ],
   "source": [
    "pyBioTools Alignment Filter \\\n",
    "    -i \"./data/sample_1.bam\" \\\n",
    "    -o \"./output/sample_1_filter.bam\" \\\n",
    "    --skip_unmapped \\\n",
    "    --skip_supplementary \\\n",
    "    --skip_secondary \\\n",
    "    --min_read_len 300 \\\n",
    "    --min_align_len 300 \\\n",
    "    --orientation \"+\" \\\n",
    "    --min_mapq 10 \\\n",
    "    --min_freq_identity 0.8 \\\n",
    "    --verbose"
   ]
  }
 ],
 "metadata": {
  "celltoolbar": "Initialization Cell",
  "hide_input": false,
  "kernelspec": {
   "display_name": "Bash",
   "language": "bash",
   "name": "bash"
  },
  "language_info": {
   "codemirror_mode": "shell",
   "file_extension": ".sh",
   "mimetype": "text/x-sh",
   "name": "bash"
  }
 },
 "nbformat": 4,
 "nbformat_minor": 2
}
