{
 "cells": [
  {
   "cell_type": "markdown",
   "metadata": {},
   "source": [
    "# Alignment CLI Usage"
   ]
  },
  {
   "cell_type": "markdown",
   "metadata": {},
   "source": [
    "## Activate virtual environment"
   ]
  },
  {
   "cell_type": "code",
   "execution_count": 4,
   "metadata": {
    "ExecuteTime": {
     "end_time": "2020-01-30T13:31:26.650856Z",
     "start_time": "2020-01-30T13:31:25.588134Z"
    },
    "init_cell": true
   },
   "outputs": [
    {
     "name": "stdout",
     "output_type": "stream",
     "text": [
      "(pyBioTools) (pyBioTools) "
     ]
    },
    {
     "ename": "",
     "evalue": "1",
     "output_type": "error",
     "traceback": []
    }
   ],
   "source": [
    "# Using virtualenvwrapper here but can also be done with Conda \n",
    "workon pyBioTools"
   ]
  },
  {
   "cell_type": "markdown",
   "metadata": {},
   "source": [
    "## Reads_index"
   ]
  },
  {
   "cell_type": "markdown",
   "metadata": {},
   "source": [
    "### Get help"
   ]
  },
  {
   "cell_type": "code",
   "execution_count": 18,
   "metadata": {
    "ExecuteTime": {
     "end_time": "2020-01-24T16:48:57.093505Z",
     "start_time": "2020-01-24T16:48:56.581597Z"
    }
   },
   "outputs": [
    {
     "name": "stdout",
     "output_type": "stream",
     "text": [
      "usage: pyBioTools Alignment Reads_index [-h] -i INPUT_FN [-u] [-s] [-p] [-v]\n",
      "                                        [-q] [--progress]\n",
      "\n",
      "Index reads found in a coordinated sorted bam file by read_id. The created\n",
      "index file can be used to randon access the alignment file per read_id\n",
      "\n",
      "optional arguments:\n",
      "  -h, --help            show this help message and exit\n",
      "  -i INPUT_FN, --input_fn INPUT_FN\n",
      "                        Path to the bam file to index (required) [str]\n",
      "  -u, --skip_unmapped   Filter out unmapped reads (default: False) [None]\n",
      "  -s, --skip_secondary  Filter out secondary alignment (default: False) [None]\n",
      "  -p, --skip_supplementary\n",
      "                        Filter out supplementary alignment (default: False)\n",
      "                        [None]\n",
      "  -v, --verbose         Increase verbosity (default: False)\n",
      "  -q, --quiet           Reduce verbosity (default: False)\n",
      "  --progress            Display a progress bar\n",
      "(pyBioTools) "
     ]
    },
    {
     "ename": "",
     "evalue": "1",
     "output_type": "error",
     "traceback": []
    }
   ],
   "source": [
    "pyBioTools Alignment Reads_index -h"
   ]
  },
  {
   "cell_type": "markdown",
   "metadata": {},
   "source": [
    "### Basic usage"
   ]
  },
  {
   "cell_type": "code",
   "execution_count": 19,
   "metadata": {
    "ExecuteTime": {
     "end_time": "2020-01-24T16:48:59.306477Z",
     "start_time": "2020-01-24T16:48:58.173443Z"
    },
    "scrolled": true
   },
   "outputs": [
    {
     "name": "stdout",
     "output_type": "stream",
     "text": [
      "## Running Alignment Reads_index ##\n",
      "\tChecking Bam file\n",
      "\tParsing reads\n",
      "\tRead counts summary\n",
      "\t Reads retained\n",
      "\t  total: 13,684\n",
      "\t  primary: 10,584\n",
      "\t  secondary: 1,496\n",
      "\t  unmapped: 1,416\n",
      "\t  supplementary: 188\n",
      "(pyBioTools) "
     ]
    },
    {
     "ename": "",
     "evalue": "1",
     "output_type": "error",
     "traceback": []
    }
   ],
   "source": [
    "pyBioTools Alignment Reads_index -i ./data/sample_1.bam"
   ]
  },
  {
   "cell_type": "markdown",
   "metadata": {},
   "source": [
    "### Excluding reads from index"
   ]
  },
  {
   "cell_type": "code",
   "execution_count": 13,
   "metadata": {
    "ExecuteTime": {
     "end_time": "2020-01-24T16:01:11.082721Z",
     "start_time": "2020-01-24T16:01:10.015570Z"
    },
    "scrolled": false
   },
   "outputs": [
    {
     "name": "stdout",
     "output_type": "stream",
     "text": [
      "## Running Alignment Reads_index ##\n",
      "\tChecking Bam file\n",
      "\tParsing reads\n",
      "\tRead counts summary\n",
      "\t Reads retained\n",
      "\t  total: 10,772\n",
      "\t  primary: 10,584\n",
      "\t  supplementary: 188\n",
      "\t Reads discarded\n",
      "\t  total: 2,912\n",
      "\t  secondary: 1,496\n",
      "\t  unmapped: 1,416\n",
      "(pyBioTools) "
     ]
    },
    {
     "ename": "",
     "evalue": "1",
     "output_type": "error",
     "traceback": []
    }
   ],
   "source": [
    "pyBioTools Alignment Reads_index -i ./data/sample_1.bam --verbose --skip_secondary --skip_unmapped"
   ]
  },
  {
   "cell_type": "markdown",
   "metadata": {},
   "source": [
    "## Reads_sample"
   ]
  },
  {
   "cell_type": "markdown",
   "metadata": {},
   "source": [
    "### Get help"
   ]
  },
  {
   "cell_type": "code",
   "execution_count": 12,
   "metadata": {
    "ExecuteTime": {
     "end_time": "2020-01-24T16:01:07.790877Z",
     "start_time": "2020-01-24T16:01:07.324156Z"
    },
    "scrolled": false
   },
   "outputs": [
    {
     "name": "stdout",
     "output_type": "stream",
     "text": [
      "usage: pyBioTools Alignment Reads_sample [-h] -i INPUT_FN [-o OUTPUT_FOLDER]\n",
      "                                         [-p OUTPUT_PREFIX] [-r N_READS]\n",
      "                                         [-s N_SAMPLES]\n",
      "                                         [--rand_seed RAND_SEED] [-v] [-q]\n",
      "                                         [--progress]\n",
      "\n",
      "Randomly sample `n_reads` reads from a bam file and write downsampled files in\n",
      "`n_samples` bam files. If the input bam file is not indexed by read_id\n",
      "`index_reads` is automatically called.\n",
      "\n",
      "optional arguments:\n",
      "  -h, --help            show this help message and exit\n",
      "  -i INPUT_FN, --input_fn INPUT_FN\n",
      "                        Path to the indexed bam file (required) [str]\n",
      "  -o OUTPUT_FOLDER, --output_folder OUTPUT_FOLDER\n",
      "                        Path to a folder where to write sample files (default:\n",
      "                        ./) [str]\n",
      "  -p OUTPUT_PREFIX, --output_prefix OUTPUT_PREFIX\n",
      "                        Path to a folder where to write sample files (default:\n",
      "                        out) [str]\n",
      "  -r N_READS, --n_reads N_READS\n",
      "                        Number of randomly selected reads in each sample\n",
      "                        (default: 1000) [int]\n",
      "  -s N_SAMPLES, --n_samples N_SAMPLES\n",
      "                        Number of samples to generate files for (default: 1)\n",
      "                        [int]\n",
      "  --rand_seed RAND_SEED\n",
      "                        Seed to use for the pseudo randon generator. For non\n",
      "                        deterministic behaviour set to 0 (default: 42) [int]\n",
      "  -v, --verbose         Increase verbosity (default: False)\n",
      "  -q, --quiet           Reduce verbosity (default: False)\n",
      "  --progress            Display a progress bar\n",
      "(pyBioTools) "
     ]
    },
    {
     "ename": "",
     "evalue": "1",
     "output_type": "error",
     "traceback": []
    }
   ],
   "source": [
    "pyBioTools Alignment Reads_sample -h"
   ]
  },
  {
   "cell_type": "markdown",
   "metadata": {},
   "source": [
    "### Basic usage"
   ]
  },
  {
   "cell_type": "code",
   "execution_count": 11,
   "metadata": {
    "ExecuteTime": {
     "end_time": "2020-01-24T16:01:03.710940Z",
     "start_time": "2020-01-24T16:01:00.590647Z"
    },
    "scrolled": false
   },
   "outputs": [
    {
     "name": "stdout",
     "output_type": "stream",
     "text": [
      "## Running Alignment Reads_sample ##\n",
      "\tChecking Bam and index file\n",
      "\tLoad index\n",
      "\tIndex: 10584it [00:00, 568660.90it/s]\n",
      "\tWrite sample reads\n",
      "\tSample 1: 100%|██████████████████████| 1000/1000 [00:00<00:00, 1226.50 Reads/s]\n",
      "\tIndexing output bam file\n",
      "\tSample 2: 100%|██████████████████████| 1000/1000 [00:00<00:00, 1227.65 Reads/s]\n",
      "\tIndexing output bam file\n",
      "\tSample 3: 100%|██████████████████████| 1000/1000 [00:00<00:00, 1268.76 Reads/s]\n",
      "\tIndexing output bam file\n",
      "(pyBioTools) "
     ]
    },
    {
     "ename": "",
     "evalue": "1",
     "output_type": "error",
     "traceback": []
    }
   ],
   "source": [
    "pyBioTools Alignment Reads_sample -i ./data/sample_1.bam -o ./output/sample_reads -p 1K -r 1000 -s 3 --progress --verbose"
   ]
  },
  {
   "cell_type": "markdown",
   "metadata": {},
   "source": [
    "## Filter"
   ]
  },
  {
   "cell_type": "markdown",
   "metadata": {},
   "source": [
    "### Get help"
   ]
  },
  {
   "cell_type": "code",
   "execution_count": 10,
   "metadata": {
    "ExecuteTime": {
     "end_time": "2020-01-24T16:00:56.340023Z",
     "start_time": "2020-01-24T16:00:55.850906Z"
    },
    "scrolled": false
   },
   "outputs": [
    {
     "name": "stdout",
     "output_type": "stream",
     "text": [
      "usage: pyBioTools Alignment Filter [-h] -i INPUT_FN -o OUTPUT_FN [-u] [-s]\n",
      "                                   [-p] [-t ORIENTATION] [-r MIN_READ_LEN]\n",
      "                                   [-a MIN_ALIGN_LEN] [-m MIN_MAPQ]\n",
      "                                   [-f MIN_FREQ_IDENTITY]\n",
      "                                   [--select_ref [SELECT_REF [SELECT_REF ...]]]\n",
      "                                   [--exclude_ref [EXCLUDE_REF [EXCLUDE_REF ...]]]\n",
      "                                   [-v] [-q] [--progress]\n",
      "\n",
      "optional arguments:\n",
      "  -h, --help            show this help message and exit\n",
      "  -i INPUT_FN, --input_fn INPUT_FN\n",
      "                        Path to the bam file to filter (required) [str]\n",
      "  -o OUTPUT_FN, --output_fn OUTPUT_FN\n",
      "                        Path to the write filtered bam file (required) [str]\n",
      "  -u, --skip_unmapped   Filter out unmapped reads (default: False) [None]\n",
      "  -s, --skip_secondary  Filter out secondary alignment (default: False) [None]\n",
      "  -p, --skip_supplementary\n",
      "                        Filter out supplementary alignment (default: False)\n",
      "                        [None]\n",
      "  -t ORIENTATION, --orientation ORIENTATION\n",
      "                        Orientation of alignment on reference genome {\"+\",\"-\"\n",
      "                        ,\".\"} (default: .) [str]\n",
      "  -r MIN_READ_LEN, --min_read_len MIN_READ_LEN\n",
      "                        Minimal query read length (basecalled length)\n",
      "                        (default: 0) [int]\n",
      "  -a MIN_ALIGN_LEN, --min_align_len MIN_ALIGN_LEN\n",
      "                        Minimal query alignment length on reference (default:\n",
      "                        0) [int]\n",
      "  -m MIN_MAPQ, --min_mapq MIN_MAPQ\n",
      "                        Minimal mapping quality score (mapq) (default: 0)\n",
      "                        [int]\n",
      "  -f MIN_FREQ_IDENTITY, --min_freq_identity MIN_FREQ_IDENTITY\n",
      "                        Minimal frequency of alignment identity [0 to 1]\n",
      "                        (default: 0) [float]\n",
      "  --select_ref [SELECT_REF [SELECT_REF ...]]\n",
      "                        List of references on which the reads have to be\n",
      "                        mapped. (default: None) [str]\n",
      "  --exclude_ref [EXCLUDE_REF [EXCLUDE_REF ...]]\n",
      "                        List of references on which the reads should not be\n",
      "                        mapped. (default: None) [str]\n",
      "  -v, --verbose         Increase verbosity (default: False)\n",
      "  -q, --quiet           Reduce verbosity (default: False)\n",
      "  --progress            Display a progress bar\n",
      "(pyBioTools) "
     ]
    },
    {
     "ename": "",
     "evalue": "1",
     "output_type": "error",
     "traceback": []
    }
   ],
   "source": [
    "pyBioTools Alignment Filter -h"
   ]
  },
  {
   "cell_type": "markdown",
   "metadata": {},
   "source": [
    "### Basic usage"
   ]
  },
  {
   "cell_type": "code",
   "execution_count": 9,
   "metadata": {
    "ExecuteTime": {
     "end_time": "2020-01-24T16:00:49.731470Z",
     "start_time": "2020-01-24T16:00:46.221141Z"
    },
    "scrolled": false
   },
   "outputs": [
    {
     "name": "stdout",
     "output_type": "stream",
     "text": [
      "## Running Alignment Filter ##\n",
      "\tChecking input bam file\n",
      "\tParsing reads\n",
      "\tIndexing output bam file\n",
      "\tRead counts summary\n",
      "\t Reads discarded\n",
      "\t  total: 9,262\n",
      "\t  wrong_orientation: 5,291\n",
      "\t  secondary: 1,496\n",
      "\t  unmapped: 1,416\n",
      "\t  low_identity: 510\n",
      "\t  low_mapping_quality: 283\n",
      "\t  supplementary: 188\n",
      "\t  short_alignment: 67\n",
      "\t  short_read: 11\n",
      "\t Reads retained\n",
      "\t  primary: 4,422\n",
      "\t  total: 4,422\n",
      "(pyBioTools) "
     ]
    },
    {
     "ename": "",
     "evalue": "1",
     "output_type": "error",
     "traceback": []
    }
   ],
   "source": [
    "pyBioTools Alignment Filter \\\n",
    "    -i \"./data/sample_1.bam\" \\\n",
    "    -o \"./output/sample_1_filter.bam\" \\\n",
    "    --skip_unmapped \\\n",
    "    --skip_supplementary \\\n",
    "    --skip_secondary \\\n",
    "    --min_read_len 300 \\\n",
    "    --min_align_len 300 \\\n",
    "    --orientation \"+\" \\\n",
    "    --min_mapq 10 \\\n",
    "    --min_freq_identity 0.8 \\\n",
    "    --verbose"
   ]
  },
  {
   "cell_type": "markdown",
   "metadata": {},
   "source": [
    "## To_fastq"
   ]
  },
  {
   "cell_type": "code",
   "execution_count": 8,
   "metadata": {
    "ExecuteTime": {
     "end_time": "2020-01-24T16:00:44.026710Z",
     "start_time": "2020-01-24T16:00:43.544227Z"
    },
    "scrolled": false
   },
   "outputs": [
    {
     "name": "stdout",
     "output_type": "stream",
     "text": [
      "usage: pyBioTools Alignment To_fastq [-h] -i [INPUT_FN [INPUT_FN ...]] -1\n",
      "                                     OUTPUT_R1_FN [-2 OUTPUT_R2_FN] [-s] [-v]\n",
      "                                     [-q] [--progress]\n",
      "\n",
      "Dump reads from an alignment file or set of alignment file(s) to a fastq or\n",
      "pair of fastq file(s). Only the primary alignment are kept and paired_end\n",
      "reads are assumed to be interleaved. Compatible with unmapped or unaligned\n",
      "alignment files as well as files without header.\n",
      "\n",
      "optional arguments:\n",
      "  -h, --help            show this help message and exit\n",
      "  -i [INPUT_FN [INPUT_FN ...]], --input_fn [INPUT_FN [INPUT_FN ...]]\n",
      "                        Path (or list of paths) to input BAM/CRAM/SAM file(s)\n",
      "                        (required) [str]\n",
      "  -1 OUTPUT_R1_FN, --output_r1_fn OUTPUT_R1_FN\n",
      "                        Path to an output fastq file (for Read1 in paired_end\n",
      "                        mode of output_r2_fn is provided). Automatically\n",
      "                        gzipped if the .gz extension is found (required) [str]\n",
      "  -2 OUTPUT_R2_FN, --output_r2_fn OUTPUT_R2_FN\n",
      "                        Optional Path to an output fastq file. Automatically\n",
      "                        gzipped if the .gz extension is found (default: None)\n",
      "                        [str]\n",
      "  -s, --ignore_paired_end\n",
      "                        Ignore paired_end information and output everything in\n",
      "                        a single file. (default: False) [None]\n",
      "  -v, --verbose         Increase verbosity (default: False)\n",
      "  -q, --quiet           Reduce verbosity (default: False)\n",
      "  --progress            Display a progress bar\n",
      "(pyBioTools) "
     ]
    },
    {
     "ename": "",
     "evalue": "1",
     "output_type": "error",
     "traceback": []
    }
   ],
   "source": [
    "pyBioTools Alignment To_fastq -h"
   ]
  },
  {
   "cell_type": "markdown",
   "metadata": {},
   "source": [
    "### Single end read usage from bam files"
   ]
  },
  {
   "cell_type": "code",
   "execution_count": 7,
   "metadata": {
    "ExecuteTime": {
     "end_time": "2020-01-24T16:00:39.547951Z",
     "start_time": "2020-01-24T16:00:04.373940Z"
    },
    "scrolled": true
   },
   "outputs": [
    {
     "name": "stdout",
     "output_type": "stream",
     "text": [
      "## Running Alignment To_fastq ##\n",
      "\t[DEBUG] [Fastq_Writer] Opening file ./output/sample_1-2_SE_from_bam.fastq.gz in writing mode\n",
      "\tParsing reads\n",
      "\tReading input file ./data/sample_1.bam\n",
      "\tReading: 12000 Reads [00:16, 731.14 Reads/s] \n",
      "\t[DEBUG] [Alignment_To_fastq] Reached end of input file ./data/sample_1.bam\n",
      "\tReading input file ./data/sample_2.bam\n",
      "\tReading: 12000 Reads [00:18, 665.67 Reads/s] \n",
      "\t[DEBUG] [Alignment_To_fastq] Reached end of input file ./data/sample_2.bam\n",
      "\t[DEBUG] [Fastq_Writer] Closing file:./output/sample_1-2_SE_from_bam.fastq.gz\n",
      "\t[DEBUG] [Fastq_Writer] Sequences writen: 24000\n",
      "(pyBioTools) "
     ]
    },
    {
     "ename": "",
     "evalue": "1",
     "output_type": "error",
     "traceback": []
    }
   ],
   "source": [
    "pyBioTools Alignment To_fastq \\\n",
    "    -i ./data/sample_1.bam ./data/sample_2.bam\\\n",
    "    -1 ./output/sample_1-2_SE_from_bam.fastq.gz \\\n",
    "    --verbose \\\n",
    "    --progress"
   ]
  },
  {
   "cell_type": "markdown",
   "metadata": {},
   "source": [
    "###  Paired-end reads usage from unaligned CRAM files"
   ]
  },
  {
   "cell_type": "code",
   "execution_count": 6,
   "metadata": {
    "ExecuteTime": {
     "end_time": "2020-01-24T15:59:58.411430Z",
     "start_time": "2020-01-24T15:59:50.293102Z"
    }
   },
   "outputs": [
    {
     "name": "stdout",
     "output_type": "stream",
     "text": [
      "## Running Alignment To_fastq ##\n",
      "\t[DEBUG] [Fastq_Writer] Opening file ./output/sample_1-2_PE_from_CRAM_1.fastq.gz in writing mode\n",
      "\t[DEBUG] [Fastq_Writer] Opening file ./output/sample_1-2_PE_from_CRAM_2.fastq.gz in writing mode\n",
      "\tParsing reads\n",
      "\tReading input file ./data/sample_1_20k.cram\n",
      "\tReading: 12000 Reads [00:03, 3234.21 Reads/s]\n",
      "\t[DEBUG] [Alignment_To_fastq] Reached end of input file ./data/sample_1_20k.cram\n",
      "\tReading input file ./data/sample_2_20k.cram\n",
      "\tReading: 12000 Reads [00:03, 3276.94 Reads/s]\n",
      "\t[DEBUG] [Alignment_To_fastq] Reached end of input file ./data/sample_2_20k.cram\n",
      "\t[DEBUG] [Fastq_Writer] Closing file:./output/sample_1-2_PE_from_CRAM_1.fastq.gz\n",
      "\t[DEBUG] [Fastq_Writer] Sequences writen: 24000\n",
      "\t[DEBUG] [Fastq_Writer] Closing file:./output/sample_1-2_PE_from_CRAM_2.fastq.gz\n",
      "\t[DEBUG] [Fastq_Writer] Sequences writen: 24000\n",
      "(pyBioTools) "
     ]
    },
    {
     "ename": "",
     "evalue": "1",
     "output_type": "error",
     "traceback": []
    }
   ],
   "source": [
    "pyBioTools Alignment To_fastq \\\n",
    "    -i ./data/sample_1_20k.cram ./data/sample_2_20k.cram \\\n",
    "    -1 ./output/sample_1-2_PE_from_CRAM_1.fastq.gz \\\n",
    "    -2 ./output/sample_1-2_PE_from_CRAM_2.fastq.gz \\\n",
    "    --verbose \\\n",
    "    --progress"
   ]
  },
  {
   "cell_type": "markdown",
   "metadata": {},
   "source": [
    "## Split"
   ]
  },
  {
   "cell_type": "code",
   "execution_count": 2,
   "metadata": {
    "ExecuteTime": {
     "end_time": "2020-01-24T15:48:17.144809Z",
     "start_time": "2020-01-24T15:48:16.688799Z"
    }
   },
   "outputs": [
    {
     "name": "stdout",
     "output_type": "stream",
     "text": [
      "usage: pyBioTools Alignment Split [-h] -i INPUT_FN [-o OUTPUT_DIR]\n",
      "                                  [-n N_FILES] [-v] [-q] [--progress]\n",
      "\n",
      "Split reads in a bam file in N files. The input bam file has to be sorted by\n",
      "coordinates and indexed\n",
      "\n",
      "optional arguments:\n",
      "  -h, --help            show this help message and exit\n",
      "  -i INPUT_FN, --input_fn INPUT_FN\n",
      "                        Path to the bam file to filter (required) [str]\n",
      "  -o OUTPUT_DIR, --output_dir OUTPUT_DIR\n",
      "                        Path to the directory where to write split bam files.\n",
      "                        Files generated have the same basename as the source\n",
      "                        file and are suffixed with numbers starting from 1\n",
      "                        (default: None) [str]\n",
      "  -n N_FILES, --n_files N_FILES\n",
      "                        Number of file to split the original file into\n",
      "                        (default: 10) [int]\n",
      "  -v, --verbose         Increase verbosity (default: False)\n",
      "  -q, --quiet           Reduce verbosity (default: False)\n",
      "  --progress            Display a progress bar\n",
      "(pyBioTools) "
     ]
    },
    {
     "ename": "",
     "evalue": "1",
     "output_type": "error",
     "traceback": []
    }
   ],
   "source": [
    "pyBioTools Alignment Split -h"
   ]
  },
  {
   "cell_type": "markdown",
   "metadata": {},
   "source": [
    "### Basic usage"
   ]
  },
  {
   "cell_type": "code",
   "execution_count": 6,
   "metadata": {
    "ExecuteTime": {
     "end_time": "2020-01-30T14:18:08.734868Z",
     "start_time": "2020-01-30T14:18:02.340960Z"
    }
   },
   "outputs": [
    {
     "name": "stdout",
     "output_type": "stream",
     "text": [
      "## Running Alignment Split ##\n",
      "\tChecking input bam file\n",
      "\t[DEBUG] [Alignment_Split] List of output files to generate:\n",
      "\t[DEBUG] [Alignment_Split] * ./output/split_bam/sample_1_0.bam\n",
      "\t[DEBUG] [Alignment_Split] * ./output/split_bam/sample_1_1.bam\n",
      "\t[DEBUG] [Alignment_Split] * ./output/split_bam/sample_1_2.bam\n",
      "\t[DEBUG] [Alignment_Split] * ./output/split_bam/sample_1_3.bam\n",
      "\t[DEBUG] [Alignment_Split] * ./output/split_bam/sample_1_4.bam\n",
      "\tParsing reads\n",
      "\t[DEBUG] [Alignment_Split] Counting reads\n",
      "\t[DEBUG] [Alignment_Split] Open ouput file './output/split_bam/sample_1_0.bam'\n",
      "\t[DEBUG] [Alignment_Split] Close and index output file './output/split_bam/sample_1_0.bam'\n",
      "\t[DEBUG] [Alignment_Split] Reads written: 2,736\n",
      "\t[DEBUG] [Alignment_Split] Open ouput file './output/split_bam/sample_1_1.bam'\n",
      "\t[DEBUG] [Alignment_Split] Close and index output file './output/split_bam/sample_1_1.bam'\n",
      "\t[DEBUG] [Alignment_Split] Reads written: 2,736\n",
      "\t[DEBUG] [Alignment_Split] Open ouput file './output/split_bam/sample_1_2.bam'\n",
      "\t[DEBUG] [Alignment_Split] Close and index output file './output/split_bam/sample_1_2.bam'\n",
      "\t[DEBUG] [Alignment_Split] Reads written: 2,736\n",
      "\t[DEBUG] [Alignment_Split] Open ouput file './output/split_bam/sample_1_3.bam'\n",
      "\t[DEBUG] [Alignment_Split] Close and index output file './output/split_bam/sample_1_3.bam'\n",
      "\t[DEBUG] [Alignment_Split] Reads written: 2,736\n",
      "\t[DEBUG] [Alignment_Split] Open ouput file './output/split_bam/sample_1_4.bam'\n",
      "\t[DEBUG] [Alignment_Split] Reached end of input file\n",
      "\t[DEBUG] [Alignment_Split] Close and index output file './output/split_bam/sample_1_4.bam'\n",
      "\t[DEBUG] [Alignment_Split] Reads written: 2,740\n",
      "\tRead counts summary\n",
      "\t Reads from index: 13,684\n",
      "\t Reads writen: 13,684\n",
      "\t Reads per file: 2,736\n",
      "(pyBioTools) (pyBioTools) total 38M\n",
      "-rw-rw-r-- 1 aleg aleg 8.4M Jan 30 14:18 sample_1_0.bam\n",
      "-rw-rw-r-- 1 aleg aleg 5.0K Jan 30 14:18 sample_1_0.bam.bai\n",
      "-rw-rw-r-- 1 aleg aleg 8.4M Jan 30 14:18 sample_1_1.bam\n",
      "-rw-rw-r-- 1 aleg aleg 5.6K Jan 30 14:18 sample_1_1.bam.bai\n",
      "-rw-rw-r-- 1 aleg aleg 8.5M Jan 30 14:18 sample_1_2.bam\n",
      "-rw-rw-r-- 1 aleg aleg 4.6K Jan 30 14:18 sample_1_2.bam.bai\n",
      "-rw-rw-r-- 1 aleg aleg 8.5M Jan 30 14:18 sample_1_3.bam\n",
      "-rw-rw-r-- 1 aleg aleg 4.9K Jan 30 14:18 sample_1_3.bam.bai\n",
      "-rw-rw-r-- 1 aleg aleg 3.5M Jan 30 14:18 sample_1_4.bam\n",
      "-rw-rw-r-- 1 aleg aleg 1.3K Jan 30 14:18 sample_1_4.bam.bai\n",
      "(pyBioTools) "
     ]
    },
    {
     "ename": "",
     "evalue": "1",
     "output_type": "error",
     "traceback": []
    }
   ],
   "source": [
    "pyBioTools Alignment Split \\\n",
    "    -i \"./data/sample_1.bam\" \\\n",
    "    -o \"./output/split_bam\" \\\n",
    "    -n 5 \\\n",
    "    --verbose\n",
    "    \n",
    "ll \"./output/split_bam\""
   ]
  },
  {
   "cell_type": "code",
   "execution_count": 8,
   "metadata": {
    "ExecuteTime": {
     "end_time": "2020-01-30T14:19:29.947787Z",
     "start_time": "2020-01-30T14:19:23.498787Z"
    }
   },
   "outputs": [
    {
     "name": "stdout",
     "output_type": "stream",
     "text": [
      "## Running Alignment Split ##\n",
      "\tChecking input bam file\n",
      "\t[DEBUG] [Alignment_Split] List of output files to generate:\n",
      "\t[DEBUG] [Alignment_Split] * ./output/split_bam_2/f1.bam\n",
      "\t[DEBUG] [Alignment_Split] * ./output/split_bam_2/f2.bam\n",
      "\t[DEBUG] [Alignment_Split] * ./output/split_bam_2/f3.bam\n",
      "\t[DEBUG] [Alignment_Split] * ./output/split_bam_2/f4.bam\n",
      "\tParsing reads\n",
      "\t[DEBUG] [Alignment_Split] Counting reads\n",
      "\t[DEBUG] [Alignment_Split] Open ouput file './output/split_bam_2/f1.bam'\n",
      "\t[DEBUG] [Alignment_Split] Close and index output file './output/split_bam_2/f1.bam'\n",
      "\t[DEBUG] [Alignment_Split] Reads written: 3,421\n",
      "\t[DEBUG] [Alignment_Split] Open ouput file './output/split_bam_2/f2.bam'\n",
      "\t[DEBUG] [Alignment_Split] Close and index output file './output/split_bam_2/f2.bam'\n",
      "\t[DEBUG] [Alignment_Split] Reads written: 3,421\n",
      "\t[DEBUG] [Alignment_Split] Open ouput file './output/split_bam_2/f3.bam'\n",
      "\t[DEBUG] [Alignment_Split] Close and index output file './output/split_bam_2/f3.bam'\n",
      "\t[DEBUG] [Alignment_Split] Reads written: 3,421\n",
      "\t[DEBUG] [Alignment_Split] Open ouput file './output/split_bam_2/f4.bam'\n",
      "\t[DEBUG] [Alignment_Split] Reached end of input file\n",
      "\t[DEBUG] [Alignment_Split] Close and index output file './output/split_bam_2/f4.bam'\n",
      "\t[DEBUG] [Alignment_Split] Reads written: 3,421\n",
      "\tRead counts summary\n",
      "\t Reads from index: 13,684\n",
      "\t Reads writen: 13,684\n",
      "\t Reads per file: 3,421\n",
      "(pyBioTools) (pyBioTools) total 38M\n",
      "-rw-rw-r-- 1 aleg aleg  11M Jan 30 14:19 f1.bam\n",
      "-rw-rw-r-- 1 aleg aleg 6.2K Jan 30 14:19 f1.bam.bai\n",
      "-rw-rw-r-- 1 aleg aleg  12M Jan 30 14:19 f2.bam\n",
      "-rw-rw-r-- 1 aleg aleg 7.4K Jan 30 14:19 f2.bam.bai\n",
      "-rw-rw-r-- 1 aleg aleg 9.4M Jan 30 14:19 f3.bam\n",
      "-rw-rw-r-- 1 aleg aleg 5.0K Jan 30 14:19 f3.bam.bai\n",
      "-rw-rw-r-- 1 aleg aleg 5.6M Jan 30 14:19 f4.bam\n",
      "-rw-rw-r-- 1 aleg aleg 2.5K Jan 30 14:19 f4.bam.bai\n",
      "(pyBioTools) "
     ]
    },
    {
     "ename": "",
     "evalue": "1",
     "output_type": "error",
     "traceback": []
    }
   ],
   "source": [
    "pyBioTools Alignment Split \\\n",
    "    -i \"./data/sample_1.bam\" \\\n",
    "    -l \"./output/split_bam_2/f1.bam\" \"./output/split_bam_2/f2.bam\" \"./output/split_bam_2/f3.bam\" \"./output/split_bam_2/f4.bam\" \\\n",
    "    --verbose\n",
    "    \n",
    "ll \"./output/split_bam_2\""
   ]
  }
 ],
 "metadata": {
  "celltoolbar": "Initialization Cell",
  "hide_input": false,
  "kernelspec": {
   "display_name": "Bash",
   "language": "bash",
   "name": "bash"
  },
  "language_info": {
   "codemirror_mode": "shell",
   "file_extension": ".sh",
   "mimetype": "text/x-sh",
   "name": "bash"
  }
 },
 "nbformat": 4,
 "nbformat_minor": 2
}
