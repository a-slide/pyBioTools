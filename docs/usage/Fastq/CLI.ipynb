{
 "cells": [
  {
   "cell_type": "markdown",
   "metadata": {},
   "source": [
    "# Fastq CLI Usage"
   ]
  },
  {
   "cell_type": "markdown",
   "metadata": {},
   "source": [
    "## Activate virtual environment"
   ]
  },
  {
   "cell_type": "code",
   "execution_count": 1,
   "metadata": {
    "ExecuteTime": {
     "end_time": "2021-01-19T15:31:06.522266Z",
     "start_time": "2021-01-19T15:31:06.226814Z"
    }
   },
   "outputs": [
    {
     "name": "stdout",
     "output_type": "stream",
     "text": [
      "(pyBioTools) "
     ]
    },
    {
     "ename": "",
     "evalue": "1",
     "output_type": "error",
     "traceback": []
    }
   ],
   "source": [
    "# Using virtualenvwrapper here but can also be done with Conda \n",
    "conda activate pyBioTools"
   ]
  },
  {
   "cell_type": "markdown",
   "metadata": {},
   "source": [
    "## filter_reads"
   ]
  },
  {
   "cell_type": "markdown",
   "metadata": {},
   "source": [
    "### Get help"
   ]
  },
  {
   "cell_type": "code",
   "execution_count": 3,
   "metadata": {
    "ExecuteTime": {
     "end_time": "2021-01-19T15:00:09.516184Z",
     "start_time": "2021-01-19T15:00:09.057545Z"
    }
   },
   "outputs": [
    {
     "name": "stdout",
     "output_type": "stream",
     "text": [
      "usage: pyBioTools Fastq Filter [-h] -i [INPUT_FN [INPUT_FN ...]] -o OUTPUT_FN\n",
      "                               [-l MIN_LEN] [-u MIN_QUAL] [-r]\n",
      "                               [-f QUAL_OFFSET] [-v] [-q] [--progress]\n",
      "\n",
      "Filter fastq reads based on their length, mean quality and the presence of\n",
      "duplicates. Can also be used to concatenate reads from multiple files in a\n",
      "single one.\n",
      "\n",
      "optional arguments:\n",
      "  -h, --help            show this help message and exit\n",
      "  -i [INPUT_FN [INPUT_FN ...]], --input_fn [INPUT_FN [INPUT_FN ...]]\n",
      "                        Fastq file path or directory containing fastq files or\n",
      "                        list of files, or regex or list of regex. It is quite\n",
      "                        flexible. (required) [str]\n",
      "  -o OUTPUT_FN, --output_fn OUTPUT_FN\n",
      "                        Destination fastq file. Automatically gzipped if the\n",
      "                        .gz extension is found (required) [str]\n",
      "  -l MIN_LEN, --min_len MIN_LEN\n",
      "                        Minimal reads length (default: None) [int]\n",
      "  -u MIN_QUAL, --min_qual MIN_QUAL\n",
      "                        Minimal mean read PHRED quality (default: None)\n",
      "                        [float]\n",
      "  -r, --remove_duplicates\n",
      "                        If true duplicated reads with the same read id are\n",
      "                        discarded (default: False) [None]\n",
      "  -f QUAL_OFFSET, --qual_offset QUAL_OFFSET\n",
      "                        Quality scoring system off set. Nowadays pretty much\n",
      "                        everyone uses +33 (default: 33) [int]\n",
      "  -v, --verbose         Increase verbosity (default: False)\n",
      "  -q, --quiet           Reduce verbosity (default: False)\n",
      "  --progress            Display a progress bar\n",
      "(pyBioTools) "
     ]
    },
    {
     "ename": "",
     "evalue": "1",
     "output_type": "error",
     "traceback": []
    }
   ],
   "source": [
    "pyBioTools Fastq Filter -h"
   ]
  },
  {
   "cell_type": "markdown",
   "metadata": {},
   "source": [
    "### Basic usage"
   ]
  },
  {
   "cell_type": "code",
   "execution_count": 2,
   "metadata": {
    "ExecuteTime": {
     "end_time": "2021-01-19T15:31:13.407919Z",
     "start_time": "2021-01-19T15:31:10.828646Z"
    },
    "scrolled": true
   },
   "outputs": [
    {
     "name": "stdout",
     "output_type": "stream",
     "text": [
      "\u001b[01;34m## Running Fastq Filter ##\u001b[0m\n",
      "\u001b[32m\tParsing reads\u001b[0m\n",
      "\u001b[37m\t[DEBUG]: Reading file ./data/sample_1.fastq\u001b[0m\n",
      "\u001b[37m\t[DEBUG]: End of file ./data/sample_1.fastq\u001b[0m\n",
      "\u001b[32m\tRead counts summary\u001b[0m\n",
      "\u001b[32m\t total_reads: 12,000\u001b[0m\n",
      "\u001b[32m\t valid_reads: 10,882\u001b[0m\n",
      "\u001b[32m\t low_qual_reads: 643\u001b[0m\n",
      "\u001b[32m\t short_reads: 474\u001b[0m\n",
      "\u001b[32m\t source files: 1\u001b[0m\n",
      "\u001b[32m\t duplicate_reads: 1\u001b[0m\n",
      "(pyBioTools) "
     ]
    },
    {
     "ename": "",
     "evalue": "1",
     "output_type": "error",
     "traceback": []
    }
   ],
   "source": [
    "pyBioTools Fastq Filter -i ./data/sample_1.fastq -o ./output/sample_1_filtered.fastq --min_len 100 --min_qual 7 --remove_duplicates --verbose"
   ]
  },
  {
   "cell_type": "markdown",
   "metadata": {},
   "source": [
    "### All fastq from a directory instead and write to compressed fastq"
   ]
  },
  {
   "cell_type": "code",
   "execution_count": 3,
   "metadata": {
    "ExecuteTime": {
     "end_time": "2021-01-19T15:31:50.113941Z",
     "start_time": "2021-01-19T15:31:17.281743Z"
    },
    "scrolled": true
   },
   "outputs": [
    {
     "name": "stdout",
     "output_type": "stream",
     "text": [
      "\u001b[01;34m## Running Fastq Filter ##\u001b[0m\n",
      "\u001b[32m\tParsing reads\u001b[0m\n",
      "\u001b[37m\t[DEBUG]: Reading file ./data/sample_1.fastq\u001b[0m\n",
      "\u001b[37m\t[DEBUG]: End of file ./data/sample_1.fastq\u001b[0m\n",
      "\u001b[37m\t[DEBUG]: Reading file ./data/sample_2.fastq\u001b[0m\n",
      "\u001b[37m\t[DEBUG]: End of file ./data/sample_2.fastq\u001b[0m\n",
      "\u001b[32m\tRead counts summary\u001b[0m\n",
      "\u001b[32m\t total_reads: 24,000\u001b[0m\n",
      "\u001b[32m\t valid_reads: 21,809\u001b[0m\n",
      "\u001b[32m\t low_qual_reads: 1,304\u001b[0m\n",
      "\u001b[32m\t short_reads: 887\u001b[0m\n",
      "\u001b[32m\t source files: 2\u001b[0m\n",
      "(pyBioTools) "
     ]
    },
    {
     "ename": "",
     "evalue": "1",
     "output_type": "error",
     "traceback": []
    }
   ],
   "source": [
    "pyBioTools Fastq Filter -i ./data/ -o ./output/sample_1_filtered.fastq.gz --min_len 100 --min_qual 7 --verbose"
   ]
  }
 ],
 "metadata": {
  "celltoolbar": "Initialization Cell",
  "hide_input": false,
  "kernelspec": {
   "display_name": "Bash",
   "language": "bash",
   "name": "bash"
  },
  "language_info": {
   "codemirror_mode": "shell",
   "file_extension": ".sh",
   "mimetype": "text/x-sh",
   "name": "bash"
  }
 },
 "nbformat": 4,
 "nbformat_minor": 2
}
