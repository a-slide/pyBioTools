{
 "cells": [
  {
   "cell_type": "markdown",
   "metadata": {},
   "source": [
    "# Alignment CLI Usage"
   ]
  },
  {
   "cell_type": "markdown",
   "metadata": {},
   "source": [
    "## Activate virtual environment"
   ]
  },
  {
   "cell_type": "code",
   "execution_count": 3,
   "metadata": {
    "ExecuteTime": {
     "end_time": "2021-01-20T15:39:47.004009Z",
     "start_time": "2021-01-20T15:39:46.742013Z"
    },
    "init_cell": true
   },
   "outputs": [
    {
     "name": "stdout",
     "output_type": "stream",
     "text": [
      "(pyBioTools) (pyBioTools) "
     ]
    },
    {
     "ename": "",
     "evalue": "1",
     "output_type": "error",
     "traceback": []
    }
   ],
   "source": [
    "# Using virtualenvwrapper here but can also be done with Conda \n",
    "conda activate pyBioTools"
   ]
  },
  {
   "cell_type": "markdown",
   "metadata": {
    "heading_collapsed": true
   },
   "source": [
    "## Reads_index"
   ]
  },
  {
   "cell_type": "markdown",
   "metadata": {
    "heading_collapsed": true,
    "hidden": true
   },
   "source": [
    "### Get help"
   ]
  },
  {
   "cell_type": "code",
   "execution_count": 3,
   "metadata": {
    "ExecuteTime": {
     "end_time": "2021-01-19T14:53:32.804829Z",
     "start_time": "2021-01-19T14:53:32.348885Z"
    },
    "hidden": true
   },
   "outputs": [
    {
     "name": "stdout",
     "output_type": "stream",
     "text": [
      "usage: pyBioTools Alignment Reads_index [-h] -i INPUT_FN [-u] [-s] [-p] [-v]\n",
      "                                        [-q] [--progress]\n",
      "\n",
      "Index reads found in a coordinated sorted bam file by read_id. The created\n",
      "index file can be used to randon access the alignment file per read_id\n",
      "\n",
      "optional arguments:\n",
      "  -h, --help            show this help message and exit\n",
      "  -i INPUT_FN, --input_fn INPUT_FN\n",
      "                        Path to the bam file to index (required) [str]\n",
      "  -u, --skip_unmapped   Filter out unmapped reads (default: False) [None]\n",
      "  -s, --skip_secondary  Filter out secondary alignment (default: False) [None]\n",
      "  -p, --skip_supplementary\n",
      "                        Filter out supplementary alignment (default: False)\n",
      "                        [None]\n",
      "  -v, --verbose         Increase verbosity (default: False)\n",
      "  -q, --quiet           Reduce verbosity (default: False)\n",
      "  --progress            Display a progress bar\n",
      "(pyBioTools) "
     ]
    },
    {
     "ename": "",
     "evalue": "1",
     "output_type": "error",
     "traceback": []
    }
   ],
   "source": [
    "pyBioTools Alignment Reads_index -h"
   ]
  },
  {
   "cell_type": "markdown",
   "metadata": {
    "heading_collapsed": true,
    "hidden": true
   },
   "source": [
    "### Basic usage"
   ]
  },
  {
   "cell_type": "code",
   "execution_count": 4,
   "metadata": {
    "ExecuteTime": {
     "end_time": "2021-01-19T14:53:36.164113Z",
     "start_time": "2021-01-19T14:53:35.042727Z"
    },
    "hidden": true,
    "scrolled": true
   },
   "outputs": [
    {
     "name": "stdout",
     "output_type": "stream",
     "text": [
      "\u001b[01;34m## Running Alignment Reads_index ##\u001b[0m\n",
      "\u001b[32m\tChecking Bam file\u001b[0m\n",
      "\u001b[32m\tParsing reads\u001b[0m\n",
      "\u001b[32m\tRead counts summary\u001b[0m\n",
      "\u001b[32m\t Reads retained\u001b[0m\n",
      "\u001b[32m\t  total: 13,684\u001b[0m\n",
      "\u001b[32m\t  primary: 10,584\u001b[0m\n",
      "\u001b[32m\t  secondary: 1,496\u001b[0m\n",
      "\u001b[32m\t  unmapped: 1,416\u001b[0m\n",
      "\u001b[32m\t  supplementary: 188\u001b[0m\n",
      "(pyBioTools) "
     ]
    },
    {
     "ename": "",
     "evalue": "1",
     "output_type": "error",
     "traceback": []
    }
   ],
   "source": [
    "pyBioTools Alignment Reads_index -i ./data/sample_1.bam"
   ]
  },
  {
   "cell_type": "markdown",
   "metadata": {
    "hidden": true
   },
   "source": [
    "### Excluding reads from index"
   ]
  },
  {
   "cell_type": "code",
   "execution_count": 5,
   "metadata": {
    "ExecuteTime": {
     "end_time": "2021-01-19T14:53:38.800628Z",
     "start_time": "2021-01-19T14:53:37.709009Z"
    },
    "hidden": true,
    "scrolled": false
   },
   "outputs": [
    {
     "name": "stdout",
     "output_type": "stream",
     "text": [
      "\u001b[01;34m## Running Alignment Reads_index ##\u001b[0m\n",
      "\u001b[32m\tChecking Bam file\u001b[0m\n",
      "\u001b[32m\tParsing reads\u001b[0m\n",
      "\u001b[32m\tRead counts summary\u001b[0m\n",
      "\u001b[32m\t Reads retained\u001b[0m\n",
      "\u001b[32m\t  total: 10,772\u001b[0m\n",
      "\u001b[32m\t  primary: 10,584\u001b[0m\n",
      "\u001b[32m\t  supplementary: 188\u001b[0m\n",
      "\u001b[32m\t Reads discarded\u001b[0m\n",
      "\u001b[32m\t  total: 2,912\u001b[0m\n",
      "\u001b[32m\t  secondary: 1,496\u001b[0m\n",
      "\u001b[32m\t  unmapped: 1,416\u001b[0m\n",
      "(pyBioTools) "
     ]
    },
    {
     "ename": "",
     "evalue": "1",
     "output_type": "error",
     "traceback": []
    }
   ],
   "source": [
    "pyBioTools Alignment Reads_index -i ./data/sample_1.bam --verbose --skip_secondary --skip_unmapped"
   ]
  },
  {
   "cell_type": "markdown",
   "metadata": {},
   "source": [
    "## References_sample"
   ]
  },
  {
   "cell_type": "markdown",
   "metadata": {},
   "source": [
    "### Get help"
   ]
  },
  {
   "cell_type": "code",
   "execution_count": 2,
   "metadata": {
    "ExecuteTime": {
     "end_time": "2021-01-20T15:24:01.061768Z",
     "start_time": "2021-01-20T15:24:00.594161Z"
    }
   },
   "outputs": [
    {
     "name": "stdout",
     "output_type": "stream",
     "text": [
      "usage: pyBioTools Alignment References_sample [-h] -i\n",
      "                                              [INPUT_FN [INPUT_FN ...]]\n",
      "                                              [-o OUTPUT_FN]\n",
      "                                              [-s SELECTED_READS_FN]\n",
      "                                              [-f FRAC_READS]\n",
      "                                              [-r MIN_READS_REF]\n",
      "                                              [-t SORTING_THREADS]\n",
      "                                              [--rand_seed RAND_SEED] [-v]\n",
      "                                              [-q] [--progress]\n",
      "\n",
      "Randomly sample reads per references according to a fraction od the reads\n",
      "mapped to this reference for a one or several files and write selected reads\n",
      "in a new bam file\n",
      "\n",
      "optional arguments:\n",
      "  -h, --help            show this help message and exit\n",
      "  -i [INPUT_FN [INPUT_FN ...]], --input_fn [INPUT_FN [INPUT_FN ...]]\n",
      "                        Bam file path or directory containing bam files or\n",
      "                        list of files, or regex or list of regex. It is quite\n",
      "                        flexible. All files need to be sorted and aligned to\n",
      "                        the same reference file. (required) [str]\n",
      "  -o OUTPUT_FN, --output_fn OUTPUT_FN\n",
      "                        Path to the output bam file (sorted and indexed)\n",
      "                        (default: out.bam) [str]\n",
      "  -s SELECTED_READS_FN, --selected_reads_fn SELECTED_READS_FN\n",
      "                        Path to the output text file containing all the read\n",
      "                        id selected (default: select_ref.txt) [str]\n",
      "  -f FRAC_READS, --frac_reads FRAC_READS\n",
      "                        Fraction of reads mapped to sample for each reference\n",
      "                        (default: 0.5) [int]\n",
      "  -r MIN_READS_REF, --min_reads_ref MIN_READS_REF\n",
      "                        Minimal read coverage per file and reference before\n",
      "                        sampling (default: 30) [int]\n",
      "  -t SORTING_THREADS, --sorting_threads SORTING_THREADS\n",
      "                        Number of threads to use for bam file sorting\n",
      "                        (default: 4) [int]\n",
      "  --rand_seed RAND_SEED\n",
      "                        Seed to use for the pseudo randon generator. For non\n",
      "                        deterministic behaviour set to None (default: 42)\n",
      "                        [int]\n",
      "  -v, --verbose         Increase verbosity (default: False)\n",
      "  -q, --quiet           Reduce verbosity (default: False)\n",
      "  --progress            Display a progress bar\n",
      "(pyBioTools) "
     ]
    },
    {
     "ename": "",
     "evalue": "1",
     "output_type": "error",
     "traceback": []
    }
   ],
   "source": [
    "pyBioTools Alignment References_sample -h"
   ]
  },
  {
   "cell_type": "markdown",
   "metadata": {},
   "source": [
    "### Basic usage "
   ]
  },
  {
   "cell_type": "code",
   "execution_count": 6,
   "metadata": {
    "ExecuteTime": {
     "end_time": "2021-01-20T15:42:10.412268Z",
     "start_time": "2021-01-20T15:42:02.757920Z"
    }
   },
   "outputs": [
    {
     "name": "stdout",
     "output_type": "stream",
     "text": [
      "\u001b[01;34m## Running Alignment Ref_sample ##\u001b[0m\n",
      "\u001b[01;34m## Index files ##\u001b[0m\n",
      "\u001b[32m\tIndexing alignment file ./data/sample_2.bam\u001b[0m\n",
      "\tReading : 13678 Reads [00:00, 19324.68 Reads/s]\n",
      "\u001b[32m\tIndexing alignment file ./data/sample_1.bam\u001b[0m\n",
      "\tReading : 13684 Reads [00:00, 23822.68 Reads/s]\n",
      "\u001b[32m\tRaw read counts summary\u001b[0m\n",
      "\u001b[32m\t primary reads: 21,185\u001b[0m\n",
      "\u001b[32m\t secondary reads: 2,966\u001b[0m\n",
      "\u001b[32m\t unmapped reads: 2,815\u001b[0m\n",
      "\u001b[32m\t supplementary reads: 396\u001b[0m\n",
      "\u001b[01;34m## Randomly pick reads per references ##\u001b[0m\n",
      "\u001b[01;34m## Sample reads and write to output file ##\u001b[0m\n",
      "\u001b[32m\tWriting selected reads for bam file ./data/sample_2.bam\u001b[0m\n",
      "\tWriting : 100%|██████████████████████| 2656/2656 [00:02<00:00, 1210.73 Reads/s]\n",
      "\u001b[32m\tWriting selected reads for bam file ./data/sample_1.bam\u001b[0m\n",
      "\tWriting : 100%|██████████████████████| 2653/2653 [00:02<00:00, 1247.70 Reads/s]\n",
      "\u001b[32m\tSort BAM File\u001b[0m\n",
      "\u001b[32m\tIndex sorted BAM File\u001b[0m\n",
      "\u001b[32m\tSelected read counts summary\u001b[0m\n",
      "\u001b[32m\t valid reads: 21,185\u001b[0m\n",
      "\u001b[32m\t valid sampled reads: 5,309\u001b[0m\n",
      "\u001b[32m\t valid references: 17\u001b[0m\n",
      "(pyBioTools) "
     ]
    },
    {
     "ename": "",
     "evalue": "1",
     "output_type": "error",
     "traceback": []
    }
   ],
   "source": [
    "pyBioTools Alignment References_sample \\\n",
    "    --input_fn \"./data/sample_*.bam\" \\\n",
    "    --output_fn \"./output/sample_References_sample.bam\" \\\n",
    "    --selected_reads_fn \"./output/sample_References_sample_refid.txt\" \\\n",
    "    --frac_reads 0.25 \\\n",
    "    --min_reads_ref 100 \\\n",
    "    --progress"
   ]
  },
  {
   "cell_type": "markdown",
   "metadata": {},
   "source": [
    "## Reads_sample"
   ]
  },
  {
   "cell_type": "markdown",
   "metadata": {
    "heading_collapsed": true
   },
   "source": [
    "### Get help"
   ]
  },
  {
   "cell_type": "code",
   "execution_count": 6,
   "metadata": {
    "ExecuteTime": {
     "end_time": "2021-01-19T14:53:42.415589Z",
     "start_time": "2021-01-19T14:53:41.952985Z"
    },
    "hidden": true,
    "scrolled": false
   },
   "outputs": [
    {
     "name": "stdout",
     "output_type": "stream",
     "text": [
      "usage: pyBioTools Alignment Reads_sample [-h] -i INPUT_FN [-o OUTPUT_FOLDER]\n",
      "                                         [-p OUTPUT_PREFIX] [-r N_READS]\n",
      "                                         [-s N_SAMPLES]\n",
      "                                         [--rand_seed RAND_SEED] [-v] [-q]\n",
      "                                         [--progress]\n",
      "\n",
      "Randomly sample `n_reads` reads from a bam file and write downsampled files in\n",
      "`n_samples` bam files. If the input bam file is not indexed by read_id\n",
      "`index_reads` is automatically called.\n",
      "\n",
      "optional arguments:\n",
      "  -h, --help            show this help message and exit\n",
      "  -i INPUT_FN, --input_fn INPUT_FN\n",
      "                        Path to the indexed bam file (required) [str]\n",
      "  -o OUTPUT_FOLDER, --output_folder OUTPUT_FOLDER\n",
      "                        Path to a folder where to write sample files (default:\n",
      "                        ./) [str]\n",
      "  -p OUTPUT_PREFIX, --output_prefix OUTPUT_PREFIX\n",
      "                        Path to a folder where to write sample files (default:\n",
      "                        out) [str]\n",
      "  -r N_READS, --n_reads N_READS\n",
      "                        Number of randomly selected reads in each sample\n",
      "                        (default: 1000) [int]\n",
      "  -s N_SAMPLES, --n_samples N_SAMPLES\n",
      "                        Number of samples to generate files for (default: 1)\n",
      "                        [int]\n",
      "  --rand_seed RAND_SEED\n",
      "                        Seed to use for the pseudo randon generator. For non\n",
      "                        deterministic behaviour set to 0 (default: 42) [int]\n",
      "  -v, --verbose         Increase verbosity (default: False)\n",
      "  -q, --quiet           Reduce verbosity (default: False)\n",
      "  --progress            Display a progress bar\n",
      "(pyBioTools) "
     ]
    },
    {
     "ename": "",
     "evalue": "1",
     "output_type": "error",
     "traceback": []
    }
   ],
   "source": [
    "pyBioTools Alignment Reads_sample -h"
   ]
  },
  {
   "cell_type": "markdown",
   "metadata": {},
   "source": [
    "### Basic usage"
   ]
  },
  {
   "cell_type": "code",
   "execution_count": 7,
   "metadata": {
    "ExecuteTime": {
     "end_time": "2021-01-19T14:53:47.597229Z",
     "start_time": "2021-01-19T14:53:44.472518Z"
    },
    "scrolled": false
   },
   "outputs": [
    {
     "name": "stdout",
     "output_type": "stream",
     "text": [
      "\u001b[01;34m## Running Alignment Reads_sample ##\u001b[0m\n",
      "\u001b[32m\tChecking Bam and index file\u001b[0m\n",
      "\u001b[32m\tLoad index\u001b[0m\n",
      "\tIndex: 10772it [00:00, 528519.79it/s]\n",
      "\u001b[32m\tWrite sample reads\u001b[0m\n",
      "\tSample 1: 100%|██████████████████████| 1000/1000 [00:00<00:00, 1225.20 Reads/s]\n",
      "\u001b[32m\tIndexing output bam file\u001b[0m\n",
      "\tSample 2: 100%|██████████████████████| 1000/1000 [00:00<00:00, 1255.67 Reads/s]\n",
      "\u001b[32m\tIndexing output bam file\u001b[0m\n",
      "\tSample 3: 100%|██████████████████████| 1000/1000 [00:00<00:00, 1225.41 Reads/s]\n",
      "\u001b[32m\tIndexing output bam file\u001b[0m\n",
      "(pyBioTools) "
     ]
    },
    {
     "ename": "",
     "evalue": "1",
     "output_type": "error",
     "traceback": []
    }
   ],
   "source": [
    "pyBioTools Alignment Reads_sample -i ./data/sample_1.bam -o ./output/sample_reads -p 1K -r 1000 -s 3 --progress --verbose"
   ]
  },
  {
   "cell_type": "markdown",
   "metadata": {},
   "source": [
    "## Filter"
   ]
  },
  {
   "cell_type": "markdown",
   "metadata": {
    "heading_collapsed": true
   },
   "source": [
    "### Get help"
   ]
  },
  {
   "cell_type": "code",
   "execution_count": 8,
   "metadata": {
    "ExecuteTime": {
     "end_time": "2021-01-19T14:53:50.490624Z",
     "start_time": "2021-01-19T14:53:50.030928Z"
    },
    "hidden": true,
    "scrolled": false
   },
   "outputs": [
    {
     "name": "stdout",
     "output_type": "stream",
     "text": [
      "usage: pyBioTools Alignment Filter [-h] -i INPUT_FN -o OUTPUT_FN [-u] [-s]\n",
      "                                   [-p] [-t ORIENTATION] [-r MIN_READ_LEN]\n",
      "                                   [-a MIN_ALIGN_LEN] [-m MIN_MAPQ]\n",
      "                                   [-f MIN_FREQ_IDENTITY]\n",
      "                                   [--select_ref [SELECT_REF [SELECT_REF ...]]]\n",
      "                                   [--exclude_ref [EXCLUDE_REF [EXCLUDE_REF ...]]]\n",
      "                                   [-v] [-q] [--progress]\n",
      "\n",
      "optional arguments:\n",
      "  -h, --help            show this help message and exit\n",
      "  -i INPUT_FN, --input_fn INPUT_FN\n",
      "                        Path to the bam file to filter (required) [str]\n",
      "  -o OUTPUT_FN, --output_fn OUTPUT_FN\n",
      "                        Path to the write filtered bam file (required) [str]\n",
      "  -u, --skip_unmapped   Filter out unmapped reads (default: False) [None]\n",
      "  -s, --skip_secondary  Filter out secondary alignment (default: False) [None]\n",
      "  -p, --skip_supplementary\n",
      "                        Filter out supplementary alignment (default: False)\n",
      "                        [None]\n",
      "  -t ORIENTATION, --orientation ORIENTATION\n",
      "                        Orientation of alignment on reference genome {\"+\",\"-\"\n",
      "                        ,\".\"} (default: .) [str]\n",
      "  -r MIN_READ_LEN, --min_read_len MIN_READ_LEN\n",
      "                        Minimal query read length (basecalled length)\n",
      "                        (default: 0) [int]\n",
      "  -a MIN_ALIGN_LEN, --min_align_len MIN_ALIGN_LEN\n",
      "                        Minimal query alignment length on reference (default:\n",
      "                        0) [int]\n",
      "  -m MIN_MAPQ, --min_mapq MIN_MAPQ\n",
      "                        Minimal mapping quality score (mapq) (default: 0)\n",
      "                        [int]\n",
      "  -f MIN_FREQ_IDENTITY, --min_freq_identity MIN_FREQ_IDENTITY\n",
      "                        Minimal frequency of alignment identity [0 to 1]\n",
      "                        (default: 0) [float]\n",
      "  --select_ref [SELECT_REF [SELECT_REF ...]]\n",
      "                        List of references on which the reads have to be\n",
      "                        mapped. (default: None) [str]\n",
      "  --exclude_ref [EXCLUDE_REF [EXCLUDE_REF ...]]\n",
      "                        List of references on which the reads should not be\n",
      "                        mapped. (default: None) [str]\n",
      "  -v, --verbose         Increase verbosity (default: False)\n",
      "  -q, --quiet           Reduce verbosity (default: False)\n",
      "  --progress            Display a progress bar\n",
      "(pyBioTools) "
     ]
    },
    {
     "ename": "",
     "evalue": "1",
     "output_type": "error",
     "traceback": []
    }
   ],
   "source": [
    "pyBioTools Alignment Filter -h"
   ]
  },
  {
   "cell_type": "markdown",
   "metadata": {
    "heading_collapsed": true
   },
   "source": [
    "### Basic usage"
   ]
  },
  {
   "cell_type": "code",
   "execution_count": 9,
   "metadata": {
    "ExecuteTime": {
     "end_time": "2021-01-19T14:53:55.986897Z",
     "start_time": "2021-01-19T14:53:52.359873Z"
    },
    "hidden": true,
    "scrolled": false
   },
   "outputs": [
    {
     "name": "stdout",
     "output_type": "stream",
     "text": [
      "\u001b[01;34m## Running Alignment Filter ##\u001b[0m\n",
      "\u001b[32m\tChecking input bam file\u001b[0m\n",
      "\u001b[32m\tParsing reads\u001b[0m\n",
      "\u001b[32m\tIndexing output bam file\u001b[0m\n",
      "\u001b[32m\tRead counts summary\u001b[0m\n",
      "\u001b[32m\t Reads discarded\u001b[0m\n",
      "\u001b[32m\t  total: 9,262\u001b[0m\n",
      "\u001b[32m\t  wrong_orientation: 5,291\u001b[0m\n",
      "\u001b[32m\t  secondary: 1,496\u001b[0m\n",
      "\u001b[32m\t  unmapped: 1,416\u001b[0m\n",
      "\u001b[32m\t  low_identity: 510\u001b[0m\n",
      "\u001b[32m\t  low_mapping_quality: 283\u001b[0m\n",
      "\u001b[32m\t  supplementary: 188\u001b[0m\n",
      "\u001b[32m\t  short_alignment: 67\u001b[0m\n",
      "\u001b[32m\t  short_read: 11\u001b[0m\n",
      "\u001b[32m\t Reads retained\u001b[0m\n",
      "\u001b[32m\t  primary: 4,422\u001b[0m\n",
      "\u001b[32m\t  total: 4,422\u001b[0m\n",
      "(pyBioTools) "
     ]
    },
    {
     "ename": "",
     "evalue": "1",
     "output_type": "error",
     "traceback": []
    }
   ],
   "source": [
    "pyBioTools Alignment Filter \\\n",
    "    -i \"./data/sample_1.bam\" \\\n",
    "    -o \"./output/sample_1_filter.bam\" \\\n",
    "    --skip_unmapped \\\n",
    "    --skip_supplementary \\\n",
    "    --skip_secondary \\\n",
    "    --min_read_len 300 \\\n",
    "    --min_align_len 300 \\\n",
    "    --orientation \"+\" \\\n",
    "    --min_mapq 10 \\\n",
    "    --min_freq_identity 0.8 \\\n",
    "    --verbose"
   ]
  },
  {
   "cell_type": "markdown",
   "metadata": {
    "heading_collapsed": true
   },
   "source": [
    "## To_fastq"
   ]
  },
  {
   "cell_type": "code",
   "execution_count": 10,
   "metadata": {
    "ExecuteTime": {
     "end_time": "2021-01-19T14:53:58.647129Z",
     "start_time": "2021-01-19T14:53:58.181150Z"
    },
    "hidden": true,
    "scrolled": false
   },
   "outputs": [
    {
     "name": "stdout",
     "output_type": "stream",
     "text": [
      "usage: pyBioTools Alignment To_fastq [-h] -i [INPUT_FN [INPUT_FN ...]] -1\n",
      "                                     OUTPUT_R1_FN [-2 OUTPUT_R2_FN] [-s] [-v]\n",
      "                                     [-q] [--progress]\n",
      "\n",
      "Dump reads from an alignment file or set of alignment file(s) to a fastq or\n",
      "pair of fastq file(s). Only the primary alignment are kept and paired_end\n",
      "reads are assumed to be interleaved. Compatible with unmapped or unaligned\n",
      "alignment files as well as files without header.\n",
      "\n",
      "optional arguments:\n",
      "  -h, --help            show this help message and exit\n",
      "  -i [INPUT_FN [INPUT_FN ...]], --input_fn [INPUT_FN [INPUT_FN ...]]\n",
      "                        Path (or list of paths) to input BAM/CRAM/SAM file(s)\n",
      "                        (required) [str]\n",
      "  -1 OUTPUT_R1_FN, --output_r1_fn OUTPUT_R1_FN\n",
      "                        Path to an output fastq file (for Read1 in paired_end\n",
      "                        mode of output_r2_fn is provided). Automatically\n",
      "                        gzipped if the .gz extension is found (required) [str]\n",
      "  -2 OUTPUT_R2_FN, --output_r2_fn OUTPUT_R2_FN\n",
      "                        Optional Path to an output fastq file. Automatically\n",
      "                        gzipped if the .gz extension is found (default: None)\n",
      "                        [str]\n",
      "  -s, --ignore_paired_end\n",
      "                        Ignore paired_end information and output everything in\n",
      "                        a single file. (default: False) [None]\n",
      "  -v, --verbose         Increase verbosity (default: False)\n",
      "  -q, --quiet           Reduce verbosity (default: False)\n",
      "  --progress            Display a progress bar\n",
      "(pyBioTools) "
     ]
    },
    {
     "ename": "",
     "evalue": "1",
     "output_type": "error",
     "traceback": []
    }
   ],
   "source": [
    "pyBioTools Alignment To_fastq -h"
   ]
  },
  {
   "cell_type": "markdown",
   "metadata": {
    "hidden": true
   },
   "source": [
    "### Single end read usage from bam files"
   ]
  },
  {
   "cell_type": "code",
   "execution_count": 11,
   "metadata": {
    "ExecuteTime": {
     "end_time": "2021-01-19T14:54:35.069392Z",
     "start_time": "2021-01-19T14:54:00.385822Z"
    },
    "hidden": true,
    "scrolled": true
   },
   "outputs": [
    {
     "name": "stdout",
     "output_type": "stream",
     "text": [
      "\u001b[01;34m## Running Alignment To_fastq ##\u001b[0m\n",
      "\u001b[37m\t[DEBUG]: Opening file ./output/sample_1-2_SE_from_bam.fastq.gz in writing mode\u001b[0m\n",
      "\u001b[32m\tParsing reads\u001b[0m\n",
      "\u001b[32m\tReading input file ./data/sample_1.bam\u001b[0m\n",
      "\tReading: 12000 Reads [00:15, 753.11 Reads/s] \n",
      "\u001b[37m\t[DEBUG]: Reached end of input file ./data/sample_1.bam\u001b[0m\n",
      "\u001b[32m\tReading input file ./data/sample_2.bam\u001b[0m\n",
      "\tReading: 12000 Reads [00:18, 664.44 Reads/s] \n",
      "\u001b[37m\t[DEBUG]: Reached end of input file ./data/sample_2.bam\u001b[0m\n",
      "\u001b[37m\t[DEBUG]: Closing file:./output/sample_1-2_SE_from_bam.fastq.gz\u001b[0m\n",
      "\u001b[37m\t[DEBUG]: Sequences writen: 24000\u001b[0m\n",
      "(pyBioTools) "
     ]
    },
    {
     "ename": "",
     "evalue": "1",
     "output_type": "error",
     "traceback": []
    }
   ],
   "source": [
    "pyBioTools Alignment To_fastq \\\n",
    "    -i ./data/sample_1.bam ./data/sample_2.bam\\\n",
    "    -1 ./output/sample_1-2_SE_from_bam.fastq.gz \\\n",
    "    --verbose \\\n",
    "    --progress"
   ]
  },
  {
   "cell_type": "markdown",
   "metadata": {
    "hidden": true
   },
   "source": [
    "###  Paired-end reads usage from unaligned CRAM files"
   ]
  },
  {
   "cell_type": "code",
   "execution_count": 12,
   "metadata": {
    "ExecuteTime": {
     "end_time": "2021-01-19T14:56:55.824047Z",
     "start_time": "2021-01-19T14:56:48.432722Z"
    },
    "hidden": true
   },
   "outputs": [
    {
     "name": "stdout",
     "output_type": "stream",
     "text": [
      "\u001b[01;34m## Running Alignment To_fastq ##\u001b[0m\n",
      "\u001b[37m\t[DEBUG]: Opening file ./output/sample_1-2_PE_from_CRAM_1.fastq.gz in writing mode\u001b[0m\n",
      "\u001b[37m\t[DEBUG]: Opening file ./output/sample_1-2_PE_from_CRAM_2.fastq.gz in writing mode\u001b[0m\n",
      "\u001b[32m\tParsing reads\u001b[0m\n",
      "\u001b[32m\tReading input file ./data/sample_1_20k.cram\u001b[0m\n",
      "[E::cram_index_load] Could not retrieve index file for './data/sample_1_20k.cram'\n",
      "\tReading: 12000 Reads [00:03, 3594.10 Reads/s]\n",
      "\u001b[37m\t[DEBUG]: Reached end of input file ./data/sample_1_20k.cram\u001b[0m\n",
      "\u001b[32m\tReading input file ./data/sample_2_20k.cram\u001b[0m\n",
      "[E::cram_index_load] Could not retrieve index file for './data/sample_2_20k.cram'\n",
      "\tReading: 12000 Reads [00:03, 3628.22 Reads/s]\n",
      "\u001b[37m\t[DEBUG]: Reached end of input file ./data/sample_2_20k.cram\u001b[0m\n",
      "\u001b[37m\t[DEBUG]: Closing file:./output/sample_1-2_PE_from_CRAM_1.fastq.gz\u001b[0m\n",
      "\u001b[37m\t[DEBUG]: Sequences writen: 24000\u001b[0m\n",
      "\u001b[37m\t[DEBUG]: Closing file:./output/sample_1-2_PE_from_CRAM_2.fastq.gz\u001b[0m\n",
      "\u001b[37m\t[DEBUG]: Sequences writen: 24000\u001b[0m\n",
      "(pyBioTools) "
     ]
    },
    {
     "ename": "",
     "evalue": "1",
     "output_type": "error",
     "traceback": []
    }
   ],
   "source": [
    "pyBioTools Alignment To_fastq \\\n",
    "    -i ./data/sample_1_20k.cram ./data/sample_2_20k.cram \\\n",
    "    -1 ./output/sample_1-2_PE_from_CRAM_1.fastq.gz \\\n",
    "    -2 ./output/sample_1-2_PE_from_CRAM_2.fastq.gz \\\n",
    "    --verbose \\\n",
    "    --progress"
   ]
  },
  {
   "cell_type": "markdown",
   "metadata": {
    "heading_collapsed": true
   },
   "source": [
    "## Split"
   ]
  },
  {
   "cell_type": "code",
   "execution_count": 13,
   "metadata": {
    "ExecuteTime": {
     "end_time": "2021-01-19T14:57:01.291857Z",
     "start_time": "2021-01-19T14:57:00.831840Z"
    },
    "hidden": true
   },
   "outputs": [
    {
     "name": "stdout",
     "output_type": "stream",
     "text": [
      "usage: pyBioTools Alignment Split [-h] -i INPUT_FN [-o OUTPUT_DIR]\n",
      "                                  [-n N_FILES]\n",
      "                                  [-l [OUTPUT_FN_LIST [OUTPUT_FN_LIST ...]]]\n",
      "                                  [-x] [-v] [-q] [--progress]\n",
      "\n",
      "Split reads in a bam file in N files. The input bam file has to be sorted by\n",
      "coordinates and indexed. The last file can contain a few extra reads.\n",
      "\n",
      "optional arguments:\n",
      "  -h, --help            show this help message and exit\n",
      "  -i INPUT_FN, --input_fn INPUT_FN\n",
      "                        Path to the bam file to filter (required) [str]\n",
      "  -o OUTPUT_DIR, --output_dir OUTPUT_DIR\n",
      "                        Path to the directory where to write split bam files.\n",
      "                        Files generated have the same basename as the source\n",
      "                        file and are suffixed with numbers starting from 0\n",
      "                        (default: None) [str]\n",
      "  -n N_FILES, --n_files N_FILES\n",
      "                        Number of file to split the original file into\n",
      "                        (default: 10) [int]\n",
      "  -l [OUTPUT_FN_LIST [OUTPUT_FN_LIST ...]], --output_fn_list [OUTPUT_FN_LIST [OUTPUT_FN_LIST ...]]\n",
      "                        As an alternative to output_dir and n_files one can\n",
      "                        instead give a list of output files. Reads will be\n",
      "                        automatically split between the files in the same\n",
      "                        order as given (default: None) [str]\n",
      "  -x, --index           Index output BAM files (default: False) [None]\n",
      "  -v, --verbose         Increase verbosity (default: False)\n",
      "  -q, --quiet           Reduce verbosity (default: False)\n",
      "  --progress            Display a progress bar\n",
      "(pyBioTools) "
     ]
    },
    {
     "ename": "",
     "evalue": "1",
     "output_type": "error",
     "traceback": []
    }
   ],
   "source": [
    "pyBioTools Alignment Split -h"
   ]
  },
  {
   "cell_type": "markdown",
   "metadata": {
    "hidden": true
   },
   "source": [
    "### Basic usage with an output folder"
   ]
  },
  {
   "cell_type": "code",
   "execution_count": 14,
   "metadata": {
    "ExecuteTime": {
     "end_time": "2021-01-19T14:57:10.876936Z",
     "start_time": "2021-01-19T14:57:04.837522Z"
    },
    "hidden": true,
    "scrolled": false
   },
   "outputs": [
    {
     "name": "stdout",
     "output_type": "stream",
     "text": [
      "\u001b[01;34m## Running Alignment Split ##\u001b[0m\n",
      "\u001b[32m\tChecking input bam file\u001b[0m\n",
      "\u001b[37m\t[DEBUG]: List of output files to generate:\u001b[0m\n",
      "\u001b[37m\t[DEBUG]: * ./output/split_bam/sample_1_0.bam\u001b[0m\n",
      "\u001b[37m\t[DEBUG]: * ./output/split_bam/sample_1_1.bam\u001b[0m\n",
      "\u001b[37m\t[DEBUG]: * ./output/split_bam/sample_1_2.bam\u001b[0m\n",
      "\u001b[37m\t[DEBUG]: * ./output/split_bam/sample_1_3.bam\u001b[0m\n",
      "\u001b[37m\t[DEBUG]: * ./output/split_bam/sample_1_4.bam\u001b[0m\n",
      "\u001b[32m\tParsing reads\u001b[0m\n",
      "\u001b[37m\t[DEBUG]: Counting reads\u001b[0m\n",
      "\u001b[37m\t[DEBUG]: Open ouput file './output/split_bam/sample_1_0.bam'\u001b[0m\n",
      "\u001b[37m\t[DEBUG]: Close output file './output/split_bam/sample_1_0.bam'\u001b[0m\n",
      "\u001b[37m\t[DEBUG]: Reads written: 2,736\u001b[0m\n",
      "\u001b[37m\t[DEBUG]: Open ouput file './output/split_bam/sample_1_1.bam'\u001b[0m\n",
      "\u001b[37m\t[DEBUG]: Close output file './output/split_bam/sample_1_1.bam'\u001b[0m\n",
      "\u001b[37m\t[DEBUG]: Reads written: 2,736\u001b[0m\n",
      "\u001b[37m\t[DEBUG]: Open ouput file './output/split_bam/sample_1_2.bam'\u001b[0m\n",
      "\u001b[37m\t[DEBUG]: Close output file './output/split_bam/sample_1_2.bam'\u001b[0m\n",
      "\u001b[37m\t[DEBUG]: Reads written: 2,736\u001b[0m\n",
      "\u001b[37m\t[DEBUG]: Open ouput file './output/split_bam/sample_1_3.bam'\u001b[0m\n",
      "\u001b[37m\t[DEBUG]: Close output file './output/split_bam/sample_1_3.bam'\u001b[0m\n",
      "\u001b[37m\t[DEBUG]: Reads written: 2,736\u001b[0m\n",
      "\u001b[37m\t[DEBUG]: Open ouput file './output/split_bam/sample_1_4.bam'\u001b[0m\n",
      "\u001b[37m\t[DEBUG]: Reached end of input file\u001b[0m\n",
      "\u001b[37m\t[DEBUG]: Close output file './output/split_bam/sample_1_4.bam'\u001b[0m\n",
      "\u001b[37m\t[DEBUG]: Reads written: 2,740\u001b[0m\n",
      "\u001b[32m\tRead counts summary\u001b[0m\n",
      "\u001b[32m\t Reads from index: 13,684\u001b[0m\n",
      "\u001b[32m\t Reads writen: 13,684\u001b[0m\n",
      "\u001b[32m\t Reads per file: 2,736\u001b[0m\n",
      "(pyBioTools) (pyBioTools) total 38M\n",
      "-rw-rw-r-- 1 aleg aleg 8.4M Jan 19 14:57 sample_1_0.bam\n",
      "-rw-rw-r-- 1 aleg aleg 8.4M Jan 19 14:57 sample_1_1.bam\n",
      "-rw-rw-r-- 1 aleg aleg 8.5M Jan 19 14:57 sample_1_2.bam\n",
      "-rw-rw-r-- 1 aleg aleg 8.5M Jan 19 14:57 sample_1_3.bam\n",
      "-rw-rw-r-- 1 aleg aleg 3.5M Jan 19 14:57 sample_1_4.bam\n",
      "(pyBioTools) "
     ]
    },
    {
     "ename": "",
     "evalue": "1",
     "output_type": "error",
     "traceback": []
    }
   ],
   "source": [
    "pyBioTools Alignment Split \\\n",
    "    -i \"./data/sample_1.bam\" \\\n",
    "    -o \"./output/split_bam\" \\\n",
    "    -n 5 \\\n",
    "    --verbose\n",
    "    \n",
    "ll \"./output/split_bam\""
   ]
  },
  {
   "cell_type": "markdown",
   "metadata": {
    "hidden": true
   },
   "source": [
    "### Basic usage with named output files"
   ]
  },
  {
   "cell_type": "code",
   "execution_count": 15,
   "metadata": {
    "ExecuteTime": {
     "end_time": "2021-01-19T14:57:19.753079Z",
     "start_time": "2021-01-19T14:57:13.255298Z"
    },
    "hidden": true,
    "scrolled": true
   },
   "outputs": [
    {
     "name": "stdout",
     "output_type": "stream",
     "text": [
      "\u001b[01;34m## Running Alignment Split ##\u001b[0m\n",
      "\u001b[32m\tChecking input bam file\u001b[0m\n",
      "\u001b[37m\t[DEBUG]: List of output files to generate:\u001b[0m\n",
      "\u001b[37m\t[DEBUG]: * ./output/split_bam_2/f1.bam\u001b[0m\n",
      "\u001b[37m\t[DEBUG]: * ./output/split_bam_2/f2.bam\u001b[0m\n",
      "\u001b[37m\t[DEBUG]: * ./output/split_bam_2/f3.bam\u001b[0m\n",
      "\u001b[37m\t[DEBUG]: * ./output/split_bam_2/f4.bam\u001b[0m\n",
      "\u001b[32m\tParsing reads\u001b[0m\n",
      "\u001b[37m\t[DEBUG]: Counting reads\u001b[0m\n",
      "\u001b[37m\t[DEBUG]: Open ouput file './output/split_bam_2/f1.bam'\u001b[0m\n",
      "\u001b[37m\t[DEBUG]: Close output file './output/split_bam_2/f1.bam'\u001b[0m\n",
      "\u001b[37m\t[DEBUG]: Reads written: 3,421\u001b[0m\n",
      "\u001b[37m\t[DEBUG]: index output file './output/split_bam_2/f1.bam'\u001b[0m\n",
      "\u001b[37m\t[DEBUG]: Open ouput file './output/split_bam_2/f2.bam'\u001b[0m\n",
      "\u001b[37m\t[DEBUG]: Close output file './output/split_bam_2/f2.bam'\u001b[0m\n",
      "\u001b[37m\t[DEBUG]: Reads written: 3,421\u001b[0m\n",
      "\u001b[37m\t[DEBUG]: index output file './output/split_bam_2/f2.bam'\u001b[0m\n",
      "\u001b[37m\t[DEBUG]: Open ouput file './output/split_bam_2/f3.bam'\u001b[0m\n",
      "\u001b[37m\t[DEBUG]: Close output file './output/split_bam_2/f3.bam'\u001b[0m\n",
      "\u001b[37m\t[DEBUG]: Reads written: 3,421\u001b[0m\n",
      "\u001b[37m\t[DEBUG]: index output file './output/split_bam_2/f3.bam'\u001b[0m\n",
      "\u001b[37m\t[DEBUG]: Open ouput file './output/split_bam_2/f4.bam'\u001b[0m\n",
      "\u001b[37m\t[DEBUG]: Reached end of input file\u001b[0m\n",
      "\u001b[37m\t[DEBUG]: Close output file './output/split_bam_2/f4.bam'\u001b[0m\n",
      "\u001b[37m\t[DEBUG]: Reads written: 3,421\u001b[0m\n",
      "\u001b[37m\t[DEBUG]: index output file './output/split_bam_2/f4.bam'\u001b[0m\n",
      "\u001b[32m\tRead counts summary\u001b[0m\n",
      "\u001b[32m\t Reads from index: 13,684\u001b[0m\n",
      "\u001b[32m\t Reads writen: 13,684\u001b[0m\n",
      "\u001b[32m\t Reads per file: 3,421\u001b[0m\n",
      "(pyBioTools) (pyBioTools) total 38M\n",
      "-rw-rw-r-- 1 aleg aleg  11M Jan 19 14:57 f1.bam\n",
      "-rw-rw-r-- 1 aleg aleg 6.2K Jan 19 14:57 f1.bam.bai\n",
      "-rw-rw-r-- 1 aleg aleg  12M Jan 19 14:57 f2.bam\n",
      "-rw-rw-r-- 1 aleg aleg 7.4K Jan 19 14:57 f2.bam.bai\n",
      "-rw-rw-r-- 1 aleg aleg 9.4M Jan 19 14:57 f3.bam\n",
      "-rw-rw-r-- 1 aleg aleg 5.0K Jan 19 14:57 f3.bam.bai\n",
      "-rw-rw-r-- 1 aleg aleg 5.6M Jan 19 14:57 f4.bam\n",
      "-rw-rw-r-- 1 aleg aleg 2.5K Jan 19 14:57 f4.bam.bai\n",
      "(pyBioTools) "
     ]
    },
    {
     "ename": "",
     "evalue": "1",
     "output_type": "error",
     "traceback": []
    }
   ],
   "source": [
    "pyBioTools Alignment Split \\\n",
    "    -i \"./data/sample_1.bam\" \\\n",
    "    -l \"./output/split_bam_2/f1.bam\" \"./output/split_bam_2/f2.bam\" \"./output/split_bam_2/f3.bam\" \"./output/split_bam_2/f4.bam\" \\\n",
    "    --verbose \\\n",
    "    --index\n",
    "    \n",
    "ll \"./output/split_bam_2\""
   ]
  }
 ],
 "metadata": {
  "celltoolbar": "Initialization Cell",
  "hide_input": false,
  "kernelspec": {
   "display_name": "Bash",
   "language": "bash",
   "name": "bash"
  },
  "language_info": {
   "codemirror_mode": "shell",
   "file_extension": ".sh",
   "mimetype": "text/x-sh",
   "name": "bash"
  }
 },
 "nbformat": 4,
 "nbformat_minor": 2
}
