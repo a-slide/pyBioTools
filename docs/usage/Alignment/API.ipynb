{
 "cells": [
  {
   "cell_type": "markdown",
   "metadata": {},
   "source": [
    "# Alignment API Usage"
   ]
  },
  {
   "cell_type": "markdown",
   "metadata": {},
   "source": [
    "## Import package"
   ]
  },
  {
   "cell_type": "code",
   "execution_count": 2,
   "metadata": {
    "ExecuteTime": {
     "end_time": "2019-11-29T15:55:11.048404Z",
     "start_time": "2019-11-29T15:55:11.044545Z"
    },
    "init_cell": true
   },
   "outputs": [],
   "source": [
    "from pyBioTools import Alignment\n",
    "from pyBioTools.common import jhelp, head"
   ]
  },
  {
   "cell_type": "markdown",
   "metadata": {},
   "source": [
    "## Reads_index"
   ]
  },
  {
   "cell_type": "code",
   "execution_count": 3,
   "metadata": {
    "ExecuteTime": {
     "end_time": "2019-11-29T15:55:11.073983Z",
     "start_time": "2019-11-29T15:55:11.053168Z"
    },
    "scrolled": true
   },
   "outputs": [
    {
     "data": {
      "text/markdown": [
       "**Reads_index** (input_fn, skip_unmapped, skip_secondary, skip_supplementary, verbose, quiet, progress, kwargs)\n",
       "\n",
       "Index reads found in a coordinated sorted bam file by read_id. The created index file can be used to randon access the alignment file per read_id\n",
       "\n",
       "---\n",
       "\n",
       "* **input_fn** (required) [str]\n",
       "\n",
       "Path to the bam file to index\n",
       "\n",
       "* **skip_unmapped** (default: False) [bool]\n",
       "\n",
       "Filter out unmapped reads\n",
       "\n",
       "* **skip_secondary** (default: False) [bool]\n",
       "\n",
       "Filter out secondary alignment\n",
       "\n",
       "* **skip_supplementary** (default: False) [bool]\n",
       "\n",
       "Filter out supplementary alignment\n",
       "\n",
       "* **verbose** (default: False)\n",
       "\n",
       "* **quiet** (default: False)\n",
       "\n",
       "* **progress** (default: False)\n",
       "\n",
       "* **kwargs**\n",
       "\n"
      ],
      "text/plain": [
       "<IPython.core.display.Markdown object>"
      ]
     },
     "metadata": {},
     "output_type": "display_data"
    }
   ],
   "source": [
    "jhelp(Alignment.Reads_index)"
   ]
  },
  {
   "cell_type": "markdown",
   "metadata": {},
   "source": [
    "### Basic usage"
   ]
  },
  {
   "cell_type": "code",
   "execution_count": 4,
   "metadata": {
    "ExecuteTime": {
     "end_time": "2019-11-29T15:55:11.841479Z",
     "start_time": "2019-11-29T15:55:11.077274Z"
    },
    "scrolled": false
   },
   "outputs": [
    {
     "name": "stderr",
     "output_type": "stream",
     "text": [
      "Checking Bam file\n",
      "Parsing reads\n",
      "\n",
      "Read counts summary\n",
      "\tReads retained\n",
      "\t\ttotal: 13,684\n",
      "\t\tprimary: 10,584\n",
      "\t\tsecondary: 1,496\n",
      "\t\tunmapped: 1,416\n",
      "\t\tsupplementary: 188\n",
      "\n"
     ]
    }
   ],
   "source": [
    "Alignment.Reads_index(\"./data/sample_1.bam\", verbose=True)"
   ]
  },
  {
   "cell_type": "markdown",
   "metadata": {},
   "source": [
    "### Excluding reads from index"
   ]
  },
  {
   "cell_type": "code",
   "execution_count": 5,
   "metadata": {
    "ExecuteTime": {
     "end_time": "2019-11-29T15:55:12.558755Z",
     "start_time": "2019-11-29T15:55:11.845479Z"
    },
    "scrolled": false
   },
   "outputs": [
    {
     "name": "stderr",
     "output_type": "stream",
     "text": [
      "Checking Bam file\n",
      "Parsing reads\n",
      "\n",
      "Read counts summary\n",
      "\tReads retained\n",
      "\t\tprimary: 10,584\n",
      "\t\ttotal: 10,584\n",
      "\tReads discarded\n",
      "\t\ttotal: 3,100\n",
      "\t\tsecondary: 1,496\n",
      "\t\tunmapped: 1,416\n",
      "\t\tsupplementary: 188\n",
      "\n"
     ]
    }
   ],
   "source": [
    "Alignment.Reads_index(\"./data/sample_1.bam\", verbose=True, skip_secondary=True, skip_supplementary=True, skip_unmapped=True)"
   ]
  },
  {
   "cell_type": "markdown",
   "metadata": {},
   "source": [
    "## Reads_sample"
   ]
  },
  {
   "cell_type": "code",
   "execution_count": 6,
   "metadata": {
    "ExecuteTime": {
     "end_time": "2019-11-29T15:55:12.564656Z",
     "start_time": "2019-11-29T15:55:12.560554Z"
    },
    "scrolled": false
   },
   "outputs": [
    {
     "data": {
      "text/markdown": [
       "**Reads_sample** (input_fn, output_folder, output_prefix, n_reads, n_samples, rand_seed, verbose, quiet, progress, kwargs)\n",
       "\n",
       "Randomly sample `n_reads` reads from a bam file and write downsampled files in `n_samples` bam files. If the input bam file is not indexed by read_id `index_reads` is automatically called.\n",
       "\n",
       "---\n",
       "\n",
       "* **input_fn** (required) [str]\n",
       "\n",
       "Path to the indexed bam file\n",
       "\n",
       "* **output_folder** (default: ./) [str]\n",
       "\n",
       "Path to a folder where to write sample files\n",
       "\n",
       "* **output_prefix** (default: out) [str]\n",
       "\n",
       "Path to a folder where to write sample files\n",
       "\n",
       "* **n_reads** (default: 1000) [int]\n",
       "\n",
       "Number of randomly selected reads in each sample\n",
       "\n",
       "* **n_samples** (default: 1) [int]\n",
       "\n",
       "Number of samples to generate files for\n",
       "\n",
       "* **rand_seed** (default: 42) [int]\n",
       "\n",
       "Seed to use for the pseudo randon generator. For non deterministic behaviour set to 0\n",
       "\n",
       "* **verbose** (default: False)\n",
       "\n",
       "* **quiet** (default: False)\n",
       "\n",
       "* **progress** (default: False)\n",
       "\n",
       "* **kwargs**\n",
       "\n"
      ],
      "text/plain": [
       "<IPython.core.display.Markdown object>"
      ]
     },
     "metadata": {},
     "output_type": "display_data"
    }
   ],
   "source": [
    "jhelp(Alignment.Reads_sample)"
   ]
  },
  {
   "cell_type": "markdown",
   "metadata": {},
   "source": [
    "### Basic usage"
   ]
  },
  {
   "cell_type": "code",
   "execution_count": 7,
   "metadata": {
    "ExecuteTime": {
     "end_time": "2019-11-29T15:55:15.596067Z",
     "start_time": "2019-11-29T15:55:12.567091Z"
    },
    "scrolled": true
   },
   "outputs": [
    {
     "name": "stderr",
     "output_type": "stream",
     "text": [
      "Checking Bam and index file\n",
      "Load index\n",
      "Write sample reads\n",
      "\tIndexing output bam file\n",
      "\tIndexing output bam file\n",
      "\tIndexing output bam file\n"
     ]
    }
   ],
   "source": [
    "Alignment.Reads_sample(\"./data/sample_1.bam\", \"./output/sample_reads/\", output_prefix=\"1K\", n_reads=1000, n_samples=3)"
   ]
  },
  {
   "cell_type": "markdown",
   "metadata": {},
   "source": [
    "## Filter"
   ]
  },
  {
   "cell_type": "code",
   "execution_count": 8,
   "metadata": {
    "ExecuteTime": {
     "end_time": "2019-11-29T15:55:15.605738Z",
     "start_time": "2019-11-29T15:55:15.598062Z"
    },
    "scrolled": false
   },
   "outputs": [
    {
     "data": {
      "text/markdown": [
       "**Filter** (input_fn, output_fn, skip_unmapped, skip_secondary, skip_supplementary, orientation, min_read_len, min_align_len, min_mapq, min_freq_identity, select_ref, exclude_ref, verbose, quiet, progress, kwargs)\n",
       "\n",
       "\n",
       "\n",
       "---\n",
       "\n",
       "* **input_fn** (required) [str]\n",
       "\n",
       "Path to the bam file to filter\n",
       "\n",
       "* **output_fn** (required) [str]\n",
       "\n",
       "Path to the write filtered bam file\n",
       "\n",
       "* **skip_unmapped** (default: False) [bool]\n",
       "\n",
       "Filter out unmapped reads\n",
       "\n",
       "* **skip_secondary** (default: False) [bool]\n",
       "\n",
       "Filter out secondary alignment\n",
       "\n",
       "* **skip_supplementary** (default: False) [bool]\n",
       "\n",
       "Filter out supplementary alignment\n",
       "\n",
       "* **orientation** (default: .) [str]\n",
       "\n",
       "Orientation of alignment on reference genome {\"+\",\"-\" ,\".\"}\n",
       "\n",
       "* **min_read_len** (default: 0) [int]\n",
       "\n",
       "Minimal query read length (basecalled length)\n",
       "\n",
       "* **min_align_len** (default: 0) [int]\n",
       "\n",
       "Minimal query alignment length on reference\n",
       "\n",
       "* **min_mapq** (default: 0) [int]\n",
       "\n",
       "Minimal mapping quality score (mapq)\n",
       "\n",
       "* **min_freq_identity** (default: 0) [float]\n",
       "\n",
       "Minimal frequency of alignment identity [0 to 1]\n",
       "\n",
       "* **select_ref** (default: []) [list(str)]\n",
       "\n",
       "List of references on which the reads have to be mapped.\n",
       "\n",
       "* **exclude_ref** (default: []) [list(str)]\n",
       "\n",
       "List of references on which the reads should not be mapped.\n",
       "\n",
       "* **verbose** (default: False)\n",
       "\n",
       "* **quiet** (default: False)\n",
       "\n",
       "* **progress** (default: False)\n",
       "\n",
       "* **kwargs**\n",
       "\n"
      ],
      "text/plain": [
       "<IPython.core.display.Markdown object>"
      ]
     },
     "metadata": {},
     "output_type": "display_data"
    }
   ],
   "source": [
    "jhelp(Alignment.Filter)"
   ]
  },
  {
   "cell_type": "markdown",
   "metadata": {},
   "source": [
    "### Basic usage"
   ]
  },
  {
   "cell_type": "markdown",
   "metadata": {},
   "source": [
    "Filter all non primary reads"
   ]
  },
  {
   "cell_type": "code",
   "execution_count": 9,
   "metadata": {
    "ExecuteTime": {
     "end_time": "2019-11-29T15:55:21.302931Z",
     "start_time": "2019-11-29T15:55:15.607778Z"
    },
    "scrolled": true
   },
   "outputs": [
    {
     "name": "stderr",
     "output_type": "stream",
     "text": [
      "Checking input bam file\n",
      "Parsing reads\n",
      "Indexing output bam file\n",
      "\n",
      "Read counts summary\n",
      "\tReads retained\n",
      "\t\tprimary: 10,584\n",
      "\t\ttotal: 10,584\n",
      "\tReads discarded\n",
      "\t\ttotal: 3,100\n",
      "\t\tsecondary: 1,496\n",
      "\t\tunmapped: 1,416\n",
      "\t\tsupplementary: 188\n",
      "\n"
     ]
    },
    {
     "name": "stdout",
     "output_type": "stream",
     "text": [
      "4f20c07e-183a-4483-9313-220390 16 chr-I 2    60 328S11M5I14M1D10M4I30M2D52M1D6 * 0 0 GGCACACCCACACCACACCCACACCCACAC ##$'&$(.-,.+./(+,/844-,-;7005, NM:i:1988 ms:i:18286 AS:i:18594 nn:i:0 tp:A:P cm:i:921  s1:i:6929 s2:i:609  de:f:0.085  SA:Z:chr-VIII,562456,+,14512S1 \n",
      "f5fc15c4-0bd5-4e56-9509-625574 16 chr-I 16   60 263S37M1D18M1I9M2I19M1D10M3D4M * 0 0 CTGGGACACACCACACCCACACCACACCCA \"$#\"%+*-.1)''+)(*,$+-462/..;75 NM:i:183  ms:i:2086  AS:i:2086  nn:i:0 tp:A:P cm:i:103  s1:i:758  s2:i:357  de:f:0.0852 SA:Z:chr-VIII,562456,+,1742S12 \n",
      "4c144dc6-705a-4d0c-951f-02fd7f 16 chr-I 542  60 8S25M1I49M1D49M1I14M1I12M1D6M1 * 0 0 TTTGAGGTACGGCACTTGCCTCAGCGGTCT \"$$)*'+(.,+&%(&(10&(\"'*%$..,1- NM:i:221  ms:i:1888  AS:i:1888  nn:i:0 tp:A:P cm:i:80   s1:i:588  s2:i:370  de:f:0.1074 \n",
      "6449b796-5339-4d61-8cf4-14658f 0  chr-I 1007 60 116S17M1I51M1D21M1I3M1I41M1D26 * 0 0 TCAATTGTACTCGTTAGTTCAAGATGGTGT ''%$+'(*&,+%&$*%).)#%'&'-(1(*, NM:i:2273 ms:i:24152 AS:i:24491 nn:i:0 tp:A:P cm:i:1195 s1:i:9277 s2:i:1734 de:f:0.0799 \n",
      "f0bea8a5-a7bc-455c-b0e8-abc6ff 0  chr-I 1331 60 130S14M2D5M1D10M3D5M1I19M3D2M3 * 0 0 TCAGTGATAGCCGTTCAGTTGGTGTTAGCA 25+/-%$$$\"$%/.7&%#&&(/-2-:(++, NM:i:459  ms:i:4616  AS:i:4616  nn:i:0 tp:A:P cm:i:213  s1:i:1646 s2:i:247  de:f:0.0948 \n",
      "f50af728-e016-4c74-b48f-fe7459 0  chr-I 1708 60 57S16M2D10M2D35M2D12M1D2M1I34M * 0 0 ATATTGCTTCGTTCCGGTTATCTGGAAACG #$#(&',<3:79++($\"$#\"#&$$#()'(% NM:i:99   ms:i:1754  AS:i:1754  nn:i:0 tp:A:P cm:i:95   s1:i:698  s2:i:383  de:f:0.0686 \n",
      "3213cb66-ac07-468a-862e-4e5fd1 0  chr-I 4220 60 103S12M3D6M2D56M1I33M2D19M1I35 * 0 0 ATCGGTGGCGCTTCGTTCAATGGGTGTTTA %*)&)''),#%#)%*,2)$##%&%%&),%\" NM:i:30   ms:i:744   AS:i:744   nn:i:0 tp:A:P cm:i:40   s1:i:310  s2:i:0    de:f:0.0495 \n",
      "370dbed1-1e84-4b40-87ff-e6468b 16 chr-I 4327 60 19S21M1D33M2D32M1I2M2D19M2D39M * 0 0 TTTCCAATAGTTTAAGGTTACTACATGACA '''((,&#(''&)*,))*%0%-*298522* NM:i:449  ms:i:8048  AS:i:8048  nn:i:0 tp:A:P cm:i:459  s1:i:3247 s2:i:0    de:f:0.0594 \n",
      "9e21a7d4-1b3e-4967-856e-ca4e99 0  chr-I 4506 48 106S20M1I3M1D7M1D9M2D11M1D4M1I * 0 0 ACCGTGCTGGTTCGGATCAGCAAAGAAGTT \"%$#%$%#'%)(+%'\"#\"\"#%%)'%(*),7 NM:i:256  ms:i:336   AS:i:336   nn:i:0 tp:A:P cm:i:10   s1:i:73   s2:i:0    de:f:0.1846 \n",
      "b6a48773-8ef9-4491-b554-40d18f 16 chr-I 4949 60 242S10M1I30M1D24M1D18M2I22M2D5 * 0 0 TAAACTTGGGATGCAGAGCCTAAAAATGTT \"),(##\"#\"\"\"\"$$'('$#%$'+8.*'&)- NM:i:254  ms:i:524   AS:i:524   nn:i:0 tp:A:P cm:i:15   s1:i:119  s2:i:0    de:f:0.1917 \n",
      "\n"
     ]
    }
   ],
   "source": [
    "Alignment.Filter(\n",
    "    \"./data/sample_1.bam\", \n",
    "    \"./output/sample_1_filter.bam\",\n",
    "    skip_unmapped = True,\n",
    "    skip_supplementary = True,\n",
    "    skip_secondary = True,\n",
    "    verbose=True)\n",
    "\n",
    "head(\"./output/sample_1_filter.bam\")"
   ]
  },
  {
   "cell_type": "markdown",
   "metadata": {},
   "source": [
    "### Multi criteria filtering"
   ]
  },
  {
   "cell_type": "markdown",
   "metadata": {},
   "source": [
    "Remove unmapped, short reads and alignments, reads mapped on the minus strand, low mapq and low identity"
   ]
  },
  {
   "cell_type": "code",
   "execution_count": 10,
   "metadata": {
    "ExecuteTime": {
     "end_time": "2019-11-29T15:55:24.377871Z",
     "start_time": "2019-11-29T15:55:21.305697Z"
    },
    "scrolled": false
   },
   "outputs": [
    {
     "name": "stderr",
     "output_type": "stream",
     "text": [
      "Checking input bam file\n",
      "Parsing reads\n",
      "Indexing output bam file\n",
      "\n",
      "Read counts summary\n",
      "\tReads discarded\n",
      "\t\ttotal: 9,211\n",
      "\t\twrong_orientation: 6,168\n",
      "\t\tunmapped: 1,416\n",
      "\t\tlow_mapping_quality: 973\n",
      "\t\tlow_identity: 514\n",
      "\t\tshort_alignment: 99\n",
      "\t\tshort_read: 41\n",
      "\tReads retained\n",
      "\t\ttotal: 4,473\n",
      "\t\tprimary: 4,422\n",
      "\t\tsupplementary: 51\n",
      "\n"
     ]
    },
    {
     "name": "stdout",
     "output_type": "stream",
     "text": [
      "6449b796-5339-4d61-8cf4-14658f 0 chr-I 1007  60 116S17M1I51M1D21M1I3M1I41M1D26 * 0 0 TCAATTGTACTCGTTAGTTCAAGATGGTGT ''%$+'(*&,+%&$*%).)#%'&'-(1(*, NM:i:2273 ms:i:24152 AS:i:24491 nn:i:0 tp:A:P cm:i:1195 s1:i:9277 s2:i:1734 de:f:0.0799 \n",
      "f0bea8a5-a7bc-455c-b0e8-abc6ff 0 chr-I 1331  60 130S14M2D5M1D10M3D5M1I19M3D2M3 * 0 0 TCAGTGATAGCCGTTCAGTTGGTGTTAGCA 25+/-%$$$\"$%/.7&%#&&(/-2-:(++, NM:i:459  ms:i:4616  AS:i:4616  nn:i:0 tp:A:P cm:i:213  s1:i:1646 s2:i:247  de:f:0.0948 \n",
      "f50af728-e016-4c74-b48f-fe7459 0 chr-I 1708  60 57S16M2D10M2D35M2D12M1D2M1I34M * 0 0 ATATTGCTTCGTTCCGGTTATCTGGAAACG #$#(&',<3:79++($\"$#\"#&$$#()'(% NM:i:99   ms:i:1754  AS:i:1754  nn:i:0 tp:A:P cm:i:95   s1:i:698  s2:i:383  de:f:0.0686 \n",
      "3213cb66-ac07-468a-862e-4e5fd1 0 chr-I 4220  60 103S12M3D6M2D56M1I33M2D19M1I35 * 0 0 ATCGGTGGCGCTTCGTTCAATGGGTGTTTA %*)&)''),#%#)%*,2)$##%&%%&),%\" NM:i:30   ms:i:744   AS:i:744   nn:i:0 tp:A:P cm:i:40   s1:i:310  s2:i:0    de:f:0.0495 \n",
      "a93f0bb3-2ac6-4139-9eea-618d3d 0 chr-I 5549  60 9S9M1I14M1I4M3D3M1I9M1D27M1D5M * 0 0 ACAATGGTTTTTTATAGAGACATATTTTTT \"\"'\"\"\"\"\"%&%&&-0'+''-+)+)2-;84, NM:i:209  ms:i:2678  AS:i:2678  nn:i:0 tp:A:P cm:i:127  s1:i:1031 s2:i:0    de:f:0.078  \n",
      "68ef24e6-a3c8-4c7e-a10e-b9db60 0 chr-I 6611  60 92S38M2D12M1D25M1D22M1D17M2D4M * 0 0 TCAGTACTTCGTTCAGTAACCAAGAAAGTT &\"##&$*)*%(+22$###\"$#*(%*.-1/< NM:i:64   ms:i:1366  AS:i:1366  nn:i:0 tp:A:P cm:i:73   s1:i:526  s2:i:0    de:f:0.058  \n",
      "4eb0b340-2c98-4d05-921e-25a33f 0 chr-I 7967  60 112S12M1I80M1D7M1D9M3D15M1I25M * 0 0 CTCAGTATGCTTCGTTCAGTCAGACTGGGT #$$%#'%-$12<7666.'$)*$&%$&).43 NM:i:87   ms:i:1128  AS:i:1128  nn:i:0 tp:A:P cm:i:56   s1:i:429  s2:i:0    de:f:0.0752 \n",
      "1c657032-c062-4728-ae39-f455bd 0 chr-I 12969 60 98S6M1I12M1I25M1D14M3D16M1I92M * 0 0 ATCGGTATGCTTCGTTCAGGTGTTTAACCA \"\"%'&)(.$33<42%####/')+>=48/3) NM:i:40   ms:i:940   AS:i:940   nn:i:0 tp:A:P cm:i:55   s1:i:364  s2:i:129  de:f:0.0527 \n",
      "3b2856a0-7f61-4829-ae09-d3ed6b 0 chr-I 15150 60 101S12M1I12M1I6M1D2M1D13M2D6M2 * 0 0 CTCATTGCTTCGTTTCGGTTGCCTCGATTC %,(%&&\"%+)0021+###$#\"&(,.55:>8 NM:i:112  ms:i:806   AS:i:806   nn:i:0 tp:A:P cm:i:23   s1:i:229  s2:i:136  de:f:0.1199 \n",
      "54df109b-0ddf-48db-b7c0-8eecfe 0 chr-I 16913 60 46S13M2D63M1D43M2D30M2D8M2D16M * 0 0 TCGGTTTTCGACATCGTGAAACGCTTTCGC \"\"#\"\"**-'&&&+-,'$$,/(++)-/+##% NM:i:52   ms:i:898   AS:i:898   nn:i:0 tp:A:P cm:i:41   s1:i:319  s2:i:145  de:f:0.0558 \n",
      "\n"
     ]
    }
   ],
   "source": [
    "Alignment.Filter(\n",
    "    \"./data/sample_1.bam\", \n",
    "    \"./output/sample_1_filter.bam\",\n",
    "    skip_unmapped = True,\n",
    "    min_read_len=300,\n",
    "    min_align_len=300,\n",
    "    orientation = \"+\",\n",
    "    min_mapq = 10,\n",
    "    min_freq_identity=0.8,\n",
    "    verbose=True)\n",
    "\n",
    "head(\"./output/sample_1_filter.bam\") "
   ]
  },
  {
   "cell_type": "markdown",
   "metadata": {},
   "source": [
    "## To_fastq"
   ]
  },
  {
   "cell_type": "code",
   "execution_count": 11,
   "metadata": {
    "ExecuteTime": {
     "end_time": "2019-11-29T15:55:24.384147Z",
     "start_time": "2019-11-29T15:55:24.379941Z"
    }
   },
   "outputs": [
    {
     "data": {
      "text/markdown": [
       "**To_fastq** (input_fn, output_r1_fn, output_r2_fn, ignore_paired_end, verbose, quiet, progress, kwargs)\n",
       "\n",
       "Dump reads from an alignment file or set of alignment file(s) to a fastq or pair of fastq file(s). Only the primary alignment are kept and paired_end reads are assumed to be interleaved. Compatible with unmapped or unaligned alignment files as well as files without header.\n",
       "\n",
       "---\n",
       "\n",
       "* **input_fn** (required) [list(str)]\n",
       "\n",
       "Path (or list of paths) to input BAM/CRAM/SAM file(s)\n",
       "\n",
       "* **output_r1_fn** (required) [str]\n",
       "\n",
       "Path to an output fastq file (for Read1 in paired_end mode of output_r2_fn is provided). Automatically gzipped if the .gz extension is found\n",
       "\n",
       "* **output_r2_fn** (default: None) [str]\n",
       "\n",
       "Optional Path to an output fastq file. Automatically gzipped if the .gz extension is found\n",
       "\n",
       "* **ignore_paired_end** (default: False) [bool]\n",
       "\n",
       "Ignore paired_end information and output everything in a single file.\n",
       "\n",
       "* **verbose** (default: False)\n",
       "\n",
       "* **quiet** (default: False)\n",
       "\n",
       "* **progress** (default: False)\n",
       "\n",
       "* **kwargs**\n",
       "\n"
      ],
      "text/plain": [
       "<IPython.core.display.Markdown object>"
      ]
     },
     "metadata": {},
     "output_type": "display_data"
    }
   ],
   "source": [
    "jhelp(Alignment.To_fastq)"
   ]
  },
  {
   "cell_type": "markdown",
   "metadata": {},
   "source": [
    "### Single end read usage from bam files"
   ]
  },
  {
   "cell_type": "code",
   "execution_count": 12,
   "metadata": {
    "ExecuteTime": {
     "end_time": "2019-11-29T15:56:01.654178Z",
     "start_time": "2019-11-29T15:55:24.385927Z"
    }
   },
   "outputs": [
    {
     "name": "stderr",
     "output_type": "stream",
     "text": [
      "Opening file ./output/sample_1-2_SE_from_bam.fastq.gz in writing mode\n",
      "Parsing reads\n",
      "Reading input file ./data/sample_1.bam\n",
      "\tReading: 12000 Reads [00:18, 666.59 Reads/s] \n",
      "\tReached end of input file ./data/sample_1.bam\n",
      "Reading input file ./data/sample_2.bam\n",
      "\tReading: 12000 Reads [00:19, 624.29 Reads/s] \n",
      "\tReached end of input file ./data/sample_2.bam\n",
      "Closing file:./output/sample_1-2_SE_from_bam.fastq.gz\n",
      "\tSequences writen: 24000\n"
     ]
    }
   ],
   "source": [
    "Alignment.To_fastq(\n",
    "    input_fn=[\"./data/sample_1.bam\", \"./data/sample_2.bam\"],\n",
    "    output_r1_fn=\"./output/sample_1-2_SE_from_bam.fastq.gz\",\n",
    "    verbose=True,\n",
    "    progress=True)"
   ]
  },
  {
   "cell_type": "markdown",
   "metadata": {},
   "source": [
    "###  Paired-end reads usage from unaligned CRAM files"
   ]
  },
  {
   "cell_type": "code",
   "execution_count": 13,
   "metadata": {
    "ExecuteTime": {
     "end_time": "2019-11-29T15:56:09.121426Z",
     "start_time": "2019-11-29T15:56:01.655784Z"
    }
   },
   "outputs": [
    {
     "name": "stderr",
     "output_type": "stream",
     "text": [
      "Opening file ./output/sample_1-2_PE_from_CRAM_1.fastq.gz in writing mode\n",
      "Opening file ./output/sample_1-2_PE_from_CRAM_2.fastq.gz in writing mode\n",
      "Parsing reads\n",
      "Reading input file ./data/sample_1_20k.cram\n",
      "\tReading: 12000 Reads [00:03, 3291.93 Reads/s]\n",
      "\tReached end of input file ./data/sample_1_20k.cram\n",
      "Reading input file ./data/sample_2_20k.cram\n",
      "\tReading: 12000 Reads [00:03, 3155.23 Reads/s]\n",
      "\tReached end of input file ./data/sample_2_20k.cram\n",
      "Closing file:./output/sample_1-2_PE_from_CRAM_1.fastq.gz\n",
      "\tSequences writen: 24000\n",
      "Closing file:./output/sample_1-2_PE_from_CRAM_2.fastq.gz\n",
      "\tSequences writen: 24000\n"
     ]
    }
   ],
   "source": [
    "Alignment.To_fastq(\n",
    "    input_fn=[\"./data/sample_1_20k.cram\", \"./data/sample_2_20k.cram\"],\n",
    "    output_r1_fn=\"./output/sample_1-2_PE_from_CRAM_1.fastq.gz\",\n",
    "    output_r2_fn=\"./output/sample_1-2_PE_from_CRAM_2.fastq.gz\",\n",
    "    verbose=True,\n",
    "    progress=True)"
   ]
  }
 ],
 "metadata": {
  "celltoolbar": "Initialization Cell",
  "hide_input": false,
  "kernelspec": {
   "display_name": "pyBioTools",
   "language": "python",
   "name": "pybiotools"
  },
  "language_info": {
   "codemirror_mode": {
    "name": "ipython",
    "version": 3
   },
   "file_extension": ".py",
   "mimetype": "text/x-python",
   "name": "python",
   "nbconvert_exporter": "python",
   "pygments_lexer": "ipython3",
   "version": "3.6.6"
  }
 },
 "nbformat": 4,
 "nbformat_minor": 2
}
