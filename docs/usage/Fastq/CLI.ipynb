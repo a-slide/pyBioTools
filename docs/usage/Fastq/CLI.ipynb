{
 "cells": [
  {
   "cell_type": "markdown",
   "metadata": {},
   "source": [
    "# Fastq CLI Usage"
   ]
  },
  {
   "cell_type": "markdown",
   "metadata": {},
   "source": [
    "## Activate virtual environment"
   ]
  },
  {
   "cell_type": "code",
   "execution_count": 21,
   "metadata": {
    "ExecuteTime": {
     "end_time": "2019-10-11T16:03:20.010562Z",
     "start_time": "2019-10-11T16:03:19.201258Z"
    }
   },
   "outputs": [
    {
     "name": "stdout",
     "output_type": "stream",
     "text": [
      "(pyBioTools) (pyBioTools) "
     ]
    },
    {
     "ename": "",
     "evalue": "1",
     "output_type": "error",
     "traceback": []
    }
   ],
   "source": [
    "# Using virtualenvwrapper here but can also be done with Conda \n",
    "workon pyBioTools"
   ]
  },
  {
   "cell_type": "markdown",
   "metadata": {},
   "source": [
    "## filter_reads"
   ]
  },
  {
   "cell_type": "markdown",
   "metadata": {},
   "source": [
    "### Get help"
   ]
  },
  {
   "cell_type": "code",
   "execution_count": 22,
   "metadata": {
    "ExecuteTime": {
     "end_time": "2019-10-11T16:03:22.014697Z",
     "start_time": "2019-10-11T16:03:21.541583Z"
    }
   },
   "outputs": [
    {
     "name": "stdout",
     "output_type": "stream",
     "text": [
      "usage: pyBioTools Fastq Filter [-h] -i INPUT_FN -o OUTPUT_FN [-l MIN_LEN]\n",
      "                               [-u MIN_QUAL] [-r] [-f QUAL_OFFSET] [-v | -q]\n",
      "\n",
      "Filter fastq reads based on their length, mean quality and the presence of\n",
      "duplicates. Can also be used to concatenate reads from multiple files in a\n",
      "single one.\n",
      "\n",
      "optional arguments:\n",
      "  -h, --help            show this help message and exit\n",
      "  -i INPUT_FN, --input_fn INPUT_FN\n",
      "                        Fastq file path or directory containing fastq files or\n",
      "                        list of files, or regex or list of regex. It is quite\n",
      "                        flexible. (required) [str]\n",
      "  -o OUTPUT_FN, --output_fn OUTPUT_FN\n",
      "                        Destination fastq file. Automatically gzipped if the\n",
      "                        .gz extension is found (required) [str]\n",
      "  -l MIN_LEN, --min_len MIN_LEN\n",
      "                        Minimal reads length (default: None) [int]\n",
      "  -u MIN_QUAL, --min_qual MIN_QUAL\n",
      "                        Minimal mean read PHRED quality (default: None)\n",
      "                        [float]\n",
      "  -r, --remove_duplicates\n",
      "                        If true duplicated reads with the same read id are\n",
      "                        discarded (default: False) [None]\n",
      "  -f QUAL_OFFSET, --qual_offset QUAL_OFFSET\n",
      "                        Quality scoring system off set. Nowadays pretty much\n",
      "                        everyone uses +33 (default: 33) [int]\n",
      "  -v, --verbose         Increase verbosity (default: False)\n",
      "  -q, --quiet           Reduce verbosity (default: False)\n",
      "(pyBioTools) "
     ]
    },
    {
     "ename": "",
     "evalue": "1",
     "output_type": "error",
     "traceback": []
    }
   ],
   "source": [
    "pyBioTools Fastq Filter -h"
   ]
  },
  {
   "cell_type": "markdown",
   "metadata": {},
   "source": [
    "### Basic usage"
   ]
  },
  {
   "cell_type": "code",
   "execution_count": 23,
   "metadata": {
    "ExecuteTime": {
     "end_time": "2019-10-11T16:03:27.096210Z",
     "start_time": "2019-10-11T16:03:24.620400Z"
    },
    "scrolled": true
   },
   "outputs": [
    {
     "name": "stdout",
     "output_type": "stream",
     "text": [
      "Parsing reads\n",
      "Reads processed : 12000 reads [00:01, 6064.12 reads/s]\n",
      "\n",
      "Read counts summary\n",
      "\ttotal_reads: 12,000\n",
      "\tvalid_reads: 10,882\n",
      "\tlow_qual_reads: 643\n",
      "\tshort_reads: 474\n",
      "\tsource files: 1\n",
      "\tduplicate_reads: 1\n",
      "\n",
      "(pyBioTools) "
     ]
    },
    {
     "ename": "",
     "evalue": "1",
     "output_type": "error",
     "traceback": []
    }
   ],
   "source": [
    "pyBioTools Fastq Filter -i ./data/sample_1.fastq -o ./output/sample_1_filtered.fastq --min_len 100 --min_qual 7 --remove_duplicates --verbose"
   ]
  },
  {
   "cell_type": "markdown",
   "metadata": {},
   "source": [
    "### All fastq from a directory instead and write to compressed fastq"
   ]
  },
  {
   "cell_type": "code",
   "execution_count": 24,
   "metadata": {
    "ExecuteTime": {
     "end_time": "2019-10-11T16:04:00.217229Z",
     "start_time": "2019-10-11T16:03:27.254797Z"
    },
    "scrolled": true
   },
   "outputs": [
    {
     "name": "stdout",
     "output_type": "stream",
     "text": [
      "Parsing reads\n",
      "Reads processed : 24000 reads [00:32, 740.05 reads/s]\n",
      "\n",
      "Read counts summary\n",
      "\ttotal_reads: 24,000\n",
      "\tvalid_reads: 21,809\n",
      "\tlow_qual_reads: 1,304\n",
      "\tshort_reads: 887\n",
      "\tsource files: 2\n",
      "\n",
      "(pyBioTools) "
     ]
    },
    {
     "ename": "",
     "evalue": "1",
     "output_type": "error",
     "traceback": []
    }
   ],
   "source": [
    "pyBioTools Fastq Filter -i ./data/ -o ./output/sample_1_filtered.fastq.gz --min_len 100 --min_qual 7 --verbose"
   ]
  }
 ],
 "metadata": {
  "celltoolbar": "Initialization Cell",
  "hide_input": false,
  "kernelspec": {
   "display_name": "Bash",
   "language": "bash",
   "name": "bash"
  },
  "language_info": {
   "codemirror_mode": "shell",
   "file_extension": ".sh",
   "mimetype": "text/x-sh",
   "name": "bash"
  }
 },
 "nbformat": 4,
 "nbformat_minor": 2
}
