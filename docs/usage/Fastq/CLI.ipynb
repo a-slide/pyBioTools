{
 "cells": [
  {
   "cell_type": "markdown",
   "metadata": {},
   "source": [
    "# Fastq CLI Usage"
   ]
  },
  {
   "cell_type": "markdown",
   "metadata": {},
   "source": [
    "## Activate virtual environment"
   ]
  },
  {
   "cell_type": "code",
   "execution_count": 1,
   "metadata": {
    "ExecuteTime": {
     "end_time": "2020-01-30T11:56:40.790892Z",
     "start_time": "2020-01-30T11:56:40.095984Z"
    }
   },
   "outputs": [
    {
     "name": "stdout",
     "output_type": "stream",
     "text": [
      "(pyBioTools) "
     ]
    },
    {
     "ename": "",
     "evalue": "1",
     "output_type": "error",
     "traceback": []
    }
   ],
   "source": [
    "# Using virtualenvwrapper here but can also be done with Conda \n",
    "workon pyBioTools"
   ]
  },
  {
   "cell_type": "markdown",
   "metadata": {},
   "source": [
    "## filter_reads"
   ]
  },
  {
   "cell_type": "markdown",
   "metadata": {},
   "source": [
    "### Get help"
   ]
  },
  {
   "cell_type": "code",
   "execution_count": 2,
   "metadata": {
    "ExecuteTime": {
     "end_time": "2020-01-30T11:56:46.575747Z",
     "start_time": "2020-01-30T11:56:46.076328Z"
    }
   },
   "outputs": [
    {
     "name": "stdout",
     "output_type": "stream",
     "text": [
      "usage: pyBioTools Fastq Filter [-h] -i INPUT_FN -o OUTPUT_FN [-l MIN_LEN]\n",
      "                               [-u MIN_QUAL] [-r] [-f QUAL_OFFSET] [-v] [-q]\n",
      "                               [--progress]\n",
      "\n",
      "Filter fastq reads based on their length, mean quality and the presence of\n",
      "duplicates. Can also be used to concatenate reads from multiple files in a\n",
      "single one.\n",
      "\n",
      "optional arguments:\n",
      "  -h, --help            show this help message and exit\n",
      "  -i INPUT_FN, --input_fn INPUT_FN\n",
      "                        Fastq file path or directory containing fastq files or\n",
      "                        list of files, or regex or list of regex. It is quite\n",
      "                        flexible. (required) [str]\n",
      "  -o OUTPUT_FN, --output_fn OUTPUT_FN\n",
      "                        Destination fastq file. Automatically gzipped if the\n",
      "                        .gz extension is found (required) [str]\n",
      "  -l MIN_LEN, --min_len MIN_LEN\n",
      "                        Minimal reads length (default: None) [int]\n",
      "  -u MIN_QUAL, --min_qual MIN_QUAL\n",
      "                        Minimal mean read PHRED quality (default: None)\n",
      "                        [float]\n",
      "  -r, --remove_duplicates\n",
      "                        If true duplicated reads with the same read id are\n",
      "                        discarded (default: False) [None]\n",
      "  -f QUAL_OFFSET, --qual_offset QUAL_OFFSET\n",
      "                        Quality scoring system off set. Nowadays pretty much\n",
      "                        everyone uses +33 (default: 33) [int]\n",
      "  -v, --verbose         Increase verbosity (default: False)\n",
      "  -q, --quiet           Reduce verbosity (default: False)\n",
      "  --progress            Display a progress bar\n",
      "(pyBioTools) "
     ]
    },
    {
     "ename": "",
     "evalue": "1",
     "output_type": "error",
     "traceback": []
    }
   ],
   "source": [
    "pyBioTools Fastq Filter -h"
   ]
  },
  {
   "cell_type": "markdown",
   "metadata": {},
   "source": [
    "### Basic usage"
   ]
  },
  {
   "cell_type": "code",
   "execution_count": 3,
   "metadata": {
    "ExecuteTime": {
     "end_time": "2020-01-30T11:56:53.033326Z",
     "start_time": "2020-01-30T11:56:50.265347Z"
    },
    "scrolled": true
   },
   "outputs": [
    {
     "name": "stdout",
     "output_type": "stream",
     "text": [
      "## Running Fastq Filter ##\n",
      "\tParsing reads\n",
      "\t[DEBUG] [Fastq_Filter] Reading file ./data/sample_1.fastq\n",
      "\tRead counts summary\n",
      "\t total_reads: 12,000\n",
      "\t valid_reads: 10,882\n",
      "\t low_qual_reads: 643\n",
      "\t short_reads: 474\n",
      "\t source files: 1\n",
      "\t duplicate_reads: 1\n",
      "(pyBioTools) "
     ]
    },
    {
     "ename": "",
     "evalue": "1",
     "output_type": "error",
     "traceback": []
    }
   ],
   "source": [
    "pyBioTools Fastq Filter -i ./data/sample_1.fastq -o ./output/sample_1_filtered.fastq --min_len 100 --min_qual 7 --remove_duplicates --verbose"
   ]
  },
  {
   "cell_type": "markdown",
   "metadata": {},
   "source": [
    "### All fastq from a directory instead and write to compressed fastq"
   ]
  },
  {
   "cell_type": "code",
   "execution_count": null,
   "metadata": {
    "ExecuteTime": {
     "end_time": "2020-01-30T11:56:53.034459Z",
     "start_time": "2020-01-30T11:56:51.635Z"
    },
    "scrolled": true
   },
   "outputs": [],
   "source": [
    "pyBioTools Fastq Filter -i ./data/ -o ./output/sample_1_filtered.fastq.gz --min_len 100 --min_qual 7 --verbose"
   ]
  }
 ],
 "metadata": {
  "celltoolbar": "Initialization Cell",
  "hide_input": false,
  "kernelspec": {
   "display_name": "Bash",
   "language": "bash",
   "name": "bash"
  },
  "language_info": {
   "codemirror_mode": "shell",
   "file_extension": ".sh",
   "mimetype": "text/x-sh",
   "name": "bash"
  }
 },
 "nbformat": 4,
 "nbformat_minor": 2
}
