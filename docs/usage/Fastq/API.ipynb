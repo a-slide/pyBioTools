{
 "cells": [
  {
   "cell_type": "markdown",
   "metadata": {},
   "source": [
    "# Fastq API Usage"
   ]
  },
  {
   "cell_type": "markdown",
   "metadata": {},
   "source": [
    "## Import package"
   ]
  },
  {
   "cell_type": "code",
   "execution_count": 7,
   "metadata": {
    "ExecuteTime": {
     "end_time": "2021-01-19T15:32:34.436266Z",
     "start_time": "2021-01-19T15:32:34.429491Z"
    },
    "init_cell": true
   },
   "outputs": [],
   "source": [
    "from pyBioTools import Fastq\n",
    "from pyBioTools.common import jhelp"
   ]
  },
  {
   "cell_type": "markdown",
   "metadata": {},
   "source": [
    "## index_reads"
   ]
  },
  {
   "cell_type": "code",
   "execution_count": 8,
   "metadata": {
    "ExecuteTime": {
     "end_time": "2021-01-19T15:32:35.619717Z",
     "start_time": "2021-01-19T15:32:35.602836Z"
    },
    "scrolled": false
   },
   "outputs": [
    {
     "data": {
      "text/markdown": [
       "**Filter** (input_fn, output_fn, min_len, min_qual, remove_duplicates, qual_offset, verbose, quiet, progress, kwargs)\n",
       "\n",
       "Filter fastq reads based on their length, mean quality and the presence of duplicates. Can also be used to concatenate reads from multiple files in a single one.\n",
       "\n",
       "---\n",
       "\n",
       "* **input_fn** (required) [list(str)]\n",
       "\n",
       "Fastq file path or directory containing fastq files or list of files, or regex or list of regex. It is quite flexible.\n",
       "\n",
       "* **output_fn** (required) [str]\n",
       "\n",
       "Destination fastq file. Automatically gzipped if the .gz extension is found\n",
       "\n",
       "* **min_len** (default: None) [int]\n",
       "\n",
       "Minimal reads length\n",
       "\n",
       "* **min_qual** (default: None) [float]\n",
       "\n",
       "Minimal mean read PHRED quality\n",
       "\n",
       "* **remove_duplicates** (default: False) [bool]\n",
       "\n",
       "If true duplicated reads with the same read id are discarded\n",
       "\n",
       "* **qual_offset** (default: 33) [int]\n",
       "\n",
       "Quality scoring system off set. Nowadays pretty much everyone uses +33\n",
       "\n",
       "* **verbose** (default: False) [bool]\n",
       "\n",
       "* **quiet** (default: False) [bool]\n",
       "\n",
       "* **progress** (default: False) [bool]\n",
       "\n",
       "* **kwargs**\n",
       "\n"
      ],
      "text/plain": [
       "<IPython.core.display.Markdown object>"
      ]
     },
     "metadata": {},
     "output_type": "display_data"
    }
   ],
   "source": [
    "jhelp(Fastq.Filter)"
   ]
  },
  {
   "cell_type": "markdown",
   "metadata": {},
   "source": [
    "### Basic usage"
   ]
  },
  {
   "cell_type": "code",
   "execution_count": 9,
   "metadata": {
    "ExecuteTime": {
     "end_time": "2021-01-19T15:32:38.828758Z",
     "start_time": "2021-01-19T15:32:36.692756Z"
    },
    "scrolled": true
   },
   "outputs": [
    {
     "name": "stderr",
     "output_type": "stream",
     "text": [
      "\u001b[01;34m## Running Fastq Filter ##\u001b[0m\n",
      "\u001b[32m\tParsing reads\u001b[0m\n",
      "\u001b[37m\t[DEBUG]: Reading file ./data/sample_1.fastq\u001b[0m\n",
      "\u001b[37m\t[DEBUG]: End of file ./data/sample_1.fastq\u001b[0m\n",
      "\u001b[32m\tRead counts summary\u001b[0m\n",
      "\u001b[32m\t total_reads: 12,000\u001b[0m\n",
      "\u001b[32m\t valid_reads: 10,882\u001b[0m\n",
      "\u001b[32m\t low_qual_reads: 643\u001b[0m\n",
      "\u001b[32m\t short_reads: 474\u001b[0m\n",
      "\u001b[32m\t source files: 1\u001b[0m\n",
      "\u001b[32m\t duplicate_reads: 1\u001b[0m\n"
     ]
    }
   ],
   "source": [
    "Fastq.Filter (\"./data/sample_1.fastq\", \"./output/sample_1_filtered.fastq\", min_len=100, min_qual=7, remove_duplicates=True, verbose=True)"
   ]
  },
  {
   "cell_type": "markdown",
   "metadata": {},
   "source": [
    "### All fastq from a directory instead and write to compressed fastq"
   ]
  },
  {
   "cell_type": "code",
   "execution_count": 10,
   "metadata": {
    "ExecuteTime": {
     "end_time": "2021-01-19T15:33:12.899990Z",
     "start_time": "2021-01-19T15:32:38.833497Z"
    },
    "scrolled": false
   },
   "outputs": [
    {
     "name": "stderr",
     "output_type": "stream",
     "text": [
      "\u001b[01;34m## Running Fastq Filter ##\u001b[0m\n",
      "\u001b[32m\tParsing reads\u001b[0m\n",
      "\u001b[37m\t[DEBUG]: Reading file ./data/sample_1.fastq\u001b[0m\n",
      "\u001b[37m\t[DEBUG]: End of file ./data/sample_1.fastq\u001b[0m\n",
      "\u001b[37m\t[DEBUG]: Reading file ./data/sample_2.fastq\u001b[0m\n",
      "\u001b[37m\t[DEBUG]: End of file ./data/sample_2.fastq\u001b[0m\n",
      "\u001b[32m\tRead counts summary\u001b[0m\n",
      "\u001b[32m\t total_reads: 24,000\u001b[0m\n",
      "\u001b[32m\t valid_reads: 21,809\u001b[0m\n",
      "\u001b[32m\t low_qual_reads: 1,304\u001b[0m\n",
      "\u001b[32m\t short_reads: 887\u001b[0m\n",
      "\u001b[32m\t source files: 2\u001b[0m\n"
     ]
    }
   ],
   "source": [
    "Fastq.Filter (\"./data/\", \"./output/sample_1_filtered.fastq.gz\", min_len=100, min_qual=7, verbose=True)"
   ]
  }
 ],
 "metadata": {
  "celltoolbar": "Initialization Cell",
  "hide_input": false,
  "kernelspec": {
   "display_name": "Python [conda env:pyBioTools]",
   "language": "python",
   "name": "conda-env-pyBioTools-py"
  },
  "language_info": {
   "codemirror_mode": {
    "name": "ipython",
    "version": 3
   },
   "file_extension": ".py",
   "mimetype": "text/x-python",
   "name": "python",
   "nbconvert_exporter": "python",
   "pygments_lexer": "ipython3",
   "version": "3.7.9"
  }
 },
 "nbformat": 4,
 "nbformat_minor": 2
}
